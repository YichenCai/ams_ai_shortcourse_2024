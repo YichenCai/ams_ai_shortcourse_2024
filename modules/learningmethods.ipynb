{
  "nbformat": 4,
  "nbformat_minor": 0,
  "metadata": {
    "colab": {
      "provenance": [],
      "include_colab_link": true
    },
    "kernelspec": {
      "name": "python3",
      "display_name": "Python 3"
    },
    "language_info": {
      "name": "python"
    }
  },
  "cells": [
    {
      "cell_type": "markdown",
      "metadata": {
        "id": "view-in-github",
        "colab_type": "text"
      },
      "source": [
        "<a href=\"https://colab.research.google.com/github/YichenCai/ams_ai_shortcourse_2024/blob/main/modules/learningmethods.ipynb\" target=\"_parent\"><img src=\"https://colab.research.google.com/assets/colab-badge.svg\" alt=\"Open In Colab\"/></a>"
      ]
    },
    {
      "cell_type": "markdown",
      "source": [
        "# **AMS 2024 AI Short Course: Learning Methods in AI**\n",
        "\n",
        "---\n",
        "\n",
        "*Notebook by Maria J. Molina (University of Maryland, College Park)*"
      ],
      "metadata": {
        "id": "pwgWAFL8GZWw"
      }
    },
    {
      "cell_type": "markdown",
      "source": [
        "This Colab Notebook demonstrates different types of learning methods in artificial intelligence, with a specific focus on supervised and unsupervised learning, along with regression and classification problems."
      ],
      "metadata": {
        "id": "-Eo_OAT7Ppqn"
      }
    },
    {
      "cell_type": "markdown",
      "source": [
        "## **Supervised Learning**\n",
        "\n",
        "---\n",
        "\n",
        "Supervised learning refers to machine learning tasks where the dataset used contains both the predictors (x) and predictands (y) *a priori.* In other words, these are situations where we know the \"answer(s)\" beforehand. This information is useful for supervised tasks because the machine learning model can receive information about the skill of its own predictions based on the known predictands, and then these signals are used to update model weights accordingly to improve subsequent predictions. The predictand(s) can be continuous or discrete, which would lend itself to a regression or classification type of problem respectively.\n",
        "\n",
        "We often refer to the predictands as \"labels,\" particularly in the case of classification problems.\n",
        "\n"
      ],
      "metadata": {
        "id": "cHloNSeDZ2eU"
      }
    },
    {
      "cell_type": "markdown",
      "source": [
        "![supervised](https://drive.google.com/uc?export=view&id=1g74XtOQO7jZsEUxHEDnD4aKYAOOnhQjE)"
      ],
      "metadata": {
        "id": "leLgZajv6xGk"
      }
    },
    {
      "cell_type": "markdown",
      "source": [
        "Labels can be of different data types, such as:\n",
        "\n",
        "*   Single point value\n",
        "*   Single image pixel (i.e., grid-cell)\n",
        "*   Image-based (i.e., spatial in nature)\n",
        "*   Temporal (i.e., time series)\n",
        "\n",
        "In supervised learning, we can have regression or classification problems, which are further detailed below."
      ],
      "metadata": {
        "id": "3Nh2ooRNFj7W"
      }
    },
    {
      "cell_type": "markdown",
      "source": [
        "## Regression\n",
        "\n",
        "---\n",
        "\n",
        "**In regression problems**, we aim to predict the specific value of *something*. These values are generally continuous in nature. A simple example from statistics would be a linear regression y = mx + b, where y (our predictand) would be a continuous value that we can predict using our input x (our predictor)."
      ],
      "metadata": {
        "id": "esxC_D-RPp0z"
      }
    },
    {
      "cell_type": "markdown",
      "source": [
        "![supervised](https://drive.google.com/uc?export=view&id=1itJDHx1gq4WqEQ00hxKafMQ9-A9BjEhB)\n"
      ],
      "metadata": {
        "id": "ntxfSbLh-ADd"
      }
    },
    {
      "cell_type": "markdown",
      "source": [
        "Some examples of regression problems in the environmental sciences could include:\n",
        "\n",
        "*   tropical cyclone maximum wind speed at a certain lead time\n",
        "*   maximum land surface temperature in an urban area\n",
        "*   percentage of cloud coverage over a predifined domain\n",
        "*   bias correction of subseasonal forecasts of precipitation\n",
        "\n",
        "Importantly, when using various input variables (i.e., features or channels), normalizing or standardizing the variables is needed to make sure they have a similar dynamic range. Otherwise, some input variables may have much larger magnitudes than other input variables, limiting their contributions to the learning process. By normalizing/standardizing our features, we facilitate meaningful comparisons between features. This practice can also improve machine learning model convergence.\n",
        "\n",
        "Standardization involves centering the respective data to have a mean of zero and a standard deviation of one, which can be achieved by subtracting the mean and dividing by the standard deviation (i.e., z-score). Normalization involves the scaling of data to a set range, such as from 0 to +1 or -1 to +1, by using the minimum and maximum values of the respective variable."
      ],
      "metadata": {
        "id": "d-uDePYn-apy"
      }
    },
    {
      "cell_type": "markdown",
      "source": [
        "Here we have some helper functions for normalizing and standardizing our data using numpy."
      ],
      "metadata": {
        "id": "WmqM9d_sEJHu"
      }
    },
    {
      "cell_type": "code",
      "source": [
        "import numpy as np\n",
        "\n",
        "def z_score(da):\n",
        "    \"\"\"\n",
        "    Compute z-score for training data.\n",
        "    Normalizing data for ML model training.\n",
        "    Args:\n",
        "        da (array): Array of training variable.\n",
        "    \"\"\"\n",
        "    return (da - np.mean(da)) / np.std(da)\n",
        "\n",
        "def min_max_scale(da):\n",
        "    \"\"\"\n",
        "    Scale training data by minimum and maximum values.\n",
        "    Args:\n",
        "        da (array): Array of training variable.\n",
        "    \"\"\"\n",
        "    return (da - np.min(da)) / (np.max(da) - np.min(da))"
      ],
      "metadata": {
        "id": "uA1hA1WUC-R-"
      },
      "execution_count": 68,
      "outputs": []
    },
    {
      "cell_type": "markdown",
      "source": [
        "We can create a little random array just to visualize what the normalization and standardization methods do to our data."
      ],
      "metadata": {
        "id": "FMwM6y2KFe0J"
      }
    },
    {
      "cell_type": "code",
      "source": [
        "np.random.seed(0)\n",
        "sample_array = np.random.rand(10)\n",
        "print(sample_array)"
      ],
      "metadata": {
        "colab": {
          "base_uri": "https://localhost:8080/"
        },
        "id": "J44BpbaEEi3g",
        "outputId": "8a85a1b1-6ad8-4ccc-f863-aa77a79a8528"
      },
      "execution_count": 70,
      "outputs": [
        {
          "output_type": "stream",
          "name": "stdout",
          "text": [
            "[0.5488135  0.71518937 0.60276338 0.54488318 0.4236548  0.64589411\n",
            " 0.43758721 0.891773   0.96366276 0.38344152]\n"
          ]
        }
      ]
    },
    {
      "cell_type": "code",
      "source": [
        "import matplotlib.pyplot as plt\n",
        "\n",
        "plt.hist(sample_array)\n",
        "plt.show()"
      ],
      "metadata": {
        "colab": {
          "base_uri": "https://localhost:8080/",
          "height": 430
        },
        "id": "4J-FyS5iE13t",
        "outputId": "3e432508-de89-4a2e-e724-4582a4490192"
      },
      "execution_count": 3,
      "outputs": [
        {
          "output_type": "display_data",
          "data": {
            "text/plain": [
              "<Figure size 640x480 with 1 Axes>"
            ],
            "image/png": "[encoded data removed]"
          },
          "metadata": {}
        }
      ]
    },
    {
      "cell_type": "code",
      "source": [
        "plt.hist(z_score(sample_array))\n",
        "plt.title('z-score')\n",
        "plt.show()\n",
        "\n",
        "plt.hist(min_max_scale(sample_array))\n",
        "plt.title('min-max')\n",
        "plt.show()"
      ],
      "metadata": {
        "colab": {
          "base_uri": "https://localhost:8080/",
          "height": 216
        },
        "id": "GJ2xJLedE2K6",
        "outputId": "a26881c1-37b5-478b-b249-1e00b74d1bf2"
      },
      "execution_count": 69,
      "outputs": [
        {
          "output_type": "error",
          "ename": "NameError",
          "evalue": "name 'sample_array' is not defined",
          "traceback": [
            "\u001b[0;31m---------------------------------------------------------------------------\u001b[0m",
            "\u001b[0;31mNameError\u001b[0m                                 Traceback (most recent call last)",
            "\u001b[0;32m/tmp/ipython-input-168724145.py\u001b[0m in \u001b[0;36m<cell line: 0>\u001b[0;34m()\u001b[0m\n\u001b[0;32m----> 1\u001b[0;31m \u001b[0mplt\u001b[0m\u001b[0;34m.\u001b[0m\u001b[0mhist\u001b[0m\u001b[0;34m(\u001b[0m\u001b[0mz_score\u001b[0m\u001b[0;34m(\u001b[0m\u001b[0msample_array\u001b[0m\u001b[0;34m)\u001b[0m\u001b[0;34m)\u001b[0m\u001b[0;34m\u001b[0m\u001b[0;34m\u001b[0m\u001b[0m\n\u001b[0m\u001b[1;32m      2\u001b[0m \u001b[0mplt\u001b[0m\u001b[0;34m.\u001b[0m\u001b[0mtitle\u001b[0m\u001b[0;34m(\u001b[0m\u001b[0;34m'z-score'\u001b[0m\u001b[0;34m)\u001b[0m\u001b[0;34m\u001b[0m\u001b[0;34m\u001b[0m\u001b[0m\n\u001b[1;32m      3\u001b[0m \u001b[0mplt\u001b[0m\u001b[0;34m.\u001b[0m\u001b[0mshow\u001b[0m\u001b[0;34m(\u001b[0m\u001b[0;34m)\u001b[0m\u001b[0;34m\u001b[0m\u001b[0;34m\u001b[0m\u001b[0m\n\u001b[1;32m      4\u001b[0m \u001b[0;34m\u001b[0m\u001b[0m\n\u001b[1;32m      5\u001b[0m \u001b[0mplt\u001b[0m\u001b[0;34m.\u001b[0m\u001b[0mhist\u001b[0m\u001b[0;34m(\u001b[0m\u001b[0mmin_max_scale\u001b[0m\u001b[0;34m(\u001b[0m\u001b[0msample_array\u001b[0m\u001b[0;34m)\u001b[0m\u001b[0;34m)\u001b[0m\u001b[0;34m\u001b[0m\u001b[0;34m\u001b[0m\u001b[0m\n",
            "\u001b[0;31mNameError\u001b[0m: name 'sample_array' is not defined"
          ]
        }
      ]
    },
    {
      "cell_type": "markdown",
      "source": [
        "As we can see on the x-axis in the above images, z-score results in our data having a mean of zero while min-max results in our data spanning values from 0 to +1, with both methods not changing the actual distribution of our data."
      ],
      "metadata": {
        "id": "w050t2twGGys"
      }
    },
    {
      "cell_type": "markdown",
      "source": [
        "## **Supervised Learning Regression Example**"
      ],
      "metadata": {
        "id": "JBirR3cdICH8"
      }
    },
    {
      "cell_type": "markdown",
      "source": [
        "Now, we will proceed with training a neural network in a supervised learning regression application."
      ],
      "metadata": {
        "id": "rT22AWjwIIeX"
      }
    },
    {
      "cell_type": "markdown",
      "source": [
        "We will use a dataset from Molina et al. (2021) consisting of thunderstorms generated using a 4-km horizontal resolution WRF simulation. We are using a small portion of the dataset, specifically thunderstorms simulated for April 27, 2011 over the continental United States."
      ],
      "metadata": {
        "id": "Z6MIe4xpeOQq"
      }
    },
    {
      "cell_type": "code",
      "source": [
        "!wget https://zenodo.org/records/10576726/files/current_SP3hourly_20110427.nc"
      ],
      "metadata": {
        "colab": {
          "base_uri": "https://localhost:8080/"
        },
        "id": "YIDtIzo3IJFS",
        "outputId": "cd6237b6-76ed-42b3-c989-3098ade5aada"
      },
      "execution_count": 3,
      "outputs": [
        {
          "output_type": "stream",
          "name": "stdout",
          "text": [
            "--2025-08-05 15:31:41--  https://zenodo.org/records/10576726/files/current_SP3hourly_20110427.nc\n",
            "Resolving zenodo.org (zenodo.org)... 188.185.45.92, 188.185.48.194, 188.185.43.25, ...\n",
            "Connecting to zenodo.org (zenodo.org)|188.185.45.92|:443... connected.\n",
            "HTTP request sent, awaiting response... 200 OK\n",
            "Length: 109400556 (104M) [application/octet-stream]\n",
            "Saving to: ‘current_SP3hourly_20110427.nc’\n",
            "\n",
            "current_SP3hourly_2 100%[===================>] 104.33M  25.1MB/s    in 4.9s    \n",
            "\n",
            "2025-08-05 15:31:47 (21.4 MB/s) - ‘current_SP3hourly_20110427.nc’ saved [109400556/109400556]\n",
            "\n"
          ]
        }
      ]
    },
    {
      "cell_type": "markdown",
      "source": [
        "Let's visualize the dataset. We can use python libraries for this."
      ],
      "metadata": {
        "id": "FTRe0rEpexSJ"
      }
    },
    {
      "cell_type": "code",
      "source": [
        "import matplotlib.pyplot as plt\n",
        "import xarray as xr"
      ],
      "metadata": {
        "id": "V-_wY-Lqewnh"
      },
      "execution_count": 71,
      "outputs": []
    },
    {
      "cell_type": "code",
      "source": [
        "ds = xr.open_dataset('current_SP3hourly_20110427.nc')"
      ],
      "metadata": {
        "id": "pY1Bn-N8d7pB"
      },
      "execution_count": 72,
      "outputs": []
    },
    {
      "cell_type": "markdown",
      "source": [
        "The dataset contains 2,224 storm samples that were generated using the github reposity [deep-conus](https://github.com/mariajmolina/deep-conus). Each sample is 32x32 grid cells (i.e., pixels) with each grid cell spanning 4-km.\n",
        "\n",
        "Let's visualize some of the variables."
      ],
      "metadata": {
        "id": "yw6ewfZee-lr"
      }
    },
    {
      "cell_type": "code",
      "source": [
        "# simulated radar reflectivity\n",
        "ds['dbz_grid'].isel(starttime=0).plot()"
      ],
      "metadata": {
        "colab": {
          "base_uri": "https://localhost:8080/",
          "height": 489
        },
        "id": "DsoCCgnSfnhJ",
        "outputId": "c5b69b9a-dbf9-418c-f71e-3bff8ee22e86"
      },
      "execution_count": null,
      "outputs": [
        {
          "output_type": "execute_result",
          "data": {
            "text/plain": [
              "<matplotlib.collections.QuadMesh at 0x7f0a98f51690>"
            ]
          },
          "metadata": {},
          "execution_count": 9
        },
        {
          "output_type": "display_data",
          "data": {
            "text/plain": [
              "<Figure size 640x480 with 2 Axes>"
            ],
            "image/png": "[encoded data removed]"
          },
          "metadata": {}
        }
      ]
    },
    {
      "cell_type": "code",
      "source": [
        "# gridded updraft helicity from 2-5 km\n",
        "ds['uh25_grid'].isel(starttime=0).plot()"
      ],
      "metadata": {
        "colab": {
          "base_uri": "https://localhost:8080/",
          "height": 489
        },
        "id": "bFIWAsD0ewu-",
        "outputId": "52829061-c6dc-40af-dc93-ccc2ad462f36"
      },
      "execution_count": null,
      "outputs": [
        {
          "output_type": "execute_result",
          "data": {
            "text/plain": [
              "<matplotlib.collections.QuadMesh at 0x7f0a98e49c00>"
            ]
          },
          "metadata": {},
          "execution_count": 10
        },
        {
          "output_type": "display_data",
          "data": {
            "text/plain": [
              "<Figure size 640x480 with 2 Axes>"
            ],
            "image/png": "[encoded data removed]"
          },
          "metadata": {}
        }
      ]
    },
    {
      "cell_type": "code",
      "source": [
        "# gridded cloud top temperature\n",
        "ds['ctt_grid'].isel(starttime=0).plot()"
      ],
      "metadata": {
        "colab": {
          "base_uri": "https://localhost:8080/",
          "height": 489
        },
        "id": "dzBY7eYRfncK",
        "outputId": "fb251f38-3b2d-4371-aace-bd433bd1fe8a"
      },
      "execution_count": null,
      "outputs": [
        {
          "output_type": "execute_result",
          "data": {
            "text/plain": [
              "<matplotlib.collections.QuadMesh at 0x7f0a98d3ce80>"
            ]
          },
          "metadata": {},
          "execution_count": 11
        },
        {
          "output_type": "display_data",
          "data": {
            "text/plain": [
              "<Figure size 640x480 with 2 Axes>"
            ],
            "image/png": "[encoded data removed]"
          },
          "metadata": {}
        }
      ]
    },
    {
      "cell_type": "markdown",
      "source": [
        "Now we will preprocess our training and testing data. We need to split our data into a training and testing sets, and standardize."
      ],
      "metadata": {
        "id": "UlzHzBsPhpe1"
      }
    },
    {
      "cell_type": "code",
      "source": [
        "def random_split(data, label, split=0.3, seed=0):\n",
        "    \"\"\"\n",
        "    Help spliting data randomly for training and testing.\n",
        "    \"\"\"\n",
        "    np.random.seed(0)\n",
        "    da_indx = np.random.permutation(data.shape[0])\n",
        "    data  = data[da_indx.astype(int)]\n",
        "    label = label[da_indx.astype(int)]\n",
        "    init_range = int(data.shape[0] * (1 - split))\n",
        "    print(int(data.shape[0] * (1 - split)), data.shape[0] * (1 - split))\n",
        "    return data[:init_range], label[:init_range], data[init_range:], label[init_range:]"
      ],
      "metadata": {
        "id": "BYfUl7q0IJBl"
      },
      "execution_count": 73,
      "outputs": []
    },
    {
      "cell_type": "code",
      "source": [
        "features = xr.concat([\n",
        "    ds['dbz_grid'].expand_dims(dim='feature', axis=3),\n",
        "    ds['ctt_grid'].expand_dims(dim='feature', axis=3)],\n",
        "          dim='feature')"
      ],
      "metadata": {
        "id": "QmZSDOrvd50f"
      },
      "execution_count": 74,
      "outputs": []
    },
    {
      "cell_type": "code",
      "source": [
        "print(train_label.shape)"
      ],
      "metadata": {
        "colab": {
          "base_uri": "https://localhost:8080/"
        },
        "id": "rt4Sl3cii7SY",
        "outputId": "ad34cc58-15a2-4855-db4b-fb08adc256e0"
      },
      "execution_count": 41,
      "outputs": [
        {
          "output_type": "stream",
          "name": "stdout",
          "text": [
            "(1556, 1)\n"
          ]
        }
      ]
    },
    {
      "cell_type": "code",
      "source": [
        "# grab the maximum of the dbz to use as our labels (regression)\n",
        "labels = ds['dbz_grid'].expand_dims(dim='feature', axis=3).max('x').max('y')"
      ],
      "metadata": {
        "id": "HgsBcfJ2ivWE"
      },
      "execution_count": 75,
      "outputs": []
    },
    {
      "cell_type": "code",
      "source": [
        "print(labels)"
      ],
      "metadata": {
        "colab": {
          "base_uri": "https://localhost:8080/"
        },
        "id": "kZ57QrQXi3HV",
        "outputId": "da398b4d-8128-4155-cfa7-7c154dda890e"
      },
      "execution_count": 14,
      "outputs": [
        {
          "output_type": "stream",
          "name": "stdout",
          "text": [
            "<xarray.DataArray 'dbz_grid' (starttime: 2224, feature: 1)> Size: 9kB\n",
            "array([[65.721054],\n",
            "       [58.54062 ],\n",
            "       [58.54062 ],\n",
            "       ...,\n",
            "       [45.41483 ],\n",
            "       [37.786957],\n",
            "       [42.48563 ]], dtype=float32)\n",
            "Coordinates:\n",
            "  * starttime  (starttime) float64 18kB 9.264e+04 9.264e+04 ... 9.266e+04\n",
            "    endtime    (starttime) float64 18kB ...\n",
            "    x_speed    (starttime) int64 18kB ...\n",
            "    y_speed    (starttime) int64 18kB ...\n",
            "Dimensions without coordinates: feature\n"
          ]
        }
      ]
    },
    {
      "cell_type": "code",
      "source": [
        "train_feats, train_label, test_feats, test_label = random_split(features, labels)"
      ],
      "metadata": {
        "id": "1xt_5E0DjOPD",
        "colab": {
          "base_uri": "https://localhost:8080/"
        },
        "outputId": "d3e10b4e-d183-49ea-8c0f-5bebdc78c315"
      },
      "execution_count": 76,
      "outputs": [
        {
          "output_type": "stream",
          "name": "stdout",
          "text": [
            "1556 1556.8\n"
          ]
        }
      ]
    },
    {
      "cell_type": "code",
      "source": [
        "print(train_feats.shape[0], train_label.shape[0]*3, test_feats.shape[0], test_label.shape[0]*7)"
      ],
      "metadata": {
        "colab": {
          "base_uri": "https://localhost:8080/"
        },
        "id": "q5kQ6CXcjOek",
        "outputId": "f926b8b2-1714-4026-d8d8-060204f5dc10"
      },
      "execution_count": 77,
      "outputs": [
        {
          "output_type": "stream",
          "name": "stdout",
          "text": [
            "1556 4668 668 4676\n"
          ]
        }
      ]
    },
    {
      "cell_type": "code",
      "source": [
        "# normalization of our training data (note each feature individually processed!)\n",
        "train_feats_standardized = xr.concat([\n",
        "    z_score(train_feats.isel(feature=0).expand_dims(dim='feature', axis=3)),\n",
        "    z_score(train_feats.isel(feature=1).expand_dims(dim='feature', axis=3))],\n",
        "                                     dim='feature')\n",
        "\n",
        "train_label_standardized = z_score(train_label)"
      ],
      "metadata": {
        "id": "-UM89woPj8Ep"
      },
      "execution_count": 78,
      "outputs": []
    },
    {
      "cell_type": "code",
      "source": [
        "train_feats.isel(feature=0,starttime=15).plot()"
      ],
      "metadata": {
        "colab": {
          "base_uri": "https://localhost:8080/",
          "height": 489
        },
        "id": "1HV4mCLnlIMF",
        "outputId": "8d425663-ace2-49ba-aa92-ef4783520727"
      },
      "execution_count": null,
      "outputs": [
        {
          "output_type": "execute_result",
          "data": {
            "text/plain": [
              "<matplotlib.collections.QuadMesh at 0x7f0a98c6c4c0>"
            ]
          },
          "metadata": {},
          "execution_count": 20
        },
        {
          "output_type": "display_data",
          "data": {
            "text/plain": [
              "<Figure size 640x480 with 2 Axes>"
            ],
            "image/png": "[encoded data removed]"
          },
          "metadata": {}
        }
      ]
    },
    {
      "cell_type": "code",
      "source": [
        "train_feats_standardized.isel(feature=0,starttime=15).plot()"
      ],
      "metadata": {
        "colab": {
          "base_uri": "https://localhost:8080/",
          "height": 489
        },
        "id": "w2T48h8ykonf",
        "outputId": "a751198e-f5b8-4083-c511-a6d5e6d4741d"
      },
      "execution_count": null,
      "outputs": [
        {
          "output_type": "execute_result",
          "data": {
            "text/plain": [
              "<matplotlib.collections.QuadMesh at 0x7f0a94af4ca0>"
            ]
          },
          "metadata": {},
          "execution_count": 21
        },
        {
          "output_type": "display_data",
          "data": {
            "text/plain": [
              "<Figure size 640x480 with 2 Axes>"
            ],
            "image/png": "[encoded data removed]"
          },
          "metadata": {}
        }
      ]
    },
    {
      "cell_type": "code",
      "source": [
        "train_feats.isel(feature=1,starttime=100).plot()"
      ],
      "metadata": {
        "colab": {
          "base_uri": "https://localhost:8080/",
          "height": 489
        },
        "id": "PJh6t50olRlG",
        "outputId": "2c6ef7a8-8dc5-4e70-9659-932b131201d6"
      },
      "execution_count": null,
      "outputs": [
        {
          "output_type": "execute_result",
          "data": {
            "text/plain": [
              "<matplotlib.collections.QuadMesh at 0x7f0a949c3430>"
            ]
          },
          "metadata": {},
          "execution_count": 22
        },
        {
          "output_type": "display_data",
          "data": {
            "text/plain": [
              "<Figure size 640x480 with 2 Axes>"
            ],
            "image/png": "[encoded data removed]"
          },
          "metadata": {}
        }
      ]
    },
    {
      "cell_type": "code",
      "source": [
        "train_feats_standardized.isel(feature=1,starttime=100).plot()"
      ],
      "metadata": {
        "colab": {
          "base_uri": "https://localhost:8080/",
          "height": 489
        },
        "id": "EO_ugNfykwE2",
        "outputId": "9789ba22-c724-404b-e291-cdd11435bc43"
      },
      "execution_count": null,
      "outputs": [
        {
          "output_type": "execute_result",
          "data": {
            "text/plain": [
              "<matplotlib.collections.QuadMesh at 0x7f0a94893190>"
            ]
          },
          "metadata": {},
          "execution_count": 23
        },
        {
          "output_type": "display_data",
          "data": {
            "text/plain": [
              "<Figure size 640x480 with 2 Axes>"
            ],
            "image/png": "[encoded data removed]"
          },
          "metadata": {}
        }
      ]
    },
    {
      "cell_type": "markdown",
      "source": [
        "Let's proceed to build a simple convolutional neural network that will take images as the input and predict the respective storm's maximum updraft helicity."
      ],
      "metadata": {
        "id": "yS-guBx7gOkQ"
      }
    },
    {
      "cell_type": "code",
      "source": [
        "import keras\n",
        "from keras import layers"
      ],
      "metadata": {
        "id": "KDM-f2a1fnlB"
      },
      "execution_count": 79,
      "outputs": []
    },
    {
      "cell_type": "code",
      "source": [
        "# lets use two input variables (dbz_grid and ctt_grid)\n",
        "number_of_features = 2"
      ],
      "metadata": {
        "id": "94Cj7eVlhByj"
      },
      "execution_count": 80,
      "outputs": []
    },
    {
      "cell_type": "code",
      "source": [
        "model = keras.Sequential()\n",
        "\n",
        "# input\n",
        "model.add(keras.Input(shape=(32, 32, number_of_features)))  # 32x32 images\n",
        "\n",
        "# data augmentation layers\n",
        "#model.add(layers.RandomFlip(\"horizontal_and_vertical\"))\n",
        "#model.add(layers.RandomRotation(factor=(-0.5, 0.5)))\n",
        "\n",
        "# hidden layers\n",
        "model.add(layers.Conv2D(32, 3, strides=1, padding=\"same\", activation=\"relu\"))\n",
        "model.add(layers.MaxPooling2D(2))\n",
        "model.add(layers.Dropout(0.2))\n",
        "\n",
        "model.add(layers.Conv2D(64, 3, strides=1, padding=\"same\", activation=\"relu\"))\n",
        "model.add(layers.MaxPooling2D(2))\n",
        "model.add(layers.Dropout(0.2))\n",
        "\n",
        "model.add(layers.Conv2D(128, 3, strides=1, padding=\"same\", activation=\"relu\"))\n",
        "model.add(layers.MaxPooling2D(2))\n",
        "model.add(layers.Dropout(0.2))\n",
        "\n",
        "# Now that we have 4x4 feature maps, now apply global max pooling.\n",
        "model.add(layers.GlobalMaxPooling2D())\n",
        "\n",
        "# Finally, we add last fully connected (dense) layers\n",
        "model.add(layers.Dense(64))\n",
        "model.add(layers.Dense(1, activation=\"linear\"))\n",
        "\n",
        "# print model summary\n",
        "model.summary()"
      ],
      "metadata": {
        "colab": {
          "base_uri": "https://localhost:8080/",
          "height": 545
        },
        "id": "aGZqhCVfII4J",
        "outputId": "3813b52d-8061-4d46-91d5-5a681f5c27f6"
      },
      "execution_count": 81,
      "outputs": [
        {
          "output_type": "display_data",
          "data": {
            "text/plain": [
              "\u001b[1mModel: \"sequential_4\"\u001b[0m\n"
            ],
            "text/html": [
              "<pre style=\"white-space:pre;overflow-x:auto;line-height:normal;font-family:Menlo,'DejaVu Sans Mono',consolas,'Courier New',monospace\"><span style=\"font-weight: bold\">Model: \"sequential_4\"</span>\n",
              "</pre>\n"
            ]
          },
          "metadata": {}
        },
        {
          "output_type": "display_data",
          "data": {
            "text/plain": [
              "┏━━━━━━━━━━━━━━━━━━━━━━━━━━━━━━━━━┳━━━━━━━━━━━━━━━━━━━━━━━━┳━━━━━━━━━━━━━━━┓\n",
              "┃\u001b[1m \u001b[0m\u001b[1mLayer (type)                   \u001b[0m\u001b[1m \u001b[0m┃\u001b[1m \u001b[0m\u001b[1mOutput Shape          \u001b[0m\u001b[1m \u001b[0m┃\u001b[1m \u001b[0m\u001b[1m      Param #\u001b[0m\u001b[1m \u001b[0m┃\n",
              "┡━━━━━━━━━━━━━━━━━━━━━━━━━━━━━━━━━╇━━━━━━━━━━━━━━━━━━━━━━━━╇━━━━━━━━━━━━━━━┩\n",
              "│ conv2d_12 (\u001b[38;5;33mConv2D\u001b[0m)              │ (\u001b[38;5;45mNone\u001b[0m, \u001b[38;5;34m32\u001b[0m, \u001b[38;5;34m32\u001b[0m, \u001b[38;5;34m32\u001b[0m)     │           \u001b[38;5;34m608\u001b[0m │\n",
              "├─────────────────────────────────┼────────────────────────┼───────────────┤\n",
              "│ max_pooling2d_12 (\u001b[38;5;33mMaxPooling2D\u001b[0m) │ (\u001b[38;5;45mNone\u001b[0m, \u001b[38;5;34m16\u001b[0m, \u001b[38;5;34m16\u001b[0m, \u001b[38;5;34m32\u001b[0m)     │             \u001b[38;5;34m0\u001b[0m │\n",
              "├─────────────────────────────────┼────────────────────────┼───────────────┤\n",
              "│ dropout_12 (\u001b[38;5;33mDropout\u001b[0m)            │ (\u001b[38;5;45mNone\u001b[0m, \u001b[38;5;34m16\u001b[0m, \u001b[38;5;34m16\u001b[0m, \u001b[38;5;34m32\u001b[0m)     │             \u001b[38;5;34m0\u001b[0m │\n",
              "├─────────────────────────────────┼────────────────────────┼───────────────┤\n",
              "│ conv2d_13 (\u001b[38;5;33mConv2D\u001b[0m)              │ (\u001b[38;5;45mNone\u001b[0m, \u001b[38;5;34m16\u001b[0m, \u001b[38;5;34m16\u001b[0m, \u001b[38;5;34m64\u001b[0m)     │        \u001b[38;5;34m18,496\u001b[0m │\n",
              "├─────────────────────────────────┼────────────────────────┼───────────────┤\n",
              "│ max_pooling2d_13 (\u001b[38;5;33mMaxPooling2D\u001b[0m) │ (\u001b[38;5;45mNone\u001b[0m, \u001b[38;5;34m8\u001b[0m, \u001b[38;5;34m8\u001b[0m, \u001b[38;5;34m64\u001b[0m)       │             \u001b[38;5;34m0\u001b[0m │\n",
              "├─────────────────────────────────┼────────────────────────┼───────────────┤\n",
              "│ dropout_13 (\u001b[38;5;33mDropout\u001b[0m)            │ (\u001b[38;5;45mNone\u001b[0m, \u001b[38;5;34m8\u001b[0m, \u001b[38;5;34m8\u001b[0m, \u001b[38;5;34m64\u001b[0m)       │             \u001b[38;5;34m0\u001b[0m │\n",
              "├─────────────────────────────────┼────────────────────────┼───────────────┤\n",
              "│ conv2d_14 (\u001b[38;5;33mConv2D\u001b[0m)              │ (\u001b[38;5;45mNone\u001b[0m, \u001b[38;5;34m8\u001b[0m, \u001b[38;5;34m8\u001b[0m, \u001b[38;5;34m128\u001b[0m)      │        \u001b[38;5;34m73,856\u001b[0m │\n",
              "├─────────────────────────────────┼────────────────────────┼───────────────┤\n",
              "│ max_pooling2d_14 (\u001b[38;5;33mMaxPooling2D\u001b[0m) │ (\u001b[38;5;45mNone\u001b[0m, \u001b[38;5;34m4\u001b[0m, \u001b[38;5;34m4\u001b[0m, \u001b[38;5;34m128\u001b[0m)      │             \u001b[38;5;34m0\u001b[0m │\n",
              "├─────────────────────────────────┼────────────────────────┼───────────────┤\n",
              "│ dropout_14 (\u001b[38;5;33mDropout\u001b[0m)            │ (\u001b[38;5;45mNone\u001b[0m, \u001b[38;5;34m4\u001b[0m, \u001b[38;5;34m4\u001b[0m, \u001b[38;5;34m128\u001b[0m)      │             \u001b[38;5;34m0\u001b[0m │\n",
              "├─────────────────────────────────┼────────────────────────┼───────────────┤\n",
              "│ global_max_pooling2d_4          │ (\u001b[38;5;45mNone\u001b[0m, \u001b[38;5;34m128\u001b[0m)            │             \u001b[38;5;34m0\u001b[0m │\n",
              "│ (\u001b[38;5;33mGlobalMaxPooling2D\u001b[0m)            │                        │               │\n",
              "├─────────────────────────────────┼────────────────────────┼───────────────┤\n",
              "│ dense_8 (\u001b[38;5;33mDense\u001b[0m)                 │ (\u001b[38;5;45mNone\u001b[0m, \u001b[38;5;34m64\u001b[0m)             │         \u001b[38;5;34m8,256\u001b[0m │\n",
              "├─────────────────────────────────┼────────────────────────┼───────────────┤\n",
              "│ dense_9 (\u001b[38;5;33mDense\u001b[0m)                 │ (\u001b[38;5;45mNone\u001b[0m, \u001b[38;5;34m1\u001b[0m)              │            \u001b[38;5;34m65\u001b[0m │\n",
              "└─────────────────────────────────┴────────────────────────┴───────────────┘\n"
            ],
            "text/html": [
              "<pre style=\"white-space:pre;overflow-x:auto;line-height:normal;font-family:Menlo,'DejaVu Sans Mono',consolas,'Courier New',monospace\">┏━━━━━━━━━━━━━━━━━━━━━━━━━━━━━━━━━┳━━━━━━━━━━━━━━━━━━━━━━━━┳━━━━━━━━━━━━━━━┓\n",
              "┃<span style=\"font-weight: bold\"> Layer (type)                    </span>┃<span style=\"font-weight: bold\"> Output Shape           </span>┃<span style=\"font-weight: bold\">       Param # </span>┃\n",
              "┡━━━━━━━━━━━━━━━━━━━━━━━━━━━━━━━━━╇━━━━━━━━━━━━━━━━━━━━━━━━╇━━━━━━━━━━━━━━━┩\n",
              "│ conv2d_12 (<span style=\"color: #0087ff; text-decoration-color: #0087ff\">Conv2D</span>)              │ (<span style=\"color: #00d7ff; text-decoration-color: #00d7ff\">None</span>, <span style=\"color: #00af00; text-decoration-color: #00af00\">32</span>, <span style=\"color: #00af00; text-decoration-color: #00af00\">32</span>, <span style=\"color: #00af00; text-decoration-color: #00af00\">32</span>)     │           <span style=\"color: #00af00; text-decoration-color: #00af00\">608</span> │\n",
              "├─────────────────────────────────┼────────────────────────┼───────────────┤\n",
              "│ max_pooling2d_12 (<span style=\"color: #0087ff; text-decoration-color: #0087ff\">MaxPooling2D</span>) │ (<span style=\"color: #00d7ff; text-decoration-color: #00d7ff\">None</span>, <span style=\"color: #00af00; text-decoration-color: #00af00\">16</span>, <span style=\"color: #00af00; text-decoration-color: #00af00\">16</span>, <span style=\"color: #00af00; text-decoration-color: #00af00\">32</span>)     │             <span style=\"color: #00af00; text-decoration-color: #00af00\">0</span> │\n",
              "├─────────────────────────────────┼────────────────────────┼───────────────┤\n",
              "│ dropout_12 (<span style=\"color: #0087ff; text-decoration-color: #0087ff\">Dropout</span>)            │ (<span style=\"color: #00d7ff; text-decoration-color: #00d7ff\">None</span>, <span style=\"color: #00af00; text-decoration-color: #00af00\">16</span>, <span style=\"color: #00af00; text-decoration-color: #00af00\">16</span>, <span style=\"color: #00af00; text-decoration-color: #00af00\">32</span>)     │             <span style=\"color: #00af00; text-decoration-color: #00af00\">0</span> │\n",
              "├─────────────────────────────────┼────────────────────────┼───────────────┤\n",
              "│ conv2d_13 (<span style=\"color: #0087ff; text-decoration-color: #0087ff\">Conv2D</span>)              │ (<span style=\"color: #00d7ff; text-decoration-color: #00d7ff\">None</span>, <span style=\"color: #00af00; text-decoration-color: #00af00\">16</span>, <span style=\"color: #00af00; text-decoration-color: #00af00\">16</span>, <span style=\"color: #00af00; text-decoration-color: #00af00\">64</span>)     │        <span style=\"color: #00af00; text-decoration-color: #00af00\">18,496</span> │\n",
              "├─────────────────────────────────┼────────────────────────┼───────────────┤\n",
              "│ max_pooling2d_13 (<span style=\"color: #0087ff; text-decoration-color: #0087ff\">MaxPooling2D</span>) │ (<span style=\"color: #00d7ff; text-decoration-color: #00d7ff\">None</span>, <span style=\"color: #00af00; text-decoration-color: #00af00\">8</span>, <span style=\"color: #00af00; text-decoration-color: #00af00\">8</span>, <span style=\"color: #00af00; text-decoration-color: #00af00\">64</span>)       │             <span style=\"color: #00af00; text-decoration-color: #00af00\">0</span> │\n",
              "├─────────────────────────────────┼────────────────────────┼───────────────┤\n",
              "│ dropout_13 (<span style=\"color: #0087ff; text-decoration-color: #0087ff\">Dropout</span>)            │ (<span style=\"color: #00d7ff; text-decoration-color: #00d7ff\">None</span>, <span style=\"color: #00af00; text-decoration-color: #00af00\">8</span>, <span style=\"color: #00af00; text-decoration-color: #00af00\">8</span>, <span style=\"color: #00af00; text-decoration-color: #00af00\">64</span>)       │             <span style=\"color: #00af00; text-decoration-color: #00af00\">0</span> │\n",
              "├─────────────────────────────────┼────────────────────────┼───────────────┤\n",
              "│ conv2d_14 (<span style=\"color: #0087ff; text-decoration-color: #0087ff\">Conv2D</span>)              │ (<span style=\"color: #00d7ff; text-decoration-color: #00d7ff\">None</span>, <span style=\"color: #00af00; text-decoration-color: #00af00\">8</span>, <span style=\"color: #00af00; text-decoration-color: #00af00\">8</span>, <span style=\"color: #00af00; text-decoration-color: #00af00\">128</span>)      │        <span style=\"color: #00af00; text-decoration-color: #00af00\">73,856</span> │\n",
              "├─────────────────────────────────┼────────────────────────┼───────────────┤\n",
              "│ max_pooling2d_14 (<span style=\"color: #0087ff; text-decoration-color: #0087ff\">MaxPooling2D</span>) │ (<span style=\"color: #00d7ff; text-decoration-color: #00d7ff\">None</span>, <span style=\"color: #00af00; text-decoration-color: #00af00\">4</span>, <span style=\"color: #00af00; text-decoration-color: #00af00\">4</span>, <span style=\"color: #00af00; text-decoration-color: #00af00\">128</span>)      │             <span style=\"color: #00af00; text-decoration-color: #00af00\">0</span> │\n",
              "├─────────────────────────────────┼────────────────────────┼───────────────┤\n",
              "│ dropout_14 (<span style=\"color: #0087ff; text-decoration-color: #0087ff\">Dropout</span>)            │ (<span style=\"color: #00d7ff; text-decoration-color: #00d7ff\">None</span>, <span style=\"color: #00af00; text-decoration-color: #00af00\">4</span>, <span style=\"color: #00af00; text-decoration-color: #00af00\">4</span>, <span style=\"color: #00af00; text-decoration-color: #00af00\">128</span>)      │             <span style=\"color: #00af00; text-decoration-color: #00af00\">0</span> │\n",
              "├─────────────────────────────────┼────────────────────────┼───────────────┤\n",
              "│ global_max_pooling2d_4          │ (<span style=\"color: #00d7ff; text-decoration-color: #00d7ff\">None</span>, <span style=\"color: #00af00; text-decoration-color: #00af00\">128</span>)            │             <span style=\"color: #00af00; text-decoration-color: #00af00\">0</span> │\n",
              "│ (<span style=\"color: #0087ff; text-decoration-color: #0087ff\">GlobalMaxPooling2D</span>)            │                        │               │\n",
              "├─────────────────────────────────┼────────────────────────┼───────────────┤\n",
              "│ dense_8 (<span style=\"color: #0087ff; text-decoration-color: #0087ff\">Dense</span>)                 │ (<span style=\"color: #00d7ff; text-decoration-color: #00d7ff\">None</span>, <span style=\"color: #00af00; text-decoration-color: #00af00\">64</span>)             │         <span style=\"color: #00af00; text-decoration-color: #00af00\">8,256</span> │\n",
              "├─────────────────────────────────┼────────────────────────┼───────────────┤\n",
              "│ dense_9 (<span style=\"color: #0087ff; text-decoration-color: #0087ff\">Dense</span>)                 │ (<span style=\"color: #00d7ff; text-decoration-color: #00d7ff\">None</span>, <span style=\"color: #00af00; text-decoration-color: #00af00\">1</span>)              │            <span style=\"color: #00af00; text-decoration-color: #00af00\">65</span> │\n",
              "└─────────────────────────────────┴────────────────────────┴───────────────┘\n",
              "</pre>\n"
            ]
          },
          "metadata": {}
        },
        {
          "output_type": "display_data",
          "data": {
            "text/plain": [
              "\u001b[1m Total params: \u001b[0m\u001b[38;5;34m101,281\u001b[0m (395.63 KB)\n"
            ],
            "text/html": [
              "<pre style=\"white-space:pre;overflow-x:auto;line-height:normal;font-family:Menlo,'DejaVu Sans Mono',consolas,'Courier New',monospace\"><span style=\"font-weight: bold\"> Total params: </span><span style=\"color: #00af00; text-decoration-color: #00af00\">101,281</span> (395.63 KB)\n",
              "</pre>\n"
            ]
          },
          "metadata": {}
        },
        {
          "output_type": "display_data",
          "data": {
            "text/plain": [
              "\u001b[1m Trainable params: \u001b[0m\u001b[38;5;34m101,281\u001b[0m (395.63 KB)\n"
            ],
            "text/html": [
              "<pre style=\"white-space:pre;overflow-x:auto;line-height:normal;font-family:Menlo,'DejaVu Sans Mono',consolas,'Courier New',monospace\"><span style=\"font-weight: bold\"> Trainable params: </span><span style=\"color: #00af00; text-decoration-color: #00af00\">101,281</span> (395.63 KB)\n",
              "</pre>\n"
            ]
          },
          "metadata": {}
        },
        {
          "output_type": "display_data",
          "data": {
            "text/plain": [
              "\u001b[1m Non-trainable params: \u001b[0m\u001b[38;5;34m0\u001b[0m (0.00 B)\n"
            ],
            "text/html": [
              "<pre style=\"white-space:pre;overflow-x:auto;line-height:normal;font-family:Menlo,'DejaVu Sans Mono',consolas,'Courier New',monospace\"><span style=\"font-weight: bold\"> Non-trainable params: </span><span style=\"color: #00af00; text-decoration-color: #00af00\">0</span> (0.00 B)\n",
              "</pre>\n"
            ]
          },
          "metadata": {}
        }
      ]
    },
    {
      "cell_type": "code",
      "source": [
        "608+18496+73856+8256+65"
      ],
      "metadata": {
        "colab": {
          "base_uri": "https://localhost:8080/"
        },
        "id": "lZg27RBjKdq7",
        "outputId": "f1a07055-ecf6-4492-ed9c-8cf1e4c55877"
      },
      "execution_count": 24,
      "outputs": [
        {
          "output_type": "execute_result",
          "data": {
            "text/plain": [
              "101281"
            ]
          },
          "metadata": {},
          "execution_count": 24
        }
      ]
    },
    {
      "cell_type": "markdown",
      "source": [
        "Proceeding with compiling our model and selecting some metrics to use."
      ],
      "metadata": {
        "id": "AXkjSNM3mD2u"
      }
    },
    {
      "cell_type": "markdown",
      "source": [
        "Some common evaluation metrics used with regression problems are:\n",
        "\n",
        "Mean absolute error (MAE): $\\frac{1}{N} \\sum\\limits_{i = 1}^{N} \\lvert \\hat{y}_i - y_i \\rvert$\n",
        "\n",
        "Mean squared error (MSE): $\\frac{1}{N} \\sum\\limits_{i = 1}^{N} (\\hat{y}_i - y_i)^2$\n",
        "\n",
        "\n",
        "More evalution metrics can be found [here](https://scikit-learn.org/stable/modules/model_evaluation.html)."
      ],
      "metadata": {
        "id": "knrWFwJ5LU2A"
      }
    },
    {
      "cell_type": "code",
      "source": [
        "METRICS = [\n",
        "    keras.metrics.MeanSquaredError(name='mean_squared_error'),\n",
        "    keras.metrics.RootMeanSquaredError(name='root_mean_squared_error'),\n",
        "]"
      ],
      "metadata": {
        "id": "lPb4PhGRlZgN"
      },
      "execution_count": 82,
      "outputs": []
    },
    {
      "cell_type": "code",
      "source": [
        "model.compile(\n",
        "    optimizer=keras.optimizers.Adam(learning_rate=0.001),\n",
        "    loss=\"mean_squared_error\",\n",
        "    metrics=METRICS\n",
        ")"
      ],
      "metadata": {
        "id": "o82dwXizjNTa"
      },
      "execution_count": 83,
      "outputs": []
    },
    {
      "cell_type": "code",
      "source": [
        "BATCH_SIZE = 32\n",
        "EPOCHS = 10"
      ],
      "metadata": {
        "id": "QEdyoR97MTrv"
      },
      "execution_count": 84,
      "outputs": []
    },
    {
      "cell_type": "code",
      "source": [
        "model.fit?"
      ],
      "metadata": {
        "id": "zD0HV10lk0Fv"
      },
      "execution_count": 32,
      "outputs": []
    },
    {
      "cell_type": "code",
      "source": [
        "history = model.fit(\n",
        "    x=train_feats_standardized.values,\n",
        "    y=train_label_standardized.values,\n",
        "    batch_size=BATCH_SIZE,\n",
        "    epochs=EPOCHS,\n",
        "    validation_split=0.1,\n",
        "    shuffle=True,\n",
        ")"
      ],
      "metadata": {
        "colab": {
          "base_uri": "https://localhost:8080/"
        },
        "id": "QfhYCYuVmXu7",
        "outputId": "2327121b-83af-4f59-fdaa-92da17037944"
      },
      "execution_count": 18,
      "outputs": [
        {
          "output_type": "stream",
          "name": "stdout",
          "text": [
            "Epoch 1/10\n",
            "\u001b[1m44/44\u001b[0m \u001b[32m━━━━━━━━━━━━━━━━━━━━\u001b[0m\u001b[37m\u001b[0m \u001b[1m6s\u001b[0m 84ms/step - loss: 0.8364 - mean_squared_error: 0.8364 - root_mean_squared_error: 0.9090 - val_loss: 0.5336 - val_mean_squared_error: 0.5336 - val_root_mean_squared_error: 0.7305\n",
            "Epoch 2/10\n",
            "\u001b[1m44/44\u001b[0m \u001b[32m━━━━━━━━━━━━━━━━━━━━\u001b[0m\u001b[37m\u001b[0m \u001b[1m5s\u001b[0m 108ms/step - loss: 0.4239 - mean_squared_error: 0.4239 - root_mean_squared_error: 0.6502 - val_loss: 0.3360 - val_mean_squared_error: 0.3360 - val_root_mean_squared_error: 0.5796\n",
            "Epoch 3/10\n",
            "\u001b[1m44/44\u001b[0m \u001b[32m━━━━━━━━━━━━━━━━━━━━\u001b[0m\u001b[37m\u001b[0m \u001b[1m3s\u001b[0m 76ms/step - loss: 0.2884 - mean_squared_error: 0.2884 - root_mean_squared_error: 0.5369 - val_loss: 0.2904 - val_mean_squared_error: 0.2904 - val_root_mean_squared_error: 0.5389\n",
            "Epoch 4/10\n",
            "\u001b[1m44/44\u001b[0m \u001b[32m━━━━━━━━━━━━━━━━━━━━\u001b[0m\u001b[37m\u001b[0m \u001b[1m5s\u001b[0m 79ms/step - loss: 0.2388 - mean_squared_error: 0.2388 - root_mean_squared_error: 0.4886 - val_loss: 0.2551 - val_mean_squared_error: 0.2551 - val_root_mean_squared_error: 0.5050\n",
            "Epoch 5/10\n",
            "\u001b[1m44/44\u001b[0m \u001b[32m━━━━━━━━━━━━━━━━━━━━\u001b[0m\u001b[37m\u001b[0m \u001b[1m5s\u001b[0m 86ms/step - loss: 0.1615 - mean_squared_error: 0.1615 - root_mean_squared_error: 0.4015 - val_loss: 0.3874 - val_mean_squared_error: 0.3874 - val_root_mean_squared_error: 0.6224\n",
            "Epoch 6/10\n",
            "\u001b[1m44/44\u001b[0m \u001b[32m━━━━━━━━━━━━━━━━━━━━\u001b[0m\u001b[37m\u001b[0m \u001b[1m4s\u001b[0m 81ms/step - loss: 0.1310 - mean_squared_error: 0.1310 - root_mean_squared_error: 0.3618 - val_loss: 0.1764 - val_mean_squared_error: 0.1764 - val_root_mean_squared_error: 0.4200\n",
            "Epoch 7/10\n",
            "\u001b[1m44/44\u001b[0m \u001b[32m━━━━━━━━━━━━━━━━━━━━\u001b[0m\u001b[37m\u001b[0m \u001b[1m7s\u001b[0m 125ms/step - loss: 0.1431 - mean_squared_error: 0.1431 - root_mean_squared_error: 0.3774 - val_loss: 0.2901 - val_mean_squared_error: 0.2901 - val_root_mean_squared_error: 0.5386\n",
            "Epoch 8/10\n",
            "\u001b[1m44/44\u001b[0m \u001b[32m━━━━━━━━━━━━━━━━━━━━\u001b[0m\u001b[37m\u001b[0m \u001b[1m8s\u001b[0m 76ms/step - loss: 0.1089 - mean_squared_error: 0.1089 - root_mean_squared_error: 0.3299 - val_loss: 0.2657 - val_mean_squared_error: 0.2657 - val_root_mean_squared_error: 0.5154\n",
            "Epoch 9/10\n",
            "\u001b[1m44/44\u001b[0m \u001b[32m━━━━━━━━━━━━━━━━━━━━\u001b[0m\u001b[37m\u001b[0m \u001b[1m4s\u001b[0m 98ms/step - loss: 0.0996 - mean_squared_error: 0.0996 - root_mean_squared_error: 0.3154 - val_loss: 0.2231 - val_mean_squared_error: 0.2231 - val_root_mean_squared_error: 0.4724\n",
            "Epoch 10/10\n",
            "\u001b[1m44/44\u001b[0m \u001b[32m━━━━━━━━━━━━━━━━━━━━\u001b[0m\u001b[37m\u001b[0m \u001b[1m4s\u001b[0m 82ms/step - loss: 0.0969 - mean_squared_error: 0.0969 - root_mean_squared_error: 0.3109 - val_loss: 0.2968 - val_mean_squared_error: 0.2968 - val_root_mean_squared_error: 0.5448\n"
          ]
        }
      ]
    },
    {
      "cell_type": "code",
      "source": [
        "history.history"
      ],
      "metadata": {
        "collapsed": true,
        "colab": {
          "base_uri": "https://localhost:8080/"
        },
        "id": "0GeIPtrOkKch",
        "outputId": "335b2654-aae6-4a8e-8251-58bf0c36fd36"
      },
      "execution_count": 31,
      "outputs": [
        {
          "output_type": "execute_result",
          "data": {
            "text/plain": [
              "{'loss': [0.5863139629364014,\n",
              "  0.37005165219306946,\n",
              "  0.28509679436683655,\n",
              "  0.18532662093639374,\n",
              "  0.20407195389270782,\n",
              "  0.15601487457752228,\n",
              "  0.12510275840759277,\n",
              "  0.11365097016096115,\n",
              "  0.09917714446783066,\n",
              "  0.10160373151302338],\n",
              " 'mean_squared_error': [0.5863139629364014,\n",
              "  0.37005165219306946,\n",
              "  0.28509679436683655,\n",
              "  0.18532662093639374,\n",
              "  0.20407195389270782,\n",
              "  0.15601487457752228,\n",
              "  0.12510275840759277,\n",
              "  0.11365097016096115,\n",
              "  0.09917714446783066,\n",
              "  0.10160373151302338],\n",
              " 'root_mean_squared_error': [0.7657114267349243,\n",
              "  0.6083186864852905,\n",
              "  0.5339445471763611,\n",
              "  0.4304957985877991,\n",
              "  0.4517432451248169,\n",
              "  0.39498719573020935,\n",
              "  0.3536986708641052,\n",
              "  0.3371216058731079,\n",
              "  0.314924031496048,\n",
              "  0.3187533915042877],\n",
              " 'val_loss': [0.41945746541023254,\n",
              "  0.3478146195411682,\n",
              "  0.26700714230537415,\n",
              "  0.24402527511119843,\n",
              "  0.221767395734787,\n",
              "  0.3333452045917511,\n",
              "  0.3356458246707916,\n",
              "  0.1984506994485855,\n",
              "  0.1758590191602707,\n",
              "  0.16589203476905823],\n",
              " 'val_mean_squared_error': [0.41945746541023254,\n",
              "  0.3478146195411682,\n",
              "  0.26700714230537415,\n",
              "  0.24402527511119843,\n",
              "  0.221767395734787,\n",
              "  0.3333452045917511,\n",
              "  0.3356458246707916,\n",
              "  0.1984506994485855,\n",
              "  0.1758590191602707,\n",
              "  0.16589204967021942],\n",
              " 'val_root_mean_squared_error': [0.6476553678512573,\n",
              "  0.5897580981254578,\n",
              "  0.5167273283004761,\n",
              "  0.49398913979530334,\n",
              "  0.4709218442440033,\n",
              "  0.5773605704307556,\n",
              "  0.5793494582176208,\n",
              "  0.44547805190086365,\n",
              "  0.41935548186302185,\n",
              "  0.4072984755039215]}"
            ]
          },
          "metadata": {},
          "execution_count": 31
        }
      ]
    },
    {
      "cell_type": "code",
      "source": [
        "plt.plot(history.history[\"mean_squared_error\"], c='k')\n",
        "plt.plot(history.history[\"val_mean_squared_error\"], c='r')\n",
        "plt.show()"
      ],
      "metadata": {
        "colab": {
          "base_uri": "https://localhost:8080/",
          "height": 430
        },
        "id": "KD2-89DcoW44",
        "outputId": "edda914f-ef11-41a9-94ec-a4e803de1447"
      },
      "execution_count": 19,
      "outputs": [
        {
          "output_type": "display_data",
          "data": {
            "text/plain": [
              "<Figure size 640x480 with 1 Axes>"
            ],
            "image/png": "[encoded data removed]"
          },
          "metadata": {}
        }
      ]
    },
    {
      "cell_type": "markdown",
      "source": [
        "Lets now evaluate the model using the test dataset. We need to standardize the data, but using the mean and standard deviation of the training set."
      ],
      "metadata": {
        "id": "rwxlG2G0xcQ6"
      }
    },
    {
      "cell_type": "code",
      "source": [
        "def z_score_testing(da, testdata):\n",
        "    \"\"\"\n",
        "    Compute z-score for testing data.\n",
        "    Args:\n",
        "        da (array): Array of training variable.\n",
        "    \"\"\"\n",
        "    return (testdata - np.mean(da)) / np.std(da)"
      ],
      "metadata": {
        "id": "7zaFmAIUorvC"
      },
      "execution_count": 20,
      "outputs": []
    },
    {
      "cell_type": "code",
      "source": [
        "# normalization of our training data (note each feature individually processed!)\n",
        "test_feats_standardized = xr.concat([\n",
        "    z_score_testing(\n",
        "        train_feats.isel(feature=0).expand_dims(dim='feature', axis=3),\n",
        "        test_feats.isel(feature=0).expand_dims(dim='feature', axis=3)\n",
        "        ),\n",
        "    z_score_testing(\n",
        "        train_feats.isel(feature=1).expand_dims(dim='feature', axis=3),\n",
        "        test_feats.isel(feature=1).expand_dims(dim='feature', axis=3)\n",
        "        )],\n",
        "                                     dim='feature')\n",
        "\n",
        "test_label_standardized = z_score_testing(train_label, test_label)"
      ],
      "metadata": {
        "id": "3jR6rF-lx55_"
      },
      "execution_count": 21,
      "outputs": []
    },
    {
      "cell_type": "code",
      "source": [
        "# Evaluate the model on the test data using `evaluate`\n",
        "print(\"Evaluate on test data\")\n",
        "results = model.evaluate(test_feats_standardized.values, test_label_standardized.values, batch_size=128)\n",
        "print(results)"
      ],
      "metadata": {
        "colab": {
          "base_uri": "https://localhost:8080/"
        },
        "id": "ZXfumUFnor4-",
        "outputId": "b81387b6-a5ee-4f8a-fae7-570699277b49"
      },
      "execution_count": 22,
      "outputs": [
        {
          "output_type": "stream",
          "name": "stdout",
          "text": [
            "Evaluate on test data\n",
            "\u001b[1m6/6\u001b[0m \u001b[32m━━━━━━━━━━━━━━━━━━━━\u001b[0m\u001b[37m\u001b[0m \u001b[1m0s\u001b[0m 67ms/step - loss: 0.3074 - mean_squared_error: 0.3074 - root_mean_squared_error: 0.5544\n",
            "[0.30160799622535706, 0.30160799622535706, 0.549188494682312]\n"
          ]
        }
      ]
    },
    {
      "cell_type": "code",
      "source": [
        "# generate predictions using the trained model\n",
        "predictions = model.predict(test_feats_standardized.values)"
      ],
      "metadata": {
        "colab": {
          "base_uri": "https://localhost:8080/"
        },
        "id": "tSHfeMExzVqb",
        "outputId": "ed1beece-c1b0-4359-f363-581c26409892"
      },
      "execution_count": 23,
      "outputs": [
        {
          "output_type": "stream",
          "name": "stdout",
          "text": [
            "\u001b[1m21/21\u001b[0m \u001b[32m━━━━━━━━━━━━━━━━━━━━\u001b[0m\u001b[37m\u001b[0m \u001b[1m1s\u001b[0m 42ms/step\n"
          ]
        }
      ]
    },
    {
      "cell_type": "code",
      "source": [
        "print(test_feats_standardized.values.shape, predictions.shape)\n",
        "print(train_feats_standardized.values.shape, train_label_standardized.values.shape)"
      ],
      "metadata": {
        "id": "naWhHsPRKiiE"
      },
      "execution_count": null,
      "outputs": []
    },
    {
      "cell_type": "code",
      "source": [
        "# visualize predictions vs ground truth\n",
        "plt.scatter(predictions, test_label_standardized.values)\n",
        "plt.show()"
      ],
      "metadata": {
        "colab": {
          "base_uri": "https://localhost:8080/",
          "height": 430
        },
        "id": "xzOMgkXozb6V",
        "outputId": "53e197c5-7999-4dad-d5bb-6d79cb04edb4"
      },
      "execution_count": 24,
      "outputs": [
        {
          "output_type": "display_data",
          "data": {
            "text/plain": [
              "<Figure size 640x480 with 1 Axes>"
            ],
            "image/png": "[encoded data removed]"
          },
          "metadata": {}
        }
      ]
    },
    {
      "cell_type": "markdown",
      "source": [
        "# Tutorial Practice: How does batch size impact model training?\n",
        "\n",
        "---"
      ],
      "metadata": {
        "id": "6soWOXwjyo8t"
      }
    },
    {
      "cell_type": "code",
      "source": [
        "import numpy as np\n",
        "import matplotlib.pyplot as plt\n",
        "import xarray as xr\n",
        "import keras\n",
        "from keras import layers\n",
        "\n",
        "def z_score(da):\n",
        "    \"\"\"\n",
        "    Compute z-score for training data.\n",
        "    Normalizing data for ML model training.\n",
        "    Args:\n",
        "        da (array): Array of training variable.\n",
        "    \"\"\"\n",
        "    return (da - np.mean(da)) / np.std(da)\n",
        "\n",
        "def min_max_scale(da):\n",
        "    \"\"\"\n",
        "    Scale training data by minimum and maximum values.\n",
        "    Args:\n",
        "        da (array): Array of training variable.\n",
        "    \"\"\"\n",
        "    return (da - np.min(da)) / (np.max(da) - np.min(da))\n",
        "\n",
        "def random_split(data, label, split=0.3, seed=0):\n",
        "    \"\"\"\n",
        "    Help spliting data randomly for training and testing.\n",
        "    \"\"\"\n",
        "    np.random.seed(0)\n",
        "    da_indx = np.random.permutation(data.shape[0])\n",
        "    data  = data[da_indx.astype(int)]\n",
        "    label = label[da_indx.astype(int)]\n",
        "    init_range = int(data.shape[0] * (1 - split))\n",
        "    print(int(data.shape[0] * (1 - split)), data.shape[0] * (1 - split))\n",
        "    return data[:init_range], label[:init_range], data[init_range:], label[init_range:]\n",
        "\n",
        "# !wget https://zenodo.org/records/10576726/files/current_SP3hourly_20110427.nc\n",
        "ds = xr.open_dataset('current_SP3hourly_20110427.nc')\n",
        "\n",
        "features = xr.concat([\n",
        "    ds['dbz_grid'].expand_dims(dim='feature', axis=3),\n",
        "    ds['ctt_grid'].expand_dims(dim='feature', axis=3)],\n",
        "          dim='feature')\n",
        "# grab the maximum of the dbz to use as our labels (regression)\n",
        "labels = ds['dbz_grid'].expand_dims(dim='feature', axis=3).max('x').max('y')\n",
        "\n",
        "# split the data\n",
        "train_feats, train_label, test_feats, test_label = random_split(features, labels)\n",
        "\n",
        "# normalization of our training data (note each feature individually processed!)\n",
        "train_feats_standardized = xr.concat([\n",
        "    z_score(train_feats.isel(feature=0).expand_dims(dim='feature', axis=3)),\n",
        "    z_score(train_feats.isel(feature=1).expand_dims(dim='feature', axis=3))],\n",
        "                                     dim='feature')\n",
        "\n",
        "train_label_standardized = z_score(train_label)"
      ],
      "metadata": {
        "colab": {
          "base_uri": "https://localhost:8080/"
        },
        "id": "_AnwGHorOXFe",
        "outputId": "06976085-d23a-4c83-a281-f02333271480"
      },
      "execution_count": 10,
      "outputs": [
        {
          "output_type": "stream",
          "name": "stdout",
          "text": [
            "1556 1556.8\n"
          ]
        }
      ]
    },
    {
      "cell_type": "code",
      "source": [
        "BATCH_SIZEs = [16,32,64,128]\n",
        "EPOCHS = 80\n",
        "LRs = [1e-2, 1e-3, 1e-4, 1e-5, 5e-6]\n",
        "number_of_features = 2\n",
        "\n",
        "history = {}\n",
        "\n",
        "# fig,axs = plt.subplots(1,2,figsize=[13,5])\n",
        "for BATCH_SIZE in BATCH_SIZEs:\n",
        "    history[f'BS_{BATCH_SIZE}'] = {}\n",
        "    for LR in LRs:\n",
        "        print(f'***********************************')\n",
        "        print(f'BS_{BATCH_SIZE}_LR_{LR:.0e}')\n",
        "\n",
        "        # recreate the model object\n",
        "        model = keras.Sequential()\n",
        "\n",
        "        # input\n",
        "        model.add(keras.Input(shape=(32, 32, number_of_features)))  # 32x32 images\n",
        "\n",
        "        # data augmentation layers\n",
        "        #model.add(layers.RandomFlip(\"horizontal_and_vertical\"))\n",
        "        #model.add(layers.RandomRotation(factor=(-0.5, 0.5)))\n",
        "\n",
        "        # hidden layers\n",
        "        model.add(layers.Conv2D(32, 3, strides=1, padding=\"same\", activation=\"relu\"))\n",
        "        model.add(layers.MaxPooling2D(2))\n",
        "        model.add(layers.Dropout(0.2))\n",
        "\n",
        "        model.add(layers.Conv2D(64, 3, strides=1, padding=\"same\", activation=\"relu\"))\n",
        "        model.add(layers.MaxPooling2D(2))\n",
        "        model.add(layers.Dropout(0.2))\n",
        "\n",
        "        model.add(layers.Conv2D(128, 3, strides=1, padding=\"same\", activation=\"relu\"))\n",
        "        model.add(layers.MaxPooling2D(2))\n",
        "        model.add(layers.Dropout(0.2))\n",
        "\n",
        "        # Now that we have 4x4 feature maps, now apply global max pooling.\n",
        "        model.add(layers.GlobalMaxPooling2D())\n",
        "\n",
        "        # Finally, we add last fully connected (dense) layers\n",
        "        model.add(layers.Dense(64))\n",
        "        model.add(layers.Dense(1, activation=\"linear\"))\n",
        "\n",
        "        # model.summary()\n",
        "\n",
        "        METRICS = [\n",
        "            keras.metrics.MeanSquaredError(name='mean_squared_error'),\n",
        "            keras.metrics.RootMeanSquaredError(name='root_mean_squared_error'),\n",
        "        ]\n",
        "\n",
        "        model.compile(\n",
        "            optimizer=keras.optimizers.Adam(learning_rate=LR),\n",
        "            loss=\"mean_squared_error\",\n",
        "            metrics=METRICS\n",
        "        )\n",
        "\n",
        "        hst = model.fit(\n",
        "            x=train_feats_standardized.values,\n",
        "            y=train_label_standardized.values,\n",
        "            batch_size=BATCH_SIZE,\n",
        "            epochs=EPOCHS,\n",
        "            validation_split=0.1,\n",
        "            shuffle=True,\n",
        "        )\n",
        "        history[f'BS_{BATCH_SIZE}'][f'LR_{LR:.0e}'] = hst\n",
        "\n",
        "import pickle\n",
        "with open('my_dict.pkl', 'wb') as f:\n",
        "    pickle.dump(history, f)"
      ],
      "metadata": {
        "id": "5oNHXJ4_zJ3I",
        "colab": {
          "base_uri": "https://localhost:8080/"
        },
        "outputId": "01556959-8b83-4c92-f3e8-3a6e57f9477d"
      },
      "execution_count": null,
      "outputs": [
        {
          "output_type": "stream",
          "name": "stdout",
          "text": [
            "***********************************\n",
            "BS_16_LR_1e-02\n",
            "Epoch 1/80\n",
            "\u001b[1m88/88\u001b[0m \u001b[32m━━━━━━━━━━━━━━━━━━━━\u001b[0m\u001b[37m\u001b[0m \u001b[1m7s\u001b[0m 51ms/step - loss: 19.6752 - mean_squared_error: 19.6752 - root_mean_squared_error: 3.8931 - val_loss: 0.4819 - val_mean_squared_error: 0.4819 - val_root_mean_squared_error: 0.6942\n",
            "Epoch 2/80\n",
            "\u001b[1m88/88\u001b[0m \u001b[32m━━━━━━━━━━━━━━━━━━━━\u001b[0m\u001b[37m\u001b[0m \u001b[1m4s\u001b[0m 38ms/step - loss: 0.4341 - mean_squared_error: 0.4341 - root_mean_squared_error: 0.6579 - val_loss: 0.6793 - val_mean_squared_error: 0.6793 - val_root_mean_squared_error: 0.8242\n",
            "Epoch 3/80\n",
            "\u001b[1m88/88\u001b[0m \u001b[32m━━━━━━━━━━━━━━━━━━━━\u001b[0m\u001b[37m\u001b[0m \u001b[1m5s\u001b[0m 38ms/step - loss: 0.3146 - mean_squared_error: 0.3146 - root_mean_squared_error: 0.5605 - val_loss: 0.3198 - val_mean_squared_error: 0.3198 - val_root_mean_squared_error: 0.5655\n",
            "Epoch 4/80\n",
            "\u001b[1m88/88\u001b[0m \u001b[32m━━━━━━━━━━━━━━━━━━━━\u001b[0m\u001b[37m\u001b[0m \u001b[1m6s\u001b[0m 52ms/step - loss: 0.2009 - mean_squared_error: 0.2009 - root_mean_squared_error: 0.4475 - val_loss: 0.4738 - val_mean_squared_error: 0.4738 - val_root_mean_squared_error: 0.6883\n",
            "Epoch 5/80\n",
            "\u001b[1m88/88\u001b[0m \u001b[32m━━━━━━━━━━━━━━━━━━━━\u001b[0m\u001b[37m\u001b[0m \u001b[1m3s\u001b[0m 38ms/step - loss: 0.2196 - mean_squared_error: 0.2196 - root_mean_squared_error: 0.4680 - val_loss: 0.6128 - val_mean_squared_error: 0.6128 - val_root_mean_squared_error: 0.7828\n",
            "Epoch 6/80\n",
            "\u001b[1m88/88\u001b[0m \u001b[32m━━━━━━━━━━━━━━━━━━━━\u001b[0m\u001b[37m\u001b[0m \u001b[1m4s\u001b[0m 43ms/step - loss: 0.1883 - mean_squared_error: 0.1883 - root_mean_squared_error: 0.4335 - val_loss: 0.4635 - val_mean_squared_error: 0.4635 - val_root_mean_squared_error: 0.6808\n",
            "Epoch 7/80\n",
            "\u001b[1m88/88\u001b[0m \u001b[32m━━━━━━━━━━━━━━━━━━━━\u001b[0m\u001b[37m\u001b[0m \u001b[1m6s\u001b[0m 50ms/step - loss: 0.1898 - mean_squared_error: 0.1898 - root_mean_squared_error: 0.4351 - val_loss: 0.1571 - val_mean_squared_error: 0.1571 - val_root_mean_squared_error: 0.3963\n",
            "Epoch 8/80\n",
            "\u001b[1m88/88\u001b[0m \u001b[32m━━━━━━━━━━━━━━━━━━━━\u001b[0m\u001b[37m\u001b[0m \u001b[1m3s\u001b[0m 39ms/step - loss: 0.1827 - mean_squared_error: 0.1827 - root_mean_squared_error: 0.4266 - val_loss: 0.1995 - val_mean_squared_error: 0.1995 - val_root_mean_squared_error: 0.4466\n",
            "Epoch 9/80\n",
            "\u001b[1m88/88\u001b[0m \u001b[32m━━━━━━━━━━━━━━━━━━━━\u001b[0m\u001b[37m\u001b[0m \u001b[1m6s\u001b[0m 45ms/step - loss: 0.1453 - mean_squared_error: 0.1453 - root_mean_squared_error: 0.3808 - val_loss: 0.3483 - val_mean_squared_error: 0.3483 - val_root_mean_squared_error: 0.5901\n",
            "Epoch 10/80\n",
            "\u001b[1m88/88\u001b[0m \u001b[32m━━━━━━━━━━━━━━━━━━━━\u001b[0m\u001b[37m\u001b[0m \u001b[1m5s\u001b[0m 46ms/step - loss: 0.1551 - mean_squared_error: 0.1551 - root_mean_squared_error: 0.3933 - val_loss: 0.7744 - val_mean_squared_error: 0.7744 - val_root_mean_squared_error: 0.8800\n",
            "Epoch 11/80\n",
            "\u001b[1m88/88\u001b[0m \u001b[32m━━━━━━━━━━━━━━━━━━━━\u001b[0m\u001b[37m\u001b[0m \u001b[1m4s\u001b[0m 39ms/step - loss: 0.2342 - mean_squared_error: 0.2342 - root_mean_squared_error: 0.4812 - val_loss: 0.3784 - val_mean_squared_error: 0.3784 - val_root_mean_squared_error: 0.6151\n",
            "Epoch 12/80\n",
            "\u001b[1m88/88\u001b[0m \u001b[32m━━━━━━━━━━━━━━━━━━━━\u001b[0m\u001b[37m\u001b[0m \u001b[1m6s\u001b[0m 49ms/step - loss: 0.1296 - mean_squared_error: 0.1296 - root_mean_squared_error: 0.3599 - val_loss: 0.3214 - val_mean_squared_error: 0.3214 - val_root_mean_squared_error: 0.5669\n",
            "Epoch 13/80\n",
            "\u001b[1m88/88\u001b[0m \u001b[32m━━━━━━━━━━━━━━━━━━━━\u001b[0m\u001b[37m\u001b[0m \u001b[1m3s\u001b[0m 38ms/step - loss: 0.1087 - mean_squared_error: 0.1087 - root_mean_squared_error: 0.3291 - val_loss: 0.4422 - val_mean_squared_error: 0.4422 - val_root_mean_squared_error: 0.6650\n",
            "Epoch 14/80\n",
            "\u001b[1m88/88\u001b[0m \u001b[32m━━━━━━━━━━━━━━━━━━━━\u001b[0m\u001b[37m\u001b[0m \u001b[1m3s\u001b[0m 38ms/step - loss: 0.1666 - mean_squared_error: 0.1666 - root_mean_squared_error: 0.4079 - val_loss: 0.3320 - val_mean_squared_error: 0.3320 - val_root_mean_squared_error: 0.5762\n",
            "Epoch 15/80\n",
            "\u001b[1m88/88\u001b[0m \u001b[32m━━━━━━━━━━━━━━━━━━━━\u001b[0m\u001b[37m\u001b[0m \u001b[1m5s\u001b[0m 53ms/step - loss: 0.1346 - mean_squared_error: 0.1346 - root_mean_squared_error: 0.3665 - val_loss: 0.2393 - val_mean_squared_error: 0.2393 - val_root_mean_squared_error: 0.4892\n",
            "Epoch 16/80\n",
            "\u001b[1m88/88\u001b[0m \u001b[32m━━━━━━━━━━━━━━━━━━━━\u001b[0m\u001b[37m\u001b[0m \u001b[1m3s\u001b[0m 38ms/step - loss: 0.1218 - mean_squared_error: 0.1218 - root_mean_squared_error: 0.3489 - val_loss: 0.3964 - val_mean_squared_error: 0.3964 - val_root_mean_squared_error: 0.6296\n",
            "Epoch 17/80\n",
            "\u001b[1m88/88\u001b[0m \u001b[32m━━━━━━━━━━━━━━━━━━━━\u001b[0m\u001b[37m\u001b[0m \u001b[1m6s\u001b[0m 45ms/step - loss: 0.1146 - mean_squared_error: 0.1146 - root_mean_squared_error: 0.3384 - val_loss: 0.3967 - val_mean_squared_error: 0.3967 - val_root_mean_squared_error: 0.6298\n",
            "Epoch 18/80\n",
            "\u001b[1m88/88\u001b[0m \u001b[32m━━━━━━━━━━━━━━━━━━━━\u001b[0m\u001b[37m\u001b[0m \u001b[1m5s\u001b[0m 45ms/step - loss: 0.1248 - mean_squared_error: 0.1248 - root_mean_squared_error: 0.3530 - val_loss: 0.3915 - val_mean_squared_error: 0.3915 - val_root_mean_squared_error: 0.6257\n",
            "Epoch 19/80\n",
            "\u001b[1m88/88\u001b[0m \u001b[32m━━━━━━━━━━━━━━━━━━━━\u001b[0m\u001b[37m\u001b[0m \u001b[1m3s\u001b[0m 38ms/step - loss: 0.1101 - mean_squared_error: 0.1101 - root_mean_squared_error: 0.3316 - val_loss: 0.2764 - val_mean_squared_error: 0.2764 - val_root_mean_squared_error: 0.5257\n",
            "Epoch 20/80\n",
            "\u001b[1m88/88\u001b[0m \u001b[32m━━━━━━━━━━━━━━━━━━━━\u001b[0m\u001b[37m\u001b[0m \u001b[1m3s\u001b[0m 38ms/step - loss: 0.1173 - mean_squared_error: 0.1173 - root_mean_squared_error: 0.3419 - val_loss: 0.2065 - val_mean_squared_error: 0.2065 - val_root_mean_squared_error: 0.4544\n",
            "Epoch 21/80\n",
            "\u001b[1m88/88\u001b[0m \u001b[32m━━━━━━━━━━━━━━━━━━━━\u001b[0m\u001b[37m\u001b[0m \u001b[1m5s\u001b[0m 54ms/step - loss: 0.1042 - mean_squared_error: 0.1042 - root_mean_squared_error: 0.3219 - val_loss: 0.4426 - val_mean_squared_error: 0.4426 - val_root_mean_squared_error: 0.6653\n",
            "Epoch 22/80\n",
            "\u001b[1m88/88\u001b[0m \u001b[32m━━━━━━━━━━━━━━━━━━━━\u001b[0m\u001b[37m\u001b[0m \u001b[1m4s\u001b[0m 37ms/step - loss: 0.0908 - mean_squared_error: 0.0908 - root_mean_squared_error: 0.3011 - val_loss: 0.2360 - val_mean_squared_error: 0.2360 - val_root_mean_squared_error: 0.4858\n",
            "Epoch 23/80\n",
            "\u001b[1m88/88\u001b[0m \u001b[32m━━━━━━━━━━━━━━━━━━━━\u001b[0m\u001b[37m\u001b[0m \u001b[1m3s\u001b[0m 38ms/step - loss: 0.0910 - mean_squared_error: 0.0910 - root_mean_squared_error: 0.3005 - val_loss: 0.3558 - val_mean_squared_error: 0.3558 - val_root_mean_squared_error: 0.5965\n",
            "Epoch 24/80\n",
            "\u001b[1m88/88\u001b[0m \u001b[32m━━━━━━━━━━━━━━━━━━━━\u001b[0m\u001b[37m\u001b[0m \u001b[1m4s\u001b[0m 47ms/step - loss: 0.1017 - mean_squared_error: 0.1017 - root_mean_squared_error: 0.3185 - val_loss: 0.3038 - val_mean_squared_error: 0.3038 - val_root_mean_squared_error: 0.5512\n",
            "Epoch 25/80\n",
            "\u001b[1m88/88\u001b[0m \u001b[32m━━━━━━━━━━━━━━━━━━━━\u001b[0m\u001b[37m\u001b[0m \u001b[1m4s\u001b[0m 44ms/step - loss: 0.1012 - mean_squared_error: 0.1012 - root_mean_squared_error: 0.3177 - val_loss: 0.4725 - val_mean_squared_error: 0.4725 - val_root_mean_squared_error: 0.6874\n",
            "Epoch 26/80\n",
            "\u001b[1m88/88\u001b[0m \u001b[32m━━━━━━━━━━━━━━━━━━━━\u001b[0m\u001b[37m\u001b[0m \u001b[1m5s\u001b[0m 38ms/step - loss: 0.0962 - mean_squared_error: 0.0962 - root_mean_squared_error: 0.3095 - val_loss: 0.3188 - val_mean_squared_error: 0.3188 - val_root_mean_squared_error: 0.5646\n",
            "Epoch 27/80\n",
            "\u001b[1m88/88\u001b[0m \u001b[32m━━━━━━━━━━━━━━━━━━━━\u001b[0m\u001b[37m\u001b[0m \u001b[1m4s\u001b[0m 43ms/step - loss: 0.0934 - mean_squared_error: 0.0934 - root_mean_squared_error: 0.3048 - val_loss: 0.2658 - val_mean_squared_error: 0.2658 - val_root_mean_squared_error: 0.5156\n",
            "Epoch 28/80\n",
            "\u001b[1m88/88\u001b[0m \u001b[32m━━━━━━━━━━━━━━━━━━━━\u001b[0m\u001b[37m\u001b[0m \u001b[1m4s\u001b[0m 47ms/step - loss: 0.1268 - mean_squared_error: 0.1268 - root_mean_squared_error: 0.3550 - val_loss: 0.5183 - val_mean_squared_error: 0.5183 - val_root_mean_squared_error: 0.7200\n",
            "Epoch 29/80\n",
            "\u001b[1m88/88\u001b[0m \u001b[32m━━━━━━━━━━━━━━━━━━━━\u001b[0m\u001b[37m\u001b[0m \u001b[1m4s\u001b[0m 38ms/step - loss: 0.0990 - mean_squared_error: 0.0990 - root_mean_squared_error: 0.3145 - val_loss: 0.4615 - val_mean_squared_error: 0.4615 - val_root_mean_squared_error: 0.6793\n",
            "Epoch 30/80\n",
            "\u001b[1m88/88\u001b[0m \u001b[32m━━━━━━━━━━━━━━━━━━━━\u001b[0m\u001b[37m\u001b[0m \u001b[1m3s\u001b[0m 38ms/step - loss: 0.0917 - mean_squared_error: 0.0917 - root_mean_squared_error: 0.3027 - val_loss: 0.3550 - val_mean_squared_error: 0.3550 - val_root_mean_squared_error: 0.5958\n",
            "Epoch 31/80\n",
            "\u001b[1m88/88\u001b[0m \u001b[32m━━━━━━━━━━━━━━━━━━━━\u001b[0m\u001b[37m\u001b[0m \u001b[1m5s\u001b[0m 53ms/step - loss: 0.0927 - mean_squared_error: 0.0927 - root_mean_squared_error: 0.3041 - val_loss: 0.4698 - val_mean_squared_error: 0.4698 - val_root_mean_squared_error: 0.6854\n",
            "Epoch 32/80\n",
            "\u001b[1m88/88\u001b[0m \u001b[32m━━━━━━━━━━━━━━━━━━━━\u001b[0m\u001b[37m\u001b[0m \u001b[1m4s\u001b[0m 38ms/step - loss: 0.0925 - mean_squared_error: 0.0925 - root_mean_squared_error: 0.3029 - val_loss: 0.1920 - val_mean_squared_error: 0.1920 - val_root_mean_squared_error: 0.4382\n",
            "Epoch 33/80\n",
            "\u001b[1m88/88\u001b[0m \u001b[32m━━━━━━━━━━━━━━━━━━━━\u001b[0m\u001b[37m\u001b[0m \u001b[1m5s\u001b[0m 40ms/step - loss: 0.1466 - mean_squared_error: 0.1466 - root_mean_squared_error: 0.3822 - val_loss: 0.3136 - val_mean_squared_error: 0.3136 - val_root_mean_squared_error: 0.5600\n",
            "Epoch 34/80\n",
            "\u001b[1m88/88\u001b[0m \u001b[32m━━━━━━━━━━━━━━━━━━━━\u001b[0m\u001b[37m\u001b[0m \u001b[1m4s\u001b[0m 50ms/step - loss: 0.0856 - mean_squared_error: 0.0856 - root_mean_squared_error: 0.2921 - val_loss: 0.2764 - val_mean_squared_error: 0.2764 - val_root_mean_squared_error: 0.5257\n",
            "Epoch 35/80\n",
            "\u001b[1m88/88\u001b[0m \u001b[32m━━━━━━━━━━━━━━━━━━━━\u001b[0m\u001b[37m\u001b[0m \u001b[1m4s\u001b[0m 38ms/step - loss: 0.0898 - mean_squared_error: 0.0898 - root_mean_squared_error: 0.2996 - val_loss: 0.2157 - val_mean_squared_error: 0.2157 - val_root_mean_squared_error: 0.4645\n",
            "Epoch 36/80\n",
            "\u001b[1m88/88\u001b[0m \u001b[32m━━━━━━━━━━━━━━━━━━━━\u001b[0m\u001b[37m\u001b[0m \u001b[1m6s\u001b[0m 48ms/step - loss: 0.1042 - mean_squared_error: 0.1042 - root_mean_squared_error: 0.3222 - val_loss: 0.3693 - val_mean_squared_error: 0.3693 - val_root_mean_squared_error: 0.6077\n",
            "Epoch 37/80\n",
            "\u001b[1m88/88\u001b[0m \u001b[32m━━━━━━━━━━━━━━━━━━━━\u001b[0m\u001b[37m\u001b[0m \u001b[1m4s\u001b[0m 43ms/step - loss: 0.0848 - mean_squared_error: 0.0848 - root_mean_squared_error: 0.2911 - val_loss: 0.3959 - val_mean_squared_error: 0.3959 - val_root_mean_squared_error: 0.6292\n",
            "Epoch 38/80\n",
            "\u001b[1m88/88\u001b[0m \u001b[32m━━━━━━━━━━━━━━━━━━━━\u001b[0m\u001b[37m\u001b[0m \u001b[1m5s\u001b[0m 38ms/step - loss: 0.0915 - mean_squared_error: 0.0915 - root_mean_squared_error: 0.3021 - val_loss: 0.2122 - val_mean_squared_error: 0.2122 - val_root_mean_squared_error: 0.4607\n",
            "Epoch 39/80\n",
            "\u001b[1m88/88\u001b[0m \u001b[32m━━━━━━━━━━━━━━━━━━━━\u001b[0m\u001b[37m\u001b[0m \u001b[1m4s\u001b[0m 43ms/step - loss: 0.0847 - mean_squared_error: 0.0847 - root_mean_squared_error: 0.2907 - val_loss: 0.4140 - val_mean_squared_error: 0.4140 - val_root_mean_squared_error: 0.6434\n",
            "Epoch 40/80\n",
            "\u001b[1m88/88\u001b[0m \u001b[32m━━━━━━━━━━━━━━━━━━━━\u001b[0m\u001b[37m\u001b[0m \u001b[1m5s\u001b[0m 38ms/step - loss: 0.0844 - mean_squared_error: 0.0844 - root_mean_squared_error: 0.2897 - val_loss: 0.3329 - val_mean_squared_error: 0.3329 - val_root_mean_squared_error: 0.5770\n",
            "Epoch 41/80\n",
            "\u001b[1m88/88\u001b[0m \u001b[32m━━━━━━━━━━━━━━━━━━━━\u001b[0m\u001b[37m\u001b[0m \u001b[1m3s\u001b[0m 38ms/step - loss: 0.0784 - mean_squared_error: 0.0784 - root_mean_squared_error: 0.2798 - val_loss: 0.2551 - val_mean_squared_error: 0.2551 - val_root_mean_squared_error: 0.5051\n",
            "Epoch 42/80\n",
            "\u001b[1m88/88\u001b[0m \u001b[32m━━━━━━━━━━━━━━━━━━━━\u001b[0m\u001b[37m\u001b[0m \u001b[1m7s\u001b[0m 62ms/step - loss: 0.0881 - mean_squared_error: 0.0881 - root_mean_squared_error: 0.2967 - val_loss: 0.3796 - val_mean_squared_error: 0.3796 - val_root_mean_squared_error: 0.6161\n",
            "Epoch 43/80\n",
            "\u001b[1m88/88\u001b[0m \u001b[32m━━━━━━━━━━━━━━━━━━━━\u001b[0m\u001b[37m\u001b[0m \u001b[1m8s\u001b[0m 38ms/step - loss: 0.0728 - mean_squared_error: 0.0728 - root_mean_squared_error: 0.2696 - val_loss: 0.5157 - val_mean_squared_error: 0.5157 - val_root_mean_squared_error: 0.7181\n",
            "Epoch 44/80\n",
            "\u001b[1m88/88\u001b[0m \u001b[32m━━━━━━━━━━━━━━━━━━━━\u001b[0m\u001b[37m\u001b[0m \u001b[1m4s\u001b[0m 46ms/step - loss: 0.1060 - mean_squared_error: 0.1060 - root_mean_squared_error: 0.3250 - val_loss: 0.3300 - val_mean_squared_error: 0.3300 - val_root_mean_squared_error: 0.5745\n",
            "Epoch 45/80\n",
            "\u001b[1m88/88\u001b[0m \u001b[32m━━━━━━━━━━━━━━━━━━━━\u001b[0m\u001b[37m\u001b[0m \u001b[1m4s\u001b[0m 45ms/step - loss: 0.0835 - mean_squared_error: 0.0835 - root_mean_squared_error: 0.2887 - val_loss: 0.2607 - val_mean_squared_error: 0.2607 - val_root_mean_squared_error: 0.5106\n",
            "Epoch 46/80\n",
            "\u001b[1m88/88\u001b[0m \u001b[32m━━━━━━━━━━━━━━━━━━━━\u001b[0m\u001b[37m\u001b[0m \u001b[1m5s\u001b[0m 38ms/step - loss: 0.0763 - mean_squared_error: 0.0763 - root_mean_squared_error: 0.2760 - val_loss: 0.1910 - val_mean_squared_error: 0.1910 - val_root_mean_squared_error: 0.4371\n",
            "Epoch 47/80\n",
            "\u001b[1m88/88\u001b[0m \u001b[32m━━━━━━━━━━━━━━━━━━━━\u001b[0m\u001b[37m\u001b[0m \u001b[1m4s\u001b[0m 41ms/step - loss: 0.0840 - mean_squared_error: 0.0840 - root_mean_squared_error: 0.2887 - val_loss: 0.4029 - val_mean_squared_error: 0.4029 - val_root_mean_squared_error: 0.6347\n",
            "Epoch 48/80\n",
            "\u001b[1m88/88\u001b[0m \u001b[32m━━━━━━━━━━━━━━━━━━━━\u001b[0m\u001b[37m\u001b[0m \u001b[1m4s\u001b[0m 50ms/step - loss: 0.0671 - mean_squared_error: 0.0671 - root_mean_squared_error: 0.2589 - val_loss: 0.3658 - val_mean_squared_error: 0.3658 - val_root_mean_squared_error: 0.6048\n",
            "Epoch 49/80\n",
            "\u001b[1m88/88\u001b[0m \u001b[32m━━━━━━━━━━━━━━━━━━━━\u001b[0m\u001b[37m\u001b[0m \u001b[1m3s\u001b[0m 38ms/step - loss: 0.0768 - mean_squared_error: 0.0768 - root_mean_squared_error: 0.2769 - val_loss: 0.4681 - val_mean_squared_error: 0.4681 - val_root_mean_squared_error: 0.6842\n",
            "Epoch 50/80\n",
            "\u001b[1m88/88\u001b[0m \u001b[32m━━━━━━━━━━━━━━━━━━━━\u001b[0m\u001b[37m\u001b[0m \u001b[1m6s\u001b[0m 43ms/step - loss: 0.1096 - mean_squared_error: 0.1096 - root_mean_squared_error: 0.3307 - val_loss: 0.3570 - val_mean_squared_error: 0.3570 - val_root_mean_squared_error: 0.5975\n",
            "Epoch 51/80\n",
            "\u001b[1m88/88\u001b[0m \u001b[32m━━━━━━━━━━━━━━━━━━━━\u001b[0m\u001b[37m\u001b[0m \u001b[1m5s\u001b[0m 38ms/step - loss: 0.0966 - mean_squared_error: 0.0966 - root_mean_squared_error: 0.3102 - val_loss: 0.5220 - val_mean_squared_error: 0.5220 - val_root_mean_squared_error: 0.7225\n",
            "Epoch 52/80\n",
            "\u001b[1m88/88\u001b[0m \u001b[32m━━━━━━━━━━━━━━━━━━━━\u001b[0m\u001b[37m\u001b[0m \u001b[1m5s\u001b[0m 38ms/step - loss: 0.0837 - mean_squared_error: 0.0837 - root_mean_squared_error: 0.2892 - val_loss: 0.3484 - val_mean_squared_error: 0.3484 - val_root_mean_squared_error: 0.5903\n",
            "Epoch 53/80\n",
            "\u001b[1m88/88\u001b[0m \u001b[32m━━━━━━━━━━━━━━━━━━━━\u001b[0m\u001b[37m\u001b[0m \u001b[1m5s\u001b[0m 53ms/step - loss: 0.0736 - mean_squared_error: 0.0736 - root_mean_squared_error: 0.2703 - val_loss: 0.3852 - val_mean_squared_error: 0.3852 - val_root_mean_squared_error: 0.6207\n",
            "Epoch 54/80\n",
            "\u001b[1m88/88\u001b[0m \u001b[32m━━━━━━━━━━━━━━━━━━━━\u001b[0m\u001b[37m\u001b[0m \u001b[1m3s\u001b[0m 38ms/step - loss: 0.0908 - mean_squared_error: 0.0908 - root_mean_squared_error: 0.3012 - val_loss: 0.3768 - val_mean_squared_error: 0.3768 - val_root_mean_squared_error: 0.6138\n",
            "Epoch 55/80\n",
            "\u001b[1m88/88\u001b[0m \u001b[32m━━━━━━━━━━━━━━━━━━━━\u001b[0m\u001b[37m\u001b[0m \u001b[1m3s\u001b[0m 39ms/step - loss: 0.0799 - mean_squared_error: 0.0799 - root_mean_squared_error: 0.2821 - val_loss: 0.2807 - val_mean_squared_error: 0.2807 - val_root_mean_squared_error: 0.5299\n",
            "Epoch 56/80\n",
            "\u001b[1m88/88\u001b[0m \u001b[32m━━━━━━━━━━━━━━━━━━━━\u001b[0m\u001b[37m\u001b[0m \u001b[1m6s\u001b[0m 53ms/step - loss: 0.1012 - mean_squared_error: 0.1012 - root_mean_squared_error: 0.3169 - val_loss: 0.3516 - val_mean_squared_error: 0.3516 - val_root_mean_squared_error: 0.5929\n",
            "Epoch 57/80\n",
            "\u001b[1m88/88\u001b[0m \u001b[32m━━━━━━━━━━━━━━━━━━━━\u001b[0m\u001b[37m\u001b[0m \u001b[1m4s\u001b[0m 39ms/step - loss: 0.0816 - mean_squared_error: 0.0816 - root_mean_squared_error: 0.2840 - val_loss: 0.3340 - val_mean_squared_error: 0.3340 - val_root_mean_squared_error: 0.5779\n",
            "Epoch 58/80\n",
            "\u001b[1m88/88\u001b[0m \u001b[32m━━━━━━━━━━━━━━━━━━━━\u001b[0m\u001b[37m\u001b[0m \u001b[1m5s\u001b[0m 39ms/step - loss: 0.0948 - mean_squared_error: 0.0948 - root_mean_squared_error: 0.3070 - val_loss: 0.3364 - val_mean_squared_error: 0.3364 - val_root_mean_squared_error: 0.5800\n",
            "Epoch 59/80\n",
            "\u001b[1m88/88\u001b[0m \u001b[32m━━━━━━━━━━━━━━━━━━━━\u001b[0m\u001b[37m\u001b[0m \u001b[1m6s\u001b[0m 47ms/step - loss: 0.0896 - mean_squared_error: 0.0896 - root_mean_squared_error: 0.2992 - val_loss: 0.4752 - val_mean_squared_error: 0.4752 - val_root_mean_squared_error: 0.6893\n",
            "Epoch 60/80\n",
            "\u001b[1m88/88\u001b[0m \u001b[32m━━━━━━━━━━━━━━━━━━━━\u001b[0m\u001b[37m\u001b[0m \u001b[1m4s\u001b[0m 38ms/step - loss: 0.0952 - mean_squared_error: 0.0952 - root_mean_squared_error: 0.3083 - val_loss: 0.4578 - val_mean_squared_error: 0.4578 - val_root_mean_squared_error: 0.6766\n",
            "Epoch 61/80\n",
            "\u001b[1m88/88\u001b[0m \u001b[32m━━━━━━━━━━━━━━━━━━━━\u001b[0m\u001b[37m\u001b[0m \u001b[1m4s\u001b[0m 41ms/step - loss: 0.0798 - mean_squared_error: 0.0798 - root_mean_squared_error: 0.2822 - val_loss: 0.4530 - val_mean_squared_error: 0.4530 - val_root_mean_squared_error: 0.6730\n",
            "Epoch 62/80\n",
            "\u001b[1m88/88\u001b[0m \u001b[32m━━━━━━━━━━━━━━━━━━━━\u001b[0m\u001b[37m\u001b[0m \u001b[1m5s\u001b[0m 52ms/step - loss: 0.0844 - mean_squared_error: 0.0844 - root_mean_squared_error: 0.2898 - val_loss: 0.5334 - val_mean_squared_error: 0.5334 - val_root_mean_squared_error: 0.7303\n",
            "Epoch 63/80\n",
            "\u001b[1m88/88\u001b[0m \u001b[32m━━━━━━━━━━━━━━━━━━━━\u001b[0m\u001b[37m\u001b[0m \u001b[1m4s\u001b[0m 38ms/step - loss: 0.0753 - mean_squared_error: 0.0753 - root_mean_squared_error: 0.2741 - val_loss: 0.4133 - val_mean_squared_error: 0.4133 - val_root_mean_squared_error: 0.6429\n",
            "Epoch 64/80\n",
            "\u001b[1m88/88\u001b[0m \u001b[32m━━━━━━━━━━━━━━━━━━━━\u001b[0m\u001b[37m\u001b[0m \u001b[1m3s\u001b[0m 38ms/step - loss: 0.0780 - mean_squared_error: 0.0780 - root_mean_squared_error: 0.2792 - val_loss: 0.5320 - val_mean_squared_error: 0.5320 - val_root_mean_squared_error: 0.7294\n",
            "Epoch 65/80\n",
            "\u001b[1m88/88\u001b[0m \u001b[32m━━━━━━━━━━━━━━━━━━━━\u001b[0m\u001b[37m\u001b[0m \u001b[1m6s\u001b[0m 46ms/step - loss: 0.1025 - mean_squared_error: 0.1025 - root_mean_squared_error: 0.3196 - val_loss: 0.4798 - val_mean_squared_error: 0.4798 - val_root_mean_squared_error: 0.6926\n",
            "Epoch 66/80\n",
            "\u001b[1m88/88\u001b[0m \u001b[32m━━━━━━━━━━━━━━━━━━━━\u001b[0m\u001b[37m\u001b[0m \u001b[1m3s\u001b[0m 39ms/step - loss: 0.0945 - mean_squared_error: 0.0945 - root_mean_squared_error: 0.3068 - val_loss: 0.4507 - val_mean_squared_error: 0.4507 - val_root_mean_squared_error: 0.6713\n",
            "Epoch 67/80\n",
            "\u001b[1m88/88\u001b[0m \u001b[32m━━━━━━━━━━━━━━━━━━━━\u001b[0m\u001b[37m\u001b[0m \u001b[1m3s\u001b[0m 38ms/step - loss: 0.0815 - mean_squared_error: 0.0815 - root_mean_squared_error: 0.2854 - val_loss: 0.6002 - val_mean_squared_error: 0.6002 - val_root_mean_squared_error: 0.7747\n",
            "Epoch 68/80\n",
            "\u001b[1m88/88\u001b[0m \u001b[32m━━━━━━━━━━━━━━━━━━━━\u001b[0m\u001b[37m\u001b[0m \u001b[1m5s\u001b[0m 42ms/step - loss: 0.0740 - mean_squared_error: 0.0740 - root_mean_squared_error: 0.2717 - val_loss: 0.4018 - val_mean_squared_error: 0.4018 - val_root_mean_squared_error: 0.6339\n",
            "Epoch 69/80\n",
            "\u001b[1m88/88\u001b[0m \u001b[32m━━━━━━━━━━━━━━━━━━━━\u001b[0m\u001b[37m\u001b[0m \u001b[1m3s\u001b[0m 39ms/step - loss: 0.0701 - mean_squared_error: 0.0701 - root_mean_squared_error: 0.2646 - val_loss: 0.5602 - val_mean_squared_error: 0.5602 - val_root_mean_squared_error: 0.7485\n",
            "Epoch 70/80\n",
            "\u001b[1m88/88\u001b[0m \u001b[32m━━━━━━━━━━━━━━━━━━━━\u001b[0m\u001b[37m\u001b[0m \u001b[1m3s\u001b[0m 38ms/step - loss: 0.0788 - mean_squared_error: 0.0788 - root_mean_squared_error: 0.2806 - val_loss: 0.3098 - val_mean_squared_error: 0.3098 - val_root_mean_squared_error: 0.5566\n",
            "Epoch 71/80\n",
            "\u001b[1m88/88\u001b[0m \u001b[32m━━━━━━━━━━━━━━━━━━━━\u001b[0m\u001b[37m\u001b[0m \u001b[1m5s\u001b[0m 54ms/step - loss: 0.0659 - mean_squared_error: 0.0659 - root_mean_squared_error: 0.2562 - val_loss: 0.4341 - val_mean_squared_error: 0.4341 - val_root_mean_squared_error: 0.6588\n",
            "Epoch 72/80\n",
            "\u001b[1m88/88\u001b[0m \u001b[32m━━━━━━━━━━━━━━━━━━━━\u001b[0m\u001b[37m\u001b[0m \u001b[1m4s\u001b[0m 38ms/step - loss: 0.0714 - mean_squared_error: 0.0714 - root_mean_squared_error: 0.2670 - val_loss: 0.3875 - val_mean_squared_error: 0.3875 - val_root_mean_squared_error: 0.6225\n",
            "Epoch 73/80\n",
            "\u001b[1m88/88\u001b[0m \u001b[32m━━━━━━━━━━━━━━━━━━━━\u001b[0m\u001b[37m\u001b[0m \u001b[1m5s\u001b[0m 38ms/step - loss: 0.0788 - mean_squared_error: 0.0788 - root_mean_squared_error: 0.2804 - val_loss: 0.3278 - val_mean_squared_error: 0.3278 - val_root_mean_squared_error: 0.5726\n",
            "Epoch 74/80\n",
            "\u001b[1m88/88\u001b[0m \u001b[32m━━━━━━━━━━━━━━━━━━━━\u001b[0m\u001b[37m\u001b[0m \u001b[1m5s\u001b[0m 38ms/step - loss: 0.0847 - mean_squared_error: 0.0847 - root_mean_squared_error: 0.2910 - val_loss: 0.5248 - val_mean_squared_error: 0.5248 - val_root_mean_squared_error: 0.7244\n",
            "Epoch 75/80\n",
            "\u001b[1m88/88\u001b[0m \u001b[32m━━━━━━━━━━━━━━━━━━━━\u001b[0m\u001b[37m\u001b[0m \u001b[1m5s\u001b[0m 38ms/step - loss: 0.1363 - mean_squared_error: 0.1363 - root_mean_squared_error: 0.3686 - val_loss: 0.7151 - val_mean_squared_error: 0.7151 - val_root_mean_squared_error: 0.8456\n",
            "Epoch 76/80\n",
            "\u001b[1m88/88\u001b[0m \u001b[32m━━━━━━━━━━━━━━━━━━━━\u001b[0m\u001b[37m\u001b[0m \u001b[1m5s\u001b[0m 54ms/step - loss: 0.1303 - mean_squared_error: 0.1303 - root_mean_squared_error: 0.3599 - val_loss: 0.3737 - val_mean_squared_error: 0.3737 - val_root_mean_squared_error: 0.6113\n",
            "Epoch 77/80\n",
            "\u001b[1m88/88\u001b[0m \u001b[32m━━━━━━━━━━━━━━━━━━━━\u001b[0m\u001b[37m\u001b[0m \u001b[1m4s\u001b[0m 39ms/step - loss: 0.0849 - mean_squared_error: 0.0849 - root_mean_squared_error: 0.2911 - val_loss: 0.3619 - val_mean_squared_error: 0.3619 - val_root_mean_squared_error: 0.6016\n",
            "Epoch 78/80\n",
            "\u001b[1m88/88\u001b[0m \u001b[32m━━━━━━━━━━━━━━━━━━━━\u001b[0m\u001b[37m\u001b[0m \u001b[1m3s\u001b[0m 39ms/step - loss: 0.0911 - mean_squared_error: 0.0911 - root_mean_squared_error: 0.3013 - val_loss: 0.4398 - val_mean_squared_error: 0.4398 - val_root_mean_squared_error: 0.6632\n",
            "Epoch 79/80\n",
            "\u001b[1m88/88\u001b[0m \u001b[32m━━━━━━━━━━━━━━━━━━━━\u001b[0m\u001b[37m\u001b[0m \u001b[1m4s\u001b[0m 47ms/step - loss: 0.0619 - mean_squared_error: 0.0619 - root_mean_squared_error: 0.2485 - val_loss: 0.5744 - val_mean_squared_error: 0.5744 - val_root_mean_squared_error: 0.7579\n",
            "Epoch 80/80\n",
            "\u001b[1m88/88\u001b[0m \u001b[32m━━━━━━━━━━━━━━━━━━━━\u001b[0m\u001b[37m\u001b[0m \u001b[1m4s\u001b[0m 45ms/step - loss: 0.0711 - mean_squared_error: 0.0711 - root_mean_squared_error: 0.2664 - val_loss: 0.3692 - val_mean_squared_error: 0.3692 - val_root_mean_squared_error: 0.6076\n",
            "***********************************\n",
            "BS_16_LR_1e-03\n",
            "Epoch 1/80\n",
            "\u001b[1m88/88\u001b[0m \u001b[32m━━━━━━━━━━━━━━━━━━━━\u001b[0m\u001b[37m\u001b[0m \u001b[1m6s\u001b[0m 45ms/step - loss: 0.9004 - mean_squared_error: 0.9004 - root_mean_squared_error: 0.9344 - val_loss: 0.4619 - val_mean_squared_error: 0.4619 - val_root_mean_squared_error: 0.6796\n",
            "Epoch 2/80\n",
            "\u001b[1m88/88\u001b[0m \u001b[32m━━━━━━━━━━━━━━━━━━━━\u001b[0m\u001b[37m\u001b[0m \u001b[1m5s\u001b[0m 46ms/step - loss: 0.3359 - mean_squared_error: 0.3359 - root_mean_squared_error: 0.5786 - val_loss: 0.2883 - val_mean_squared_error: 0.2883 - val_root_mean_squared_error: 0.5369\n",
            "Epoch 3/80\n",
            "\u001b[1m88/88\u001b[0m \u001b[32m━━━━━━━━━━━━━━━━━━━━\u001b[0m\u001b[37m\u001b[0m \u001b[1m5s\u001b[0m 56ms/step - loss: 0.1931 - mean_squared_error: 0.1931 - root_mean_squared_error: 0.4389 - val_loss: 0.1947 - val_mean_squared_error: 0.1947 - val_root_mean_squared_error: 0.4413\n",
            "Epoch 4/80\n",
            "\u001b[1m88/88\u001b[0m \u001b[32m━━━━━━━━━━━━━━━━━━━━\u001b[0m\u001b[37m\u001b[0m \u001b[1m4s\u001b[0m 51ms/step - loss: 0.1743 - mean_squared_error: 0.1743 - root_mean_squared_error: 0.4170 - val_loss: 0.2295 - val_mean_squared_error: 0.2295 - val_root_mean_squared_error: 0.4791\n",
            "Epoch 5/80\n",
            "\u001b[1m88/88\u001b[0m \u001b[32m━━━━━━━━━━━━━━━━━━━━\u001b[0m\u001b[37m\u001b[0m \u001b[1m4s\u001b[0m 43ms/step - loss: 0.1282 - mean_squared_error: 0.1282 - root_mean_squared_error: 0.3579 - val_loss: 0.2704 - val_mean_squared_error: 0.2704 - val_root_mean_squared_error: 0.5200\n",
            "Epoch 6/80\n",
            "\u001b[1m88/88\u001b[0m \u001b[32m━━━━━━━━━━━━━━━━━━━━\u001b[0m\u001b[37m\u001b[0m \u001b[1m5s\u001b[0m 41ms/step - loss: 0.1208 - mean_squared_error: 0.1208 - root_mean_squared_error: 0.3474 - val_loss: 0.1772 - val_mean_squared_error: 0.1772 - val_root_mean_squared_error: 0.4210\n",
            "Epoch 7/80\n",
            "\u001b[1m88/88\u001b[0m \u001b[32m━━━━━━━━━━━━━━━━━━━━\u001b[0m\u001b[37m\u001b[0m \u001b[1m6s\u001b[0m 55ms/step - loss: 0.1037 - mean_squared_error: 0.1037 - root_mean_squared_error: 0.3220 - val_loss: 0.2841 - val_mean_squared_error: 0.2841 - val_root_mean_squared_error: 0.5330\n",
            "Epoch 8/80\n",
            "\u001b[1m88/88\u001b[0m \u001b[32m━━━━━━━━━━━━━━━━━━━━\u001b[0m\u001b[37m\u001b[0m \u001b[1m4s\u001b[0m 40ms/step - loss: 0.1154 - mean_squared_error: 0.1154 - root_mean_squared_error: 0.3393 - val_loss: 0.1541 - val_mean_squared_error: 0.1541 - val_root_mean_squared_error: 0.3926\n",
            "Epoch 9/80\n",
            "\u001b[1m88/88\u001b[0m \u001b[32m━━━━━━━━━━━━━━━━━━━━\u001b[0m\u001b[37m\u001b[0m \u001b[1m5s\u001b[0m 40ms/step - loss: 0.0912 - mean_squared_error: 0.0912 - root_mean_squared_error: 0.3015 - val_loss: 0.1180 - val_mean_squared_error: 0.1180 - val_root_mean_squared_error: 0.3435\n",
            "Epoch 10/80\n",
            "\u001b[1m88/88\u001b[0m \u001b[32m━━━━━━━━━━━━━━━━━━━━\u001b[0m\u001b[37m\u001b[0m \u001b[1m5s\u001b[0m 43ms/step - loss: 0.1001 - mean_squared_error: 0.1001 - root_mean_squared_error: 0.3160 - val_loss: 0.2797 - val_mean_squared_error: 0.2797 - val_root_mean_squared_error: 0.5289\n",
            "Epoch 11/80\n"
          ]
        }
      ]
    },
    {
      "cell_type": "code",
      "source": [
        "LRs, BATCH_SIZEs"
      ],
      "metadata": {
        "colab": {
          "base_uri": "https://localhost:8080/"
        },
        "id": "syssOEjrhBm3",
        "outputId": "57530f46-3115-427b-f707-957c52b0c3f7"
      },
      "execution_count": 51,
      "outputs": [
        {
          "output_type": "execute_result",
          "data": {
            "text/plain": [
              "([0.01, 0.001, 0.0001, 1e-05, 5e-06], [16, 32, 64, 128])"
            ]
          },
          "metadata": {},
          "execution_count": 51
        }
      ]
    },
    {
      "cell_type": "code",
      "source": [
        "fig,axs = plt.subplots(1,2,figsize=[20,8])\n",
        "for BATCH_SIZE in BATCH_SIZEs:\n",
        "    history[f'BS_{BATCH_SIZE}'] = {}\n",
        "    for LR in LRs:\n",
        "      hst = history[f'BS_{BATCH_SIZE}'][f'LR_{LR:.0e}'].history\n",
        "      mse = hst['mean_squared_error']\n",
        "      val_mse = hst['val_mean_squared_error']\n",
        "\n",
        "      axs[0].plot(mse,label=f'BS_{BATCH_SIZE}_LR_{LR:.0e}')\n",
        "      axs[1].plot(val_mse,label=f'BS_{BATCH_SIZE}_LR_{LR:.0e}')\n",
        "\n",
        "tt = ['mse','val_mse']\n",
        "for iax,ax in enumerate(axs):\n",
        "    ax.set_title(tt[iax])\n",
        "    ax.grid(True)\n",
        "    ax.set_ylim(-0.1,1.5)"
      ],
      "metadata": {
        "id": "55AgsxjmciS2"
      },
      "execution_count": null,
      "outputs": []
    },
    {
      "cell_type": "code",
      "source": [
        "import torch\n",
        "import torch.nn as nn\n",
        "import torch.optim as optim\n",
        "from sklearn.datasets import make_classification\n",
        "from sklearn.model_selection import train_test_split\n",
        "from sklearn.preprocessing import StandardScaler\n",
        "from sklearn.metrics import accuracy_score\n",
        "\n",
        "# 1. Prepare your data\n",
        "# Generate a synthetic dataset for binary classification\n",
        "X, y = make_classification(n_samples=100, n_features=2, n_informative=2,\n",
        "                           n_redundant=0, n_clusters_per_class=1, random_state=42)\n",
        "\n",
        "# Convert labels to -1 and 1, as hinge loss expects these values\n",
        "y = torch.tensor(y * 2 - 1, dtype=torch.float32)\n",
        "\n",
        "# Split data into training and testing sets\n",
        "X_train, X_test, y_train, y_test = train_test_split(X, y, test_size=0.2, random_state=42)\n",
        "\n",
        "# Standardize the features (important for SVMs)\n",
        "scaler = StandardScaler()\n",
        "X_train = scaler.fit_transform(X_train)\n",
        "X_test = scaler.transform(X_test)\n",
        "\n",
        "# Convert to PyTorch tensors\n",
        "X_train = torch.tensor(X_train, dtype=torch.float32)\n",
        "X_test = torch.tensor(X_test, dtype=torch.float32)\n",
        "\n",
        "# 2. Define the SVM model\n",
        "class LinearSVM(nn.Module):\n",
        "    def __init__(self, input_dim):\n",
        "        super(LinearSVM, self).__init__()\n",
        "        self.linear = nn.Linear(input_dim, 1) # A single linear layer for binary classification\n",
        "\n",
        "    def forward(self, x):\n",
        "        return self.linear(x)\n",
        "\n",
        "# 3. Instantiate the model\n",
        "input_dim = X_train.shape[1]\n",
        "model = LinearSVM(input_dim)\n",
        "\n",
        "# 4. Define the loss function and optimizer\n",
        "# Hinge loss for SVM\n",
        "criterion = nn.HingeEmbeddingLoss() # You can also implement your own hinge loss\n",
        "optimizer = optim.SGD(model.parameters(), lr=0.01, weight_decay=0.001) # SGD optimizer with L2 regularization (weight_decay)\n",
        "\n",
        "# 5. Train the model\n",
        "epochs = 100\n",
        "for epoch in range(epochs):\n",
        "    # Forward pass\n",
        "    outputs = model(X_train).squeeze()\n",
        "    loss = criterion(outputs, y_train)\n",
        "\n",
        "    # Backward and optimize\n",
        "    optimizer.zero_grad()\n",
        "    loss.backward()\n",
        "    optimizer.step()\n",
        "\n",
        "    if (epoch+1) % 10 == 0:\n",
        "        print(f'Epoch [{epoch+1}/{epochs}], Loss: {loss.item():.4f}')\n",
        "\n",
        "# 6. Evaluate the model\n",
        "model.eval() # Set the model to evaluation mode\n",
        "with torch.no_grad(): # Disable gradient calculation during evaluation\n",
        "    outputs = model(X_test).squeeze()\n",
        "    predicted = (outputs > 0).float() * 2 - 1 # Convert scores to -1 or 1\n",
        "\n",
        "    accuracy = accuracy_score(y_test, predicted)\n",
        "    print(f'Accuracy on the test set: {accuracy:.4f}')\n",
        "\n",
        "# (Optional) Visualize the decision boundary (for 2D data)\n",
        "import matplotlib.pyplot as plt\n",
        "\n",
        "plt.scatter(X_test[:, 0], X_test[:, 1], c=y_test, cmap='bwr', alpha=0.8)\n",
        "\n",
        "# Plot the decision boundary\n",
        "w = model.linear.weight.data.numpy()\n",
        "b = model.linear.bias.data.numpy()\n",
        "x_line = np.linspace(X_test[:, 0].min(), X_test[:, 0].max(), 100)\n",
        "y_line = (-w[0, 0] * x_line - b[0]) / w[0, 1]\n",
        "plt.plot(x_line, y_line, color='black', linestyle='--', label='Decision Boundary')\n",
        "plt.xlabel('Feature 1')\n",
        "plt.ylabel('Feature 2')\n",
        "plt.title('SVM Decision Boundary')\n",
        "plt.legend()\n",
        "plt.show()"
      ],
      "metadata": {
        "colab": {
          "base_uri": "https://localhost:8080/",
          "height": 668
        },
        "id": "lzTzaPIpln0y",
        "outputId": "770fb1e8-8e33-4db1-b0ee-15d5f93a7b30"
      },
      "execution_count": 50,
      "outputs": [
        {
          "output_type": "stream",
          "name": "stdout",
          "text": [
            "Epoch [10/100], Loss: 0.1277\n",
            "Epoch [20/100], Loss: 0.0547\n",
            "Epoch [30/100], Loss: -0.0183\n",
            "Epoch [40/100], Loss: -0.0913\n",
            "Epoch [50/100], Loss: -0.1643\n",
            "Epoch [60/100], Loss: -0.2335\n",
            "Epoch [70/100], Loss: -0.3024\n",
            "Epoch [80/100], Loss: -0.3688\n",
            "Epoch [90/100], Loss: -0.4315\n",
            "Epoch [100/100], Loss: -0.4865\n",
            "Accuracy on the test set: 0.0500\n"
          ]
        },
        {
          "output_type": "display_data",
          "data": {
            "text/plain": [
              "<Figure size 640x480 with 1 Axes>"
            ],
            "image/png": "[encoded data removed]"
          },
          "metadata": {}
        }
      ]
    },
    {
      "cell_type": "markdown",
      "source": [
        "Other sample questions for practice:\n",
        "\n",
        "*   How does the learning rate impact model training?\n",
        "*   Does data augmentation help with model skill?\n",
        "*   Does reducing regularization impact overfitting (hint: reduce dropout percentage)?"
      ],
      "metadata": {
        "id": "hsqlwFRY1aXd"
      }
    },
    {
      "cell_type": "code",
      "source": [
        "# more cells for practicing"
      ],
      "metadata": {
        "id": "8rhORSiS4Dz3"
      },
      "execution_count": null,
      "outputs": []
    },
    {
      "cell_type": "markdown",
      "source": [
        "# What happens if your model is not performing well? This may be related to issues in bias and/or variance...\n",
        "\n",
        "---\n",
        "\n",
        "### Bias / Variance Trade-off\n",
        "\n",
        "*Subsection on bias/variance trade-off sourced from the AMS 2022 AI Short Course and the following [paper](http://scott.fortmann-roe.com/docs/BiasVariance.html)*\n",
        "\n",
        "An important concept in machine learning is that of the \"bias/variance trade-off.\" Prediction errors from any model can be decomposed into several terms: 1) error due to bias, 2) error due to variance, and 3) irreducible errors or noise. This concept refers to the trade-off that occurs in a models ability to reduce error in the bias and variance terms.\n",
        "\n",
        "<img src=\"https://www.cs.cornell.edu/courses/cs4780/2018fa/lectures/images/bias_variance/bullseye.png\" height= \"600\">\n",
        "\n",
        "(image credit: [paper](http://scott.fortmann-roe.com/docs/BiasVariance.html))\n",
        "\n",
        "\n",
        "### Bias\n",
        "\n",
        "Bias is due to your model being consistently getting a certain type of error in relation to a particular kind of solution. For example, maximum temperatures in relation to the diurnal cycle might be predicted by your model consistently higher than what was observed. This error may be irreducible with more training data and be related to your model (i.e., inherent to your model). The error due to bias is taken as the difference between the expected (or average) prediction of our model and the correct value which we are trying to predict. Bias measures how far off in general these models' predictions are from the correct value.\n",
        "\n",
        "### Variance\n",
        "\n",
        "Variance relates to changes in your model's predictions based on new iterations of your model and thus captures how much your predictions change if your model is trained on a different training set (e.g., different data ordering). We can also think of this as how \"over-specialized\" your machine learning model may be to a particular training set (overfitting). The error due to variance is taken as the variability of a model's prediction for a given data point. Again, variance is how much the predictions for a given point vary between different realizations of the model.\n",
        "\n",
        "### Irreducible Error/Noise\n",
        "\n",
        "How big is the data-intrinsic noise? This error relates to ambiguity due to your data distribution and feature representation. You can never beat this, it is an aspect of the data.\n",
        "\n",
        "# So, what do we do with this information?\n",
        "\n",
        "If the training error is below your desired error threshold, but the test error is significantly higher, then the cause of the model's poor performance is high variance. In other words, we have overfit to the training set. We can remedy this issue by adding more training data and/or reducing the model's complexity. For decision trees, we can also perform \"bagging.\"\n",
        "\n",
        "If the training error and the test error are both above your desired error threshold, then the model being used is not robust or complex enough to produce accurate predictions. In other words, we have underfit to the training set. We can remedy this issue by using more complex model and/or adding more variables (features). For decision trees, we can also perform \"boosting.\"\n",
        "\n",
        "For more information, see [Cornell Lecture](https://www.cs.cornell.edu/courses/cs4780/2018fa/lectures/lecturenote12.html)."
      ],
      "metadata": {
        "id": "71KIzoONMT3P"
      }
    },
    {
      "cell_type": "markdown",
      "source": [
        "## Classification\n",
        "\n",
        "---\n",
        "\n",
        "**In classification problems**, we aim to predict the class of *something*. Classes are discrete in nature. We can frame our problem to be binary classification (two classes; e.g., True or False, or Yes or No problems). Classification problems can also be multiclass in nature.\n",
        "\n",
        "Continuous data could be grouped or binned into certain classes, and thus, continuous data can be converted to classes (e.g., binning of continuous maximum tropical cyclone wind speeds into hurricane intensities based on the Saffir-Simpson Hurricane Wind Scale, e.g., category 1, category 2, etc.).\n",
        "\n",
        "Ways to convert continuous data into classes include **integer encoding or one-hot encoding**. Integer encoding involves assigning an integer value to each unique category, and this can work well for data that have an underlying natural ordered relationship between each other, since machine learning models may be able to understand and harness this relationship. For one-hot encoding, a binary variable (i.e., zero or one) is added at a certain position in each sample's vector, which is meant to represent the respective sample's class, e.g., `[0, 0, 1]` vs `[1, 0, 0]`."
      ],
      "metadata": {
        "id": "e3fmySjlPp8p"
      }
    },
    {
      "cell_type": "markdown",
      "source": [
        "![supervised](https://drive.google.com/uc?export=view&id=1jDl42c0CSN9dvp37TMWJ1qI6fOQMGp4e)\n"
      ],
      "metadata": {
        "id": "aBFaBbXNARjL"
      }
    },
    {
      "cell_type": "markdown",
      "source": [
        "Some examples of classification problems in the environmental sciences could include:\n",
        "\n",
        "*   whether a thunderstorm will produce severe hazards or be non-severe (i.e., binary) (e.g., Molina et al. 2021)\n",
        "*   whether a polynya event is occurring in the Ross Sea, Antarctica (i.e., binary) (e.g., DuVivier et al. 2023)\n",
        "*   type of cloud(s) that is(are) in a citizen science photograph (i.e., multiclass)\n",
        "*   subseasonal prediction of a North American weather regime class (i.e., multiclass) (e.g., Molina et al. 2023)\n",
        "\n",
        "Similar to how explained in the regression section, when using various input variables (i.e., features or channels), normalizing or standardizing the variables is needed to make sure they have a similar dynamic range."
      ],
      "metadata": {
        "id": "BrOXsxoUAjm7"
      }
    },
    {
      "cell_type": "markdown",
      "source": [
        "# Supervised Learning Classification Example\n",
        "\n",
        "---"
      ],
      "metadata": {
        "id": "Hd9l4RhAC6gu"
      }
    },
    {
      "cell_type": "markdown",
      "source": [
        "Using our work from the previous section, we will now use the data and reframe our problem to be a classification task. As before, we will use two input features."
      ],
      "metadata": {
        "id": "CFMnVVa5zti6"
      }
    },
    {
      "cell_type": "markdown",
      "source": [
        "However, we will use updraft helicity values (which represent storm updraft rotation) and convert this continuous value into two classes, \"not potentially severe\" and \"potentially severe\". More strongly rotating storms have a greater likelihood of producing severe hazards like tornadoes and large hail. We will use 75 m2/s2 as the delineation mark between the two classes. The two classes will be creating using integer encoding first, with 0 representing non-severe and 1 representing potentially severe, and then converting using one-hot encoding for subsequent training."
      ],
      "metadata": {
        "id": "y5R40_674lUy"
      }
    },
    {
      "cell_type": "code",
      "source": [
        "features = xr.concat([\n",
        "    ds['dbz_grid'].expand_dims(dim='feature', axis=3),\n",
        "    ds['ctt_grid'].expand_dims(dim='feature', axis=3)],\n",
        "          dim='feature')\n",
        "\n",
        "labels = ds['uh25_grid'].expand_dims(dim='feature', axis=3).max('x').max('y')\n",
        "\n",
        "train_feats, train_label, test_feats, test_label = random_split(features, labels)\n",
        "\n",
        "# normalization of our training data (note each feature individually processed!)\n",
        "train_feats_standardized = xr.concat([\n",
        "    z_score(train_feats.isel(feature=0).expand_dims(dim='feature', axis=3)),\n",
        "    z_score(train_feats.isel(feature=1).expand_dims(dim='feature', axis=3))],\n",
        "                                     dim='feature')\n",
        "\n",
        "train_label_ints = xr.where(train_label >= 75, 1, 0)"
      ],
      "metadata": {
        "id": "hj6bAjZ7zt5v"
      },
      "execution_count": null,
      "outputs": []
    },
    {
      "cell_type": "code",
      "source": [
        "print(train_label.values[-2:])\n",
        "print(train_label_ints.values[-2:])"
      ],
      "metadata": {
        "colab": {
          "base_uri": "https://localhost:8080/"
        },
        "id": "dnlyxpuOzuCl",
        "outputId": "6c6019a7-0feb-4384-f81a-ed1228ec4146"
      },
      "execution_count": null,
      "outputs": [
        {
          "output_type": "stream",
          "name": "stdout",
          "text": [
            "[[162.55905  ]\n",
            " [  1.8748366]]\n",
            "[[1]\n",
            " [0]]\n"
          ]
        }
      ]
    },
    {
      "cell_type": "code",
      "source": [
        "# convert labels into classes using one-hot encoding\n",
        "onehot_layer = keras.layers.CategoryEncoding(num_tokens=2, output_mode=\"one_hot\")\n",
        "train_y = onehot_layer(train_label_ints.astype(int))"
      ],
      "metadata": {
        "id": "LzGNl7wUzuKz"
      },
      "execution_count": null,
      "outputs": []
    },
    {
      "cell_type": "code",
      "source": [
        "train_y[-2:]"
      ],
      "metadata": {
        "colab": {
          "base_uri": "https://localhost:8080/"
        },
        "id": "K7axDV9KzuY3",
        "outputId": "7f93d34f-81d1-42ba-a1c6-2f77b93e015d"
      },
      "execution_count": null,
      "outputs": [
        {
          "output_type": "execute_result",
          "data": {
            "text/plain": [
              "<tf.Tensor: shape=(2, 2), dtype=float32, numpy=\n",
              "array([[0., 1.],\n",
              "       [1., 0.]], dtype=float32)>"
            ]
          },
          "metadata": {},
          "execution_count": 45
        }
      ]
    },
    {
      "cell_type": "code",
      "source": [
        "# out of more than 1000 samples, only 189 are the \"severe\" class\n",
        "print(train_y[:,1].numpy().sum())\n",
        "print(train_y[:,1].numpy().shape)"
      ],
      "metadata": {
        "colab": {
          "base_uri": "https://localhost:8080/"
        },
        "id": "lsRwqJjG7_Ec",
        "outputId": "3fa03eee-cd3d-4ea4-8155-6cc421233736"
      },
      "execution_count": null,
      "outputs": [
        {
          "output_type": "stream",
          "name": "stdout",
          "text": [
            "189.0\n",
            "(1556,)\n"
          ]
        }
      ]
    },
    {
      "cell_type": "markdown",
      "source": [
        "Class imbalance is a major issue with a minority class that is a rare event, like severe hazards. To address this limitation, we create class weights that help the machine learning model learn that the minority class is important to get correct."
      ],
      "metadata": {
        "id": "12FrqE9C7_mS"
      }
    },
    {
      "cell_type": "code",
      "source": [
        "# generate class weights due to class imbalance issues\n",
        "# use the second class as the positive one (using 1 index)\n",
        "counts = np.bincount(train_y[:,1].numpy().astype(int))\n",
        "\n",
        "print(\"Number of positive samples in training data: {} ({:.2f}% of total)\".format(\n",
        "    counts[1], 100 * float(counts[1]) / len(train_y)))\n",
        "\n",
        "weight_for_0 = 1.0 / counts[0]\n",
        "weight_for_1 = 1.0 / counts[1]\n",
        "\n",
        "class_weight = {0: weight_for_0, 1: weight_for_1}\n",
        "print(class_weight)"
      ],
      "metadata": {
        "colab": {
          "base_uri": "https://localhost:8080/"
        },
        "id": "asYu-Bio70M6",
        "outputId": "b51e7a8d-b328-428d-bb5a-71eeb71dbb51"
      },
      "execution_count": null,
      "outputs": [
        {
          "output_type": "stream",
          "name": "stdout",
          "text": [
            "Number of positive samples in training data: 189 (12.15% of total)\n",
            "{0: 0.000731528895391368, 1: 0.005291005291005291}\n"
          ]
        }
      ]
    },
    {
      "cell_type": "code",
      "source": [
        "# metrics that are useful for classification, particularly for two classes\n",
        "METRICS = [\n",
        "    keras.metrics.BinaryCrossentropy(name='cross entropy'),  # same as model's loss\n",
        "    keras.metrics.TruePositives(name='tp'),\n",
        "    keras.metrics.FalsePositives(name='fp'),\n",
        "    keras.metrics.TrueNegatives(name='tn'),\n",
        "    keras.metrics.FalseNegatives(name='fn'),\n",
        "    keras.metrics.BinaryAccuracy(name='accuracy'),\n",
        "    keras.metrics.Precision(name='precision'),\n",
        "    keras.metrics.Recall(name='recall'),\n",
        "    keras.metrics.AUC(name='auc'),\n",
        "    keras.metrics.AUC(name='prc', curve='PR'), # precision-recall curve\n",
        "]"
      ],
      "metadata": {
        "id": "xHmN3l2z70QS"
      },
      "execution_count": null,
      "outputs": []
    },
    {
      "cell_type": "code",
      "source": [
        "model = keras.Sequential()\n",
        "\n",
        "# input\n",
        "model.add(keras.Input(shape=(32, 32, number_of_features)))  # 32x32 images\n",
        "\n",
        "# data augmentation layers\n",
        "#model.add(layers.RandomFlip(\"horizontal_and_vertical\"))\n",
        "#model.add(layers.RandomRotation(factor=(-0.5,0.5)))\n",
        "\n",
        "# hidden layers\n",
        "model.add(layers.Conv2D(32, 3, strides=1, padding=\"same\", activation=\"relu\"))\n",
        "model.add(layers.MaxPooling2D(2))\n",
        "model.add(layers.Dropout(0.2))\n",
        "\n",
        "model.add(layers.Conv2D(64, 3, strides=1, padding=\"same\", activation=\"relu\"))\n",
        "model.add(layers.MaxPooling2D(2))\n",
        "model.add(layers.Dropout(0.2))\n",
        "\n",
        "model.add(layers.Conv2D(128, 3, strides=1, padding=\"same\", activation=\"relu\"))\n",
        "model.add(layers.MaxPooling2D(2))\n",
        "model.add(layers.Dropout(0.2))\n",
        "\n",
        "# Now that we have 4x4 feature maps, now apply global max pooling.\n",
        "model.add(layers.GlobalMaxPooling2D())\n",
        "\n",
        "# Finally, we add last fully connected (dense) layers\n",
        "model.add(layers.Dense(64))\n",
        "model.add(layers.Dense(2, activation=\"softmax\"))\n",
        "\n",
        "# print model summary\n",
        "model.summary()"
      ],
      "metadata": {
        "colab": {
          "base_uri": "https://localhost:8080/"
        },
        "id": "BHBpYKnh70WR",
        "outputId": "96ef8716-269e-49ed-8ecb-f8b76c582b8b"
      },
      "execution_count": null,
      "outputs": [
        {
          "output_type": "stream",
          "name": "stdout",
          "text": [
            "Model: \"sequential_1\"\n",
            "_________________________________________________________________\n",
            " Layer (type)                Output Shape              Param #   \n",
            "=================================================================\n",
            " conv2d_3 (Conv2D)           (None, 32, 32, 32)        608       \n",
            "                                                                 \n",
            " max_pooling2d_3 (MaxPoolin  (None, 16, 16, 32)        0         \n",
            " g2D)                                                            \n",
            "                                                                 \n",
            " dropout_3 (Dropout)         (None, 16, 16, 32)        0         \n",
            "                                                                 \n",
            " conv2d_4 (Conv2D)           (None, 16, 16, 64)        18496     \n",
            "                                                                 \n",
            " max_pooling2d_4 (MaxPoolin  (None, 8, 8, 64)          0         \n",
            " g2D)                                                            \n",
            "                                                                 \n",
            " dropout_4 (Dropout)         (None, 8, 8, 64)          0         \n",
            "                                                                 \n",
            " conv2d_5 (Conv2D)           (None, 8, 8, 128)         73856     \n",
            "                                                                 \n",
            " max_pooling2d_5 (MaxPoolin  (None, 4, 4, 128)         0         \n",
            " g2D)                                                            \n",
            "                                                                 \n",
            " dropout_5 (Dropout)         (None, 4, 4, 128)         0         \n",
            "                                                                 \n",
            " global_max_pooling2d_1 (Gl  (None, 128)               0         \n",
            " obalMaxPooling2D)                                               \n",
            "                                                                 \n",
            " dense_2 (Dense)             (None, 64)                8256      \n",
            "                                                                 \n",
            " dense_3 (Dense)             (None, 2)                 130       \n",
            "                                                                 \n",
            "=================================================================\n",
            "Total params: 101346 (395.88 KB)\n",
            "Trainable params: 101346 (395.88 KB)\n",
            "Non-trainable params: 0 (0.00 Byte)\n",
            "_________________________________________________________________\n"
          ]
        }
      ]
    },
    {
      "cell_type": "code",
      "source": [
        "model.compile(\n",
        "    optimizer=keras.optimizers.Adam(learning_rate=0.001),\n",
        "    loss=keras.losses.BinaryCrossentropy(), # categorical loss function\n",
        "    metrics=METRICS\n",
        ")"
      ],
      "metadata": {
        "id": "xS8iZ6Ro70bD"
      },
      "execution_count": null,
      "outputs": []
    },
    {
      "cell_type": "code",
      "source": [
        "BATCH_SIZE = 32\n",
        "EPOCHS = 10"
      ],
      "metadata": {
        "id": "m0jmE_7k823F"
      },
      "execution_count": null,
      "outputs": []
    },
    {
      "cell_type": "code",
      "source": [
        "print(\"Fit model on training data\")\n",
        "history = model.fit(\n",
        "    x=train_feats_standardized.values,\n",
        "    y=train_y,\n",
        "    batch_size=BATCH_SIZE,\n",
        "    epochs=EPOCHS,\n",
        "    validation_split=0.1,\n",
        "    shuffle=True,\n",
        "    class_weight=class_weight,\n",
        ")"
      ],
      "metadata": {
        "colab": {
          "base_uri": "https://localhost:8080/"
        },
        "id": "o3wCne8Q826e",
        "outputId": "46f513ad-af20-4a71-a49c-4d395053948f"
      },
      "execution_count": null,
      "outputs": [
        {
          "output_type": "stream",
          "name": "stdout",
          "text": [
            "Fit model on training data\n",
            "Epoch 1/10\n",
            "44/44 [==============================] - 5s 68ms/step - loss: 7.5593e-04 - cross entropy: 0.6303 - tp: 803.0000 - fp: 597.0000 - tn: 803.0000 - fn: 597.0000 - accuracy: 0.5736 - precision: 0.5736 - recall: 0.5736 - auc: 0.6796 - prc: 0.7109 - val_loss: 0.7091 - val_cross entropy: 0.7091 - val_tp: 69.0000 - val_fp: 87.0000 - val_tn: 69.0000 - val_fn: 87.0000 - val_accuracy: 0.4423 - val_precision: 0.4423 - val_recall: 0.4423 - val_auc: 0.6096 - val_prc: 0.6809\n",
            "Epoch 2/10\n",
            "44/44 [==============================] - 2s 48ms/step - loss: 6.0370e-04 - cross entropy: 0.5456 - tp: 876.0000 - fp: 524.0000 - tn: 876.0000 - fn: 524.0000 - accuracy: 0.6257 - precision: 0.6257 - recall: 0.6257 - auc: 0.7663 - prc: 0.7940 - val_loss: 0.6526 - val_cross entropy: 0.6526 - val_tp: 86.0000 - val_fp: 70.0000 - val_tn: 86.0000 - val_fn: 70.0000 - val_accuracy: 0.5513 - val_precision: 0.5513 - val_recall: 0.5513 - val_auc: 0.6744 - val_prc: 0.7179\n",
            "Epoch 3/10\n",
            "44/44 [==============================] - 2s 48ms/step - loss: 5.8266e-04 - cross entropy: 0.4847 - tp: 1029.0000 - fp: 371.0000 - tn: 1029.0000 - fn: 371.0000 - accuracy: 0.7350 - precision: 0.7350 - recall: 0.7350 - auc: 0.8354 - prc: 0.8432 - val_loss: 0.4093 - val_cross entropy: 0.4093 - val_tp: 136.0000 - val_fp: 20.0000 - val_tn: 136.0000 - val_fn: 20.0000 - val_accuracy: 0.8718 - val_precision: 0.8718 - val_recall: 0.8718 - val_auc: 0.9481 - val_prc: 0.9491\n",
            "Epoch 4/10\n",
            "44/44 [==============================] - 2s 46ms/step - loss: 4.3355e-04 - cross entropy: 0.3931 - tp: 1147.0000 - fp: 253.0000 - tn: 1147.0000 - fn: 253.0000 - accuracy: 0.8193 - precision: 0.8193 - recall: 0.8193 - auc: 0.9049 - prc: 0.9057 - val_loss: 0.3507 - val_cross entropy: 0.3507 - val_tp: 141.0000 - val_fp: 15.0000 - val_tn: 141.0000 - val_fn: 15.0000 - val_accuracy: 0.9038 - val_precision: 0.9038 - val_recall: 0.9038 - val_auc: 0.9515 - val_prc: 0.9441\n",
            "Epoch 5/10\n",
            "44/44 [==============================] - 2s 48ms/step - loss: 3.7358e-04 - cross entropy: 0.3095 - tp: 1247.0000 - fp: 153.0000 - tn: 1247.0000 - fn: 153.0000 - accuracy: 0.8907 - precision: 0.8907 - recall: 0.8907 - auc: 0.9471 - prc: 0.9408 - val_loss: 0.2474 - val_cross entropy: 0.2474 - val_tp: 148.0000 - val_fp: 8.0000 - val_tn: 148.0000 - val_fn: 8.0000 - val_accuracy: 0.9487 - val_precision: 0.9487 - val_recall: 0.9487 - val_auc: 0.9850 - val_prc: 0.9849\n",
            "Epoch 6/10\n",
            "44/44 [==============================] - 2s 55ms/step - loss: 3.0187e-04 - cross entropy: 0.2406 - tp: 1295.0000 - fp: 105.0000 - tn: 1295.0000 - fn: 105.0000 - accuracy: 0.9250 - precision: 0.9250 - recall: 0.9250 - auc: 0.9666 - prc: 0.9624 - val_loss: 0.4570 - val_cross entropy: 0.4570 - val_tp: 127.0000 - val_fp: 29.0000 - val_tn: 127.0000 - val_fn: 29.0000 - val_accuracy: 0.8141 - val_precision: 0.8141 - val_recall: 0.8141 - val_auc: 0.8798 - val_prc: 0.8684\n",
            "Epoch 7/10\n",
            "44/44 [==============================] - 2s 47ms/step - loss: 3.1862e-04 - cross entropy: 0.2615 - tp: 1269.0000 - fp: 131.0000 - tn: 1269.0000 - fn: 131.0000 - accuracy: 0.9064 - precision: 0.9064 - recall: 0.9064 - auc: 0.9548 - prc: 0.9476 - val_loss: 0.4471 - val_cross entropy: 0.4471 - val_tp: 132.0000 - val_fp: 24.0000 - val_tn: 132.0000 - val_fn: 24.0000 - val_accuracy: 0.8462 - val_precision: 0.8462 - val_recall: 0.8462 - val_auc: 0.8668 - val_prc: 0.8544\n",
            "Epoch 8/10\n",
            "44/44 [==============================] - 2s 46ms/step - loss: 3.0368e-04 - cross entropy: 0.2547 - tp: 1279.0000 - fp: 121.0000 - tn: 1279.0000 - fn: 121.0000 - accuracy: 0.9136 - precision: 0.9136 - recall: 0.9136 - auc: 0.9573 - prc: 0.9488 - val_loss: 0.2225 - val_cross entropy: 0.2225 - val_tp: 144.0000 - val_fp: 12.0000 - val_tn: 144.0000 - val_fn: 12.0000 - val_accuracy: 0.9231 - val_precision: 0.9231 - val_recall: 0.9231 - val_auc: 0.9798 - val_prc: 0.9801\n",
            "Epoch 9/10\n",
            "44/44 [==============================] - 2s 46ms/step - loss: 2.2510e-04 - cross entropy: 0.1986 - tp: 1311.0000 - fp: 89.0000 - tn: 1311.0000 - fn: 89.0000 - accuracy: 0.9364 - precision: 0.9364 - recall: 0.9364 - auc: 0.9769 - prc: 0.9723 - val_loss: 0.1948 - val_cross entropy: 0.1948 - val_tp: 143.0000 - val_fp: 13.0000 - val_tn: 143.0000 - val_fn: 13.0000 - val_accuracy: 0.9167 - val_precision: 0.9167 - val_recall: 0.9167 - val_auc: 0.9857 - val_prc: 0.9863\n",
            "Epoch 10/10\n",
            "44/44 [==============================] - 2s 45ms/step - loss: 1.9191e-04 - cross entropy: 0.1598 - tp: 1327.0000 - fp: 73.0000 - tn: 1327.0000 - fn: 73.0000 - accuracy: 0.9479 - precision: 0.9479 - recall: 0.9479 - auc: 0.9821 - prc: 0.9796 - val_loss: 0.1408 - val_cross entropy: 0.1408 - val_tp: 147.0000 - val_fp: 9.0000 - val_tn: 147.0000 - val_fn: 9.0000 - val_accuracy: 0.9423 - val_precision: 0.9423 - val_recall: 0.9423 - val_auc: 0.9920 - val_prc: 0.9923\n"
          ]
        }
      ]
    },
    {
      "cell_type": "code",
      "source": [
        "plt.plot(history.history[\"accuracy\"])\n",
        "plt.plot(history.history[\"val_accuracy\"])\n",
        "plt.show()"
      ],
      "metadata": {
        "colab": {
          "base_uri": "https://localhost:8080/",
          "height": 430
        },
        "id": "H1FKdrnY829W",
        "outputId": "5b68bf3b-4b48-49dc-9c37-de47b0fa8255"
      },
      "execution_count": null,
      "outputs": [
        {
          "output_type": "display_data",
          "data": {
            "text/plain": [
              "<Figure size 640x480 with 1 Axes>"
            ],
            "image/png": "[encoded data removed]"
          },
          "metadata": {}
        }
      ]
    },
    {
      "cell_type": "code",
      "source": [
        "# normalization of our training data (note each feature individually processed!)\n",
        "test_feats_standardized = xr.concat([\n",
        "    z_score_testing(\n",
        "        train_feats.isel(feature=0).expand_dims(dim='feature', axis=3),\n",
        "        test_feats.isel(feature=0).expand_dims(dim='feature', axis=3)\n",
        "        ),\n",
        "    z_score_testing(\n",
        "        train_feats.isel(feature=1).expand_dims(dim='feature', axis=3),\n",
        "        test_feats.isel(feature=1).expand_dims(dim='feature', axis=3)\n",
        "        )],\n",
        "                                     dim='feature')\n",
        "\n",
        "test_label_ints = xr.where(test_label >= 75, 1, 0)\n",
        "test_y = onehot_layer(test_label_ints.astype(int))"
      ],
      "metadata": {
        "id": "zMbEUR_O83Aw"
      },
      "execution_count": null,
      "outputs": []
    },
    {
      "cell_type": "code",
      "source": [
        "# Evaluate the model on the test data using `evaluate`\n",
        "print(\"Evaluate on test data\")\n",
        "results = model.evaluate(test_feats_standardized.values, test_y, batch_size=128)\n",
        "print(results)"
      ],
      "metadata": {
        "colab": {
          "base_uri": "https://localhost:8080/"
        },
        "id": "KZ4Zljo_-a7c",
        "outputId": "023c8b41-3fa2-4654-8972-7bdedd526a3a"
      },
      "execution_count": null,
      "outputs": [
        {
          "output_type": "stream",
          "name": "stdout",
          "text": [
            "Evaluate on test data\n",
            "6/6 [==============================] - 0s 40ms/step - loss: 0.1566 - cross entropy: 0.1566 - tp: 634.0000 - fp: 34.0000 - tn: 634.0000 - fn: 34.0000 - accuracy: 0.9491 - precision: 0.9491 - recall: 0.9491 - auc: 0.9865 - prc: 0.9847\n",
            "[0.15658392012119293, 0.15658392012119293, 634.0, 34.0, 634.0, 34.0, 0.9491018056869507, 0.9491018056869507, 0.9491018056869507, 0.9865292310714722, 0.9847036004066467]\n"
          ]
        }
      ]
    },
    {
      "cell_type": "code",
      "source": [
        "# generate predictions using the trained model\n",
        "predictions = model.predict(test_feats_standardized.values)"
      ],
      "metadata": {
        "colab": {
          "base_uri": "https://localhost:8080/"
        },
        "id": "9fcwNVSZ-a_X",
        "outputId": "9490034c-af59-46aa-d963-986b0450af78"
      },
      "execution_count": null,
      "outputs": [
        {
          "output_type": "stream",
          "name": "stdout",
          "text": [
            "21/21 [==============================] - 0s 14ms/step\n"
          ]
        }
      ]
    },
    {
      "cell_type": "code",
      "source": [
        "pred_ints = xr.where(predictions[:,1]>0.5, 1, 0)"
      ],
      "metadata": {
        "id": "tHLyxWLVAqed"
      },
      "execution_count": null,
      "outputs": []
    },
    {
      "cell_type": "code",
      "source": [
        "from sklearn.metrics.cluster import contingency_matrix\n",
        "contingency_matrix(test_label_ints.astype(int).values.squeeze(), pred_ints)\n",
        "# tend to predict more false positives"
      ],
      "metadata": {
        "colab": {
          "base_uri": "https://localhost:8080/"
        },
        "id": "JrZYzjM9_eLj",
        "outputId": "52c87e5b-750d-452e-97ba-8232aba8f32c"
      },
      "execution_count": null,
      "outputs": [
        {
          "output_type": "execute_result",
          "data": {
            "text/plain": [
              "array([[555,  21],\n",
              "       [ 13,  79]])"
            ]
          },
          "metadata": {},
          "execution_count": 58
        }
      ]
    },
    {
      "cell_type": "code",
      "source": [
        "test_label_ints.astype(int).sum().values"
      ],
      "metadata": {
        "colab": {
          "base_uri": "https://localhost:8080/"
        },
        "id": "UwAmxuqcBJ1K",
        "outputId": "73556e64-5a81-403c-a29f-9b3e349a163d"
      },
      "execution_count": null,
      "outputs": [
        {
          "output_type": "execute_result",
          "data": {
            "text/plain": [
              "array(92)"
            ]
          },
          "metadata": {},
          "execution_count": 59
        }
      ]
    },
    {
      "cell_type": "code",
      "source": [
        "pred_ints.sum() - 92"
      ],
      "metadata": {
        "colab": {
          "base_uri": "https://localhost:8080/"
        },
        "id": "Bb-w77AwBfUV",
        "outputId": "ae962f47-9eaa-4f7e-e5ef-292abbab7b0b"
      },
      "execution_count": null,
      "outputs": [
        {
          "output_type": "execute_result",
          "data": {
            "text/plain": [
              "8"
            ]
          },
          "metadata": {},
          "execution_count": 60
        }
      ]
    },
    {
      "cell_type": "markdown",
      "source": [
        "# Tutorial Practice: What happens if we do not use class weights during training?\n",
        "\n",
        "---"
      ],
      "metadata": {
        "id": "KmokO1cq9_RS"
      }
    },
    {
      "cell_type": "code",
      "source": [
        "# recreate the model object"
      ],
      "metadata": {
        "id": "0a43SpER-Mxd"
      },
      "execution_count": null,
      "outputs": []
    },
    {
      "cell_type": "code",
      "source": [
        "# recompile the model"
      ],
      "metadata": {
        "id": "ITEZzW3y-M02"
      },
      "execution_count": null,
      "outputs": []
    },
    {
      "cell_type": "code",
      "source": [
        "# retrain the model without class weights"
      ],
      "metadata": {
        "id": "Xak_WCCB-M3-"
      },
      "execution_count": null,
      "outputs": []
    },
    {
      "cell_type": "code",
      "source": [
        "# evaluate the new model's skill"
      ],
      "metadata": {
        "id": "qwdW6YEP-NCM"
      },
      "execution_count": null,
      "outputs": []
    },
    {
      "cell_type": "markdown",
      "source": [
        "## **Unsupervised Learning**\n",
        "\n",
        "---\n",
        "\n",
        "Unsupervised learning refers to machine learning tasks where the dataset does not contain predictands (y) and solely contains predictors (x). In other words, in unsupervised learning, we do not know the \"answers\" or have labels beforehand. Unsupervised learning is particularly useful for dimensionality reduction, anomaly detection, image denoising, and pattern grouping (e.g., clustering)."
      ],
      "metadata": {
        "id": "oOZ_y1G8dFgF"
      }
    },
    {
      "cell_type": "markdown",
      "source": [
        "![supervised](https://drive.google.com/uc?export=view&id=1HEcZ4VXU_Q9Y9rrgnRkAg4JdjRJSs9Nj)"
      ],
      "metadata": {
        "id": "2zqQVMG879C9"
      }
    },
    {
      "cell_type": "markdown",
      "source": [
        "Some examples of unsupervised learning problems in the environmental sciences include:\n",
        "\n",
        "*   uncovering common polynya event patterns from sea ice concentration in the Ross Sea, Antarctica (e.g., DuVivier et al. 2023)\n",
        "*   grouping high shear-low CAPE severe thunderstorm event environments (e.g., Campbell et al. 2024)\n",
        "*   identifying subseasonal weather regimes over North America (e.g., Molina et al. 2023)\n",
        "*   creating an index for a climate teleconnection, such as ENSO teleconnection to Southern California precipitation (e.g., Passarella and Mahajan 2023)\n",
        "\n"
      ],
      "metadata": {
        "id": "YEwMoWtbA7fV"
      }
    },
    {
      "cell_type": "markdown",
      "source": [
        "# Unsupervised Learning Example\n",
        "\n",
        "---"
      ],
      "metadata": {
        "id": "FWOflQWICzK9"
      }
    },
    {
      "cell_type": "markdown",
      "source": [
        "We will be training an autoencoder to perform the task of anomaly detection. For anomaly detection, we would note instances where reconstruction error for an image is higher, indicating that the sample was likely not similar to those in the training set distribution.\n",
        "\n",
        "We will again use the previous data, but this time we will focus on reconstructing one input variable (feature)."
      ],
      "metadata": {
        "id": "2I2BURFEDLj6"
      }
    },
    {
      "cell_type": "code",
      "execution_count": null,
      "metadata": {
        "id": "CF3Qy6sIOlqP"
      },
      "outputs": [],
      "source": [
        "features = xr.concat([\n",
        "    ds['ctt_grid'].expand_dims(dim='feature', axis=3)],\n",
        "          dim='feature')\n",
        "\n",
        "# note that we are reconstructing the respective input image/variable\n",
        "train_feats, _, test_feats, _ = random_split(features, features)\n",
        "\n",
        "# normalization of our training data (note each feature individually processed!)\n",
        "train_feats_standardized = xr.concat([\n",
        "    z_score(train_feats.isel(feature=0).expand_dims(dim='feature', axis=3))],\n",
        "                                     dim='feature')"
      ]
    },
    {
      "cell_type": "code",
      "source": [
        "number_of_features = 1"
      ],
      "metadata": {
        "id": "yYD-l_b-E1jB"
      },
      "execution_count": null,
      "outputs": []
    },
    {
      "cell_type": "code",
      "source": [
        "model = keras.Sequential()\n",
        "\n",
        "# input\n",
        "model.add(keras.Input(shape=(32, 32, number_of_features)))  # 32x32 images\n",
        "\n",
        "# encoder\n",
        "# hidden layers\n",
        "model.add(layers.Conv2D(16, 3, strides=1, padding=\"same\", activation=\"relu\"))\n",
        "model.add(layers.MaxPooling2D(2))\n",
        "\n",
        "model.add(layers.Conv2D(8, 3, strides=1, padding=\"same\", activation=\"relu\"))\n",
        "model.add(layers.MaxPooling2D(2))\n",
        "\n",
        "model.add(layers.Conv2D(4, 3, strides=1, padding=\"same\", activation=\"relu\"))\n",
        "model.add(layers.MaxPooling2D(2))\n",
        "\n",
        "# decoder\n",
        "model.add(layers.Conv2D(4, 3, strides=1, padding=\"same\", activation=\"relu\"))\n",
        "model.add(layers.UpSampling2D(2))\n",
        "\n",
        "model.add(layers.Conv2D(8, 3, strides=1, padding=\"same\", activation=\"relu\"))\n",
        "model.add(layers.UpSampling2D(2))\n",
        "\n",
        "model.add(layers.Conv2D(16, 3, strides=1, padding=\"same\", activation=\"relu\"))\n",
        "model.add(layers.UpSampling2D(2))\n",
        "\n",
        "# Finally, we add last layer\n",
        "model.add(layers.Conv2D(1, (3, 3), activation='linear', padding='same'))\n",
        "\n",
        "# print model summary\n",
        "model.summary()"
      ],
      "metadata": {
        "colab": {
          "base_uri": "https://localhost:8080/"
        },
        "id": "teWxwzffDhyu",
        "outputId": "a7e6fc2e-b8fd-4c1c-eaba-de04c2d7ea42"
      },
      "execution_count": null,
      "outputs": [
        {
          "output_type": "stream",
          "name": "stdout",
          "text": [
            "Model: \"sequential_2\"\n",
            "_________________________________________________________________\n",
            " Layer (type)                Output Shape              Param #   \n",
            "=================================================================\n",
            " conv2d_6 (Conv2D)           (None, 32, 32, 16)        160       \n",
            "                                                                 \n",
            " max_pooling2d_6 (MaxPoolin  (None, 16, 16, 16)        0         \n",
            " g2D)                                                            \n",
            "                                                                 \n",
            " conv2d_7 (Conv2D)           (None, 16, 16, 8)         1160      \n",
            "                                                                 \n",
            " max_pooling2d_7 (MaxPoolin  (None, 8, 8, 8)           0         \n",
            " g2D)                                                            \n",
            "                                                                 \n",
            " conv2d_8 (Conv2D)           (None, 8, 8, 4)           292       \n",
            "                                                                 \n",
            " max_pooling2d_8 (MaxPoolin  (None, 4, 4, 4)           0         \n",
            " g2D)                                                            \n",
            "                                                                 \n",
            " conv2d_9 (Conv2D)           (None, 4, 4, 4)           148       \n",
            "                                                                 \n",
            " up_sampling2d (UpSampling2  (None, 8, 8, 4)           0         \n",
            " D)                                                              \n",
            "                                                                 \n",
            " conv2d_10 (Conv2D)          (None, 8, 8, 8)           296       \n",
            "                                                                 \n",
            " up_sampling2d_1 (UpSamplin  (None, 16, 16, 8)         0         \n",
            " g2D)                                                            \n",
            "                                                                 \n",
            " conv2d_11 (Conv2D)          (None, 16, 16, 16)        1168      \n",
            "                                                                 \n",
            " up_sampling2d_2 (UpSamplin  (None, 32, 32, 16)        0         \n",
            " g2D)                                                            \n",
            "                                                                 \n",
            " conv2d_12 (Conv2D)          (None, 32, 32, 1)         145       \n",
            "                                                                 \n",
            "=================================================================\n",
            "Total params: 3369 (13.16 KB)\n",
            "Trainable params: 3369 (13.16 KB)\n",
            "Non-trainable params: 0 (0.00 Byte)\n",
            "_________________________________________________________________\n"
          ]
        }
      ]
    },
    {
      "cell_type": "code",
      "source": [
        "METRICS = [\n",
        "    keras.metrics.MeanSquaredError(name='mean_squared_error'),\n",
        "    keras.metrics.RootMeanSquaredError(name='root_mean_squared_error'),\n",
        "]\n",
        "\n",
        "model.compile(\n",
        "    optimizer=keras.optimizers.Adam(learning_rate=0.001),\n",
        "    loss=\"mean_squared_error\",\n",
        "    metrics=METRICS\n",
        ")\n",
        "\n",
        "BATCH_SIZE = 32\n",
        "EPOCHS = 10"
      ],
      "metadata": {
        "id": "iutgSt7QDh77"
      },
      "execution_count": null,
      "outputs": []
    },
    {
      "cell_type": "code",
      "source": [
        "history = model.fit(\n",
        "    x=train_feats_standardized.values,\n",
        "    y=train_feats_standardized.values,\n",
        "    batch_size=BATCH_SIZE,\n",
        "    epochs=EPOCHS,\n",
        "    validation_split=0.1,\n",
        "    shuffle=True,\n",
        ")"
      ],
      "metadata": {
        "colab": {
          "base_uri": "https://localhost:8080/"
        },
        "id": "NJ2SPdP3HL6l",
        "outputId": "7962aefa-fe38-4057-f6fb-16faf90d9c28"
      },
      "execution_count": null,
      "outputs": [
        {
          "output_type": "stream",
          "name": "stdout",
          "text": [
            "Epoch 1/10\n",
            "44/44 [==============================] - 3s 40ms/step - loss: 0.6365 - mean_squared_error: 0.6365 - root_mean_squared_error: 0.7978 - val_loss: 0.4575 - val_mean_squared_error: 0.4575 - val_root_mean_squared_error: 0.6764\n",
            "Epoch 2/10\n",
            "44/44 [==============================] - 1s 27ms/step - loss: 0.1989 - mean_squared_error: 0.1989 - root_mean_squared_error: 0.4460 - val_loss: 0.0809 - val_mean_squared_error: 0.0809 - val_root_mean_squared_error: 0.2845\n",
            "Epoch 3/10\n",
            "44/44 [==============================] - 1s 27ms/step - loss: 0.0675 - mean_squared_error: 0.0675 - root_mean_squared_error: 0.2599 - val_loss: 0.0644 - val_mean_squared_error: 0.0644 - val_root_mean_squared_error: 0.2538\n",
            "Epoch 4/10\n",
            "44/44 [==============================] - 1s 26ms/step - loss: 0.0543 - mean_squared_error: 0.0543 - root_mean_squared_error: 0.2330 - val_loss: 0.0549 - val_mean_squared_error: 0.0549 - val_root_mean_squared_error: 0.2342\n",
            "Epoch 5/10\n",
            "44/44 [==============================] - 1s 27ms/step - loss: 0.0478 - mean_squared_error: 0.0478 - root_mean_squared_error: 0.2186 - val_loss: 0.0505 - val_mean_squared_error: 0.0505 - val_root_mean_squared_error: 0.2246\n",
            "Epoch 6/10\n",
            "44/44 [==============================] - 1s 26ms/step - loss: 0.0438 - mean_squared_error: 0.0438 - root_mean_squared_error: 0.2094 - val_loss: 0.0481 - val_mean_squared_error: 0.0481 - val_root_mean_squared_error: 0.2193\n",
            "Epoch 7/10\n",
            "44/44 [==============================] - 1s 27ms/step - loss: 0.0411 - mean_squared_error: 0.0411 - root_mean_squared_error: 0.2028 - val_loss: 0.0441 - val_mean_squared_error: 0.0441 - val_root_mean_squared_error: 0.2100\n",
            "Epoch 8/10\n",
            "44/44 [==============================] - 1s 27ms/step - loss: 0.0380 - mean_squared_error: 0.0380 - root_mean_squared_error: 0.1949 - val_loss: 0.0461 - val_mean_squared_error: 0.0461 - val_root_mean_squared_error: 0.2147\n",
            "Epoch 9/10\n",
            "44/44 [==============================] - 1s 26ms/step - loss: 0.0374 - mean_squared_error: 0.0374 - root_mean_squared_error: 0.1934 - val_loss: 0.0392 - val_mean_squared_error: 0.0392 - val_root_mean_squared_error: 0.1979\n",
            "Epoch 10/10\n",
            "44/44 [==============================] - 2s 35ms/step - loss: 0.0347 - mean_squared_error: 0.0347 - root_mean_squared_error: 0.1863 - val_loss: 0.0380 - val_mean_squared_error: 0.0380 - val_root_mean_squared_error: 0.1951\n"
          ]
        }
      ]
    },
    {
      "cell_type": "code",
      "source": [
        "plt.plot(history.history[\"mean_squared_error\"], c='k')\n",
        "plt.plot(history.history[\"val_mean_squared_error\"], c='r')\n",
        "plt.show()"
      ],
      "metadata": {
        "colab": {
          "base_uri": "https://localhost:8080/",
          "height": 430
        },
        "id": "m7Ysy6IFId2i",
        "outputId": "44d37a60-96d5-4074-894c-f73c4d159692"
      },
      "execution_count": null,
      "outputs": [
        {
          "output_type": "display_data",
          "data": {
            "text/plain": [
              "<Figure size 640x480 with 1 Axes>"
            ],
            "image/png": "[encoded data removed]"
          },
          "metadata": {}
        }
      ]
    },
    {
      "cell_type": "code",
      "source": [
        "# normalization of our training data (note each feature individually processed!)\n",
        "test_feats_standardized = xr.concat([\n",
        "    z_score_testing(\n",
        "        train_feats.isel(feature=0).expand_dims(dim='feature', axis=3),\n",
        "        test_feats.isel(feature=0).expand_dims(dim='feature', axis=3)\n",
        "        )],\n",
        "                                     dim='feature')"
      ],
      "metadata": {
        "id": "I3QHjf_UHOHC"
      },
      "execution_count": null,
      "outputs": []
    },
    {
      "cell_type": "code",
      "source": [
        "# Evaluate the model on the test data using `evaluate`\n",
        "print(\"Evaluate on test data\")\n",
        "results = model.evaluate(test_feats_standardized.values, test_feats_standardized.values, batch_size=128)\n",
        "print(results)"
      ],
      "metadata": {
        "colab": {
          "base_uri": "https://localhost:8080/"
        },
        "id": "UJknPtMCIRcg",
        "outputId": "371ec1c2-51b9-48f6-d18c-31d0a0fe2e95"
      },
      "execution_count": null,
      "outputs": [
        {
          "output_type": "stream",
          "name": "stdout",
          "text": [
            "Evaluate on test data\n",
            "6/6 [==============================] - 0s 24ms/step - loss: 0.0348 - mean_squared_error: 0.0348 - root_mean_squared_error: 0.1865\n",
            "[0.034794196486473083, 0.034794196486473083, 0.18653202056884766]\n"
          ]
        }
      ]
    },
    {
      "cell_type": "code",
      "source": [
        "# for predict anomalies/outliers in the training dataset\n",
        "prediction = model.predict(test_feats_standardized.values)\n",
        "\n",
        "# for get the mean absolute error between actual and reconstruction/prediction\n",
        "prediction_loss = keras.losses.mae(prediction, test_feats_standardized.values)\n",
        "\n",
        "# for check the prediction loss threshold for 2% of outliers\n",
        "loss_threshold = np.percentile(np.mean(prediction_loss, axis=(1,2)), 98)\n",
        "\n",
        "print(f'The prediction loss threshold for 2% of outliers is {loss_threshold:.2f}')\n",
        "# for visualize the threshold\n",
        "plt.hist(np.mean(prediction_loss, axis=(1,2)), bins=30, alpha=0.8)\n",
        "plt.axvline(x=loss_threshold, color='orange')\n",
        "plt.show()"
      ],
      "metadata": {
        "colab": {
          "base_uri": "https://localhost:8080/",
          "height": 465
        },
        "id": "JF74bbloI-Tz",
        "outputId": "ecc73336-71fe-475b-a3cc-2fe02a4d4b3d"
      },
      "execution_count": null,
      "outputs": [
        {
          "output_type": "stream",
          "name": "stdout",
          "text": [
            "21/21 [==============================] - 0s 9ms/step\n",
            "The prediction loss threshold for 2% of outliers is 0.27\n"
          ]
        },
        {
          "output_type": "display_data",
          "data": {
            "text/plain": [
              "<Figure size 640x480 with 1 Axes>"
            ],
            "image/png": "[encoded data removed]"
          },
          "metadata": {}
        }
      ]
    },
    {
      "cell_type": "markdown",
      "source": [
        "# References\n",
        "\n",
        "Campbell, T., G. M. Lackmann, M. J. Molina, and M. D. Parker (2024). Severe Convective Storms in Limited Instability Organized by Pattern and Distribution. Weather and Forecasting. https://journals.ametsoc.org/view/journals/wefo/39/1/WAF-D-23-0130.1.xml\n",
        "\n",
        "DuVivier, A. K., M. J. Molina, A. L. Deppenmeier, M. M. Holland, L. Landrum, K. Krumhardt, and S. Jenouvrier (2023). Projections of Winter Polynyas and Their Biophysical Impacts in the Ross Sea Antarctica. Climate Dynamics. https://link.springer.com/article/10.1007/s00382-023-06951-z\n",
        "\n",
        "Molina, M. J., D. J. Gagne, and A. F. Prein (2021). A benchmark to test generalization capabilities of deep learning methods to classify severe convective storms in a changing climate. Earth and Space Science. https://agupubs.onlinelibrary.wiley.com/doi/full/10.1029/2020EA001490\n",
        "\n",
        "Molina, M. J., T. A. O'Brien, G. Anderson, M. Ashfaq, K. E. Bennett, W. D. Collins, K. Dagon, J. M. Restrepo, and P. A. Ullrich (2023). A Review of Recent and Emerging Machine Learning Applications for Climate Variability and Weather Phenomena. Artificial Intelligence for the Earth Systems. https://journals.ametsoc.org/view/journals/aies/2/4/AIES-D-22-0086.1.xml\n",
        "\n",
        "Molina, M. J., J. H. Richter, A. A. Glanville, K. Dagon, J. Berner, A. Hu, and G. A. Meehl (2023). Subseasonal Representation and Predictability of North American Weather Regimes using Cluster Analysis. Artificial Intelligence for the Earth Systems. https://journals.ametsoc.org/view/journals/aies/2/2/AIES-D-22-0051.1.xml\n",
        "\n",
        "Passarella, L.S. and Mahajan, S., 2023. Assessing Tropical Pacific–Induced Predictability of Southern California Precipitation Using a Novel Multi-Input Multioutput Autoencoder. Artificial Intelligence for the Earth Systems, 2(4), p.e230003. https://journals.ametsoc.org/view/journals/aies/2/4/AIES-D-23-0003.1.xml"
      ],
      "metadata": {
        "id": "Y8DYzxtePqCH"
      }
    }
  ]
}