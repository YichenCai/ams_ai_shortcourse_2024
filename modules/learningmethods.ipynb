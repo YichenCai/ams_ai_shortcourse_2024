{
  "nbformat": 4,
  "nbformat_minor": 0,
  "metadata": {
    "colab": {
      "provenance": [],
      "authorship_tag": "ABX9TyPVe/2blsN8j2J8C64BE8bi",
      "include_colab_link": true
    },
    "kernelspec": {
      "name": "python3",
      "display_name": "Python 3"
    },
    "language_info": {
      "name": "python"
    }
  },
  "cells": [
    {
      "cell_type": "markdown",
      "metadata": {
        "id": "view-in-github",
        "colab_type": "text"
      },
      "source": [
        "<a href=\"https://colab.research.google.com/github/ekrell/ams_ai_shortcourse_2024/blob/main/modules/learningmethods.ipynb\" target=\"_parent\"><img src=\"https://colab.research.google.com/assets/colab-badge.svg\" alt=\"Open In Colab\"/></a>"
      ]
    },
    {
      "cell_type": "markdown",
      "source": [
        "# **AMS 2024 AI Short Course: Learning Methods in AI**\n",
        "\n",
        "---\n",
        "\n",
        "*Notebook by Maria J. Molina (University of Maryland, College Park)*"
      ],
      "metadata": {
        "id": "pwgWAFL8GZWw"
      }
    },
    {
      "cell_type": "markdown",
      "source": [
        "This Colab Notebook demonstrates different types of learning methods in artificial intelligence, with a specific focus on supervised and unsupervised learning, along with regression and classification problems."
      ],
      "metadata": {
        "id": "-Eo_OAT7Ppqn"
      }
    },
    {
      "cell_type": "markdown",
      "source": [
        "## **Supervised Learning**\n",
        "\n",
        "---\n",
        "\n",
        "Supervised learning refers to machine learning tasks where the dataset used contains both the predictors (x) and predictands (y) *a priori.* In other words, these are situations where we know the \"answer(s)\" beforehand. This information is useful for supervised tasks because the machine learning model can receive information about the skill of its own predictions based on the known predictands, and then these signals are used to update model weights accordingly to improve subsequent predictions. The predictand(s) can be continuous or discrete, which would lend itself to a regression or classification type of problem respectively.\n",
        "\n",
        "We often refer to the predictands as \"labels,\" particularly in the case of classification problems.\n",
        "\n"
      ],
      "metadata": {
        "id": "cHloNSeDZ2eU"
      }
    },
    {
      "cell_type": "markdown",
      "source": [
        "![supervised](https://drive.google.com/uc?export=view&id=1g74XtOQO7jZsEUxHEDnD4aKYAOOnhQjE)"
      ],
      "metadata": {
        "id": "leLgZajv6xGk"
      }
    },
    {
      "cell_type": "markdown",
      "source": [
        "Labels can be of different data types, such as:\n",
        "\n",
        "*   Single point value\n",
        "*   Single image pixel (i.e., grid-cell)\n",
        "*   Image-based (i.e., spatial in nature)\n",
        "*   Temporal (i.e., time series)\n",
        "\n",
        "In supervised learning, we can have regression or classification problems, which are further detailed below."
      ],
      "metadata": {
        "id": "3Nh2ooRNFj7W"
      }
    },
    {
      "cell_type": "markdown",
      "source": [
        "## Regression\n",
        "\n",
        "---\n",
        "\n",
        "**In regression problems**, we aim to predict the specific value of *something*. These values are generally continuous in nature. A simple example from statistics would be a linear regression y = mx + b, where y (our predictand) would be a continuous value that we can predict using our input x (our predictor)."
      ],
      "metadata": {
        "id": "esxC_D-RPp0z"
      }
    },
    {
      "cell_type": "markdown",
      "source": [
        "![supervised](https://drive.google.com/uc?export=view&id=1itJDHx1gq4WqEQ00hxKafMQ9-A9BjEhB)\n"
      ],
      "metadata": {
        "id": "ntxfSbLh-ADd"
      }
    },
    {
      "cell_type": "markdown",
      "source": [
        "Some examples of regression problems in the environmental sciences could include:\n",
        "\n",
        "*   tropical cyclone maximum wind speed at a certain lead time\n",
        "*   maximum land surface temperature in an urban area\n",
        "*   percentage of cloud coverage over a predifined domain\n",
        "*   bias correction of subseasonal forecasts of precipitation\n",
        "\n",
        "Importantly, when using various input variables (i.e., features or channels), normalizing or standardizing the variables is needed to make sure they have a similar dynamic range. Otherwise, some input variables may have much larger magnitudes than other input variables, limiting their contributions to the learning process. By normalizing/standardizing our features, we facilitate meaningful comparisons between features. This practice can also improve machine learning model convergence.\n",
        "\n",
        "Standardization involves centering the respective data to have a mean of zero and a standard deviation of one, which can be achieved by subtracting the mean and dividing by the standard deviation (i.e., z-score). Normalization involves the scaling of data to a set range, such as from 0 to +1 or -1 to +1, by using the minimum and maximum values of the respective variable."
      ],
      "metadata": {
        "id": "d-uDePYn-apy"
      }
    },
    {
      "cell_type": "markdown",
      "source": [
        "Here we have some helper functions for normalizing and standardizing our data using numpy."
      ],
      "metadata": {
        "id": "WmqM9d_sEJHu"
      }
    },
    {
      "cell_type": "code",
      "source": [
        "import numpy as np\n",
        "\n",
        "def z_score(da):\n",
        "    \"\"\"\n",
        "    Compute z-score for training data.\n",
        "    Normalizing data for ML model training.\n",
        "    Args:\n",
        "        da (array): Array of training variable.\n",
        "    \"\"\"\n",
        "    return (da - np.mean(da)) / np.std(da)\n",
        "\n",
        "def min_max_scale(da):\n",
        "    \"\"\"\n",
        "    Scale training data by minimum and maximum values.\n",
        "    Args:\n",
        "        da (array): Array of training variable.\n",
        "    \"\"\"\n",
        "    return (da - np.min(da)) / (np.max(da) - np.min(da))"
      ],
      "metadata": {
        "id": "uA1hA1WUC-R-"
      },
      "execution_count": 1,
      "outputs": []
    },
    {
      "cell_type": "markdown",
      "source": [
        "We can create a little random array just to visualize what the normalization and standardization methods do to our data."
      ],
      "metadata": {
        "id": "FMwM6y2KFe0J"
      }
    },
    {
      "cell_type": "code",
      "source": [
        "np.random.seed(0)\n",
        "sample_array = np.random.rand(10)\n",
        "print(sample_array)"
      ],
      "metadata": {
        "colab": {
          "base_uri": "https://localhost:8080/"
        },
        "id": "J44BpbaEEi3g",
        "outputId": "6bac4730-2e50-419e-cb36-36e6b7afeddf"
      },
      "execution_count": 2,
      "outputs": [
        {
          "output_type": "stream",
          "name": "stdout",
          "text": [
            "[0.5488135  0.71518937 0.60276338 0.54488318 0.4236548  0.64589411\n",
            " 0.43758721 0.891773   0.96366276 0.38344152]\n"
          ]
        }
      ]
    },
    {
      "cell_type": "code",
      "source": [
        "import matplotlib.pyplot as plt\n",
        "\n",
        "plt.hist(sample_array)\n",
        "plt.show()"
      ],
      "metadata": {
        "colab": {
          "base_uri": "https://localhost:8080/",
          "height": 430
        },
        "id": "4J-FyS5iE13t",
        "outputId": "c371fd4b-e78d-46c9-ea91-f55e162d8490"
      },
      "execution_count": 3,
      "outputs": [
        {
          "output_type": "display_data",
          "data": {
            "text/plain": [
              "<Figure size 640x480 with 1 Axes>"
            ],
            "image/png": "[encoded data removed]"
          },
          "metadata": {}
        }
      ]
    },
    {
      "cell_type": "code",
      "source": [
        "plt.hist(z_score(sample_array))\n",
        "plt.title('z-score')\n",
        "plt.show()\n",
        "\n",
        "plt.hist(min_max_scale(sample_array))\n",
        "plt.title('min-max')\n",
        "plt.show()"
      ],
      "metadata": {
        "colab": {
          "base_uri": "https://localhost:8080/",
          "height": 887
        },
        "id": "GJ2xJLedE2K6",
        "outputId": "eea22718-9ad7-454f-c54d-90ba65e7024a"
      },
      "execution_count": 4,
      "outputs": [
        {
          "output_type": "display_data",
          "data": {
            "text/plain": [
              "<Figure size 640x480 with 1 Axes>"
            ],
            "image/png": "[encoded data removed]"
          },
          "metadata": {}
        },
        {
          "output_type": "display_data",
          "data": {
            "text/plain": [
              "<Figure size 640x480 with 1 Axes>"
            ],
            "image/png": "[encoded data removed]"
          },
          "metadata": {}
        }
      ]
    },
    {
      "cell_type": "markdown",
      "source": [
        "As we can see on the x-axis in the above images, z-score results in our data having a mean of zero while min-max results in our data spanning values from 0 to +1, with both methods not changing the actual distribution of our data."
      ],
      "metadata": {
        "id": "w050t2twGGys"
      }
    },
    {
      "cell_type": "markdown",
      "source": [
        "## **Supervised Learning Regression Example**"
      ],
      "metadata": {
        "id": "JBirR3cdICH8"
      }
    },
    {
      "cell_type": "markdown",
      "source": [
        "Now, we will proceed with training a neural network in a supervised learning regression application."
      ],
      "metadata": {
        "id": "rT22AWjwIIeX"
      }
    },
    {
      "cell_type": "markdown",
      "source": [
        "We will use a dataset from Molina et al. (2021) consisting of thunderstorms generated using a 4-km horizontal resolution WRF simulation. We are using a small portion of the dataset, specifically thunderstorms simulated for April 27, 2011 over the continental United States."
      ],
      "metadata": {
        "id": "Z6MIe4xpeOQq"
      }
    },
    {
      "cell_type": "code",
      "source": [
        "!wget https://zenodo.org/records/10576726/files/current_SP3hourly_20110427.nc"
      ],
      "metadata": {
        "colab": {
          "base_uri": "https://localhost:8080/"
        },
        "id": "YIDtIzo3IJFS",
        "outputId": "ae1c41ec-2e65-4a77-d390-a6442e7e6ce4"
      },
      "execution_count": 5,
      "outputs": [
        {
          "output_type": "stream",
          "name": "stdout",
          "text": [
            "--2024-01-28 08:21:42--  https://zenodo.org/records/10576726/files/current_SP3hourly_20110427.nc\n",
            "Resolving zenodo.org (zenodo.org)... 188.184.98.238, 188.185.79.172, 188.184.103.159, ...\n",
            "Connecting to zenodo.org (zenodo.org)|188.184.98.238|:443... connected.\n",
            "HTTP request sent, awaiting response... 200 OK\n",
            "Length: 109400556 (104M) [application/octet-stream]\n",
            "Saving to: ‘current_SP3hourly_20110427.nc.2’\n",
            "\n",
            "current_SP3hourly_2 100%[===================>] 104.33M  17.7MB/s    in 7.4s    \n",
            "\n",
            "2024-01-28 08:21:51 (14.1 MB/s) - ‘current_SP3hourly_20110427.nc.2’ saved [109400556/109400556]\n",
            "\n"
          ]
        }
      ]
    },
    {
      "cell_type": "markdown",
      "source": [
        "Let's visualize the dataset. We can use python libraries for this."
      ],
      "metadata": {
        "id": "FTRe0rEpexSJ"
      }
    },
    {
      "cell_type": "code",
      "source": [
        "import matplotlib.pyplot as plt\n",
        "import xarray as xr"
      ],
      "metadata": {
        "id": "V-_wY-Lqewnh"
      },
      "execution_count": 6,
      "outputs": []
    },
    {
      "cell_type": "code",
      "source": [
        "ds = xr.open_dataset('current_SP3hourly_20110427.nc')"
      ],
      "metadata": {
        "id": "pY1Bn-N8d7pB"
      },
      "execution_count": 7,
      "outputs": []
    },
    {
      "cell_type": "code",
      "source": [
        "ds"
      ],
      "metadata": {
        "colab": {
          "base_uri": "https://localhost:8080/",
          "height": 771
        },
        "id": "YYoMRMW9ewrH",
        "outputId": "e397f3f1-90de-4a9e-cb04-317c1f030dcd"
      },
      "execution_count": 8,
      "outputs": [
        {
          "output_type": "execute_result",
          "data": {
            "text/plain": [
              "<xarray.Dataset>\n",
              "Dimensions:      (starttime: 2224, y: 32, x: 32)\n",
              "Coordinates:\n",
              "  * starttime    (starttime) float64 9.264e+04 9.264e+04 ... 9.266e+04 9.266e+04\n",
              "    endtime      (starttime) float64 ...\n",
              "    x_speed      (starttime) int64 ...\n",
              "    y_speed      (starttime) int64 ...\n",
              "Dimensions without coordinates: y, x\n",
              "Data variables:\n",
              "    uh25_grid    (starttime, y, x) float32 ...\n",
              "    uh03_grid    (starttime, y, x) float32 ...\n",
              "    ctt_grid     (starttime, y, x) float32 ...\n",
              "    dbz_grid     (starttime, y, x) float32 ...\n",
              "    mask         (starttime, y, x) int64 ...\n",
              "    row_indices  (starttime, y, x) int64 ...\n",
              "    col_indices  (starttime, y, x) int64 ...\n",
              "    lats         (starttime, y, x) float32 ...\n",
              "    lons         (starttime, y, x) float32 ..."
            ],
            "text/html": [
              "<div><svg style=\"position: absolute; width: 0; height: 0; overflow: hidden\">\n",
              "<defs>\n",
              "<symbol id=\"icon-database\" viewBox=\"0 0 32 32\">\n",
              "<path d=\"M16 0c-8.837 0-16 2.239-16 5v4c0 2.761 7.163 5 16 5s16-2.239 16-5v-4c0-2.761-7.163-5-16-5z\"></path>\n",
              "<path d=\"M16 17c-8.837 0-16-2.239-16-5v6c0 2.761 7.163 5 16 5s16-2.239 16-5v-6c0 2.761-7.163 5-16 5z\"></path>\n",
              "<path d=\"M16 26c-8.837 0-16-2.239-16-5v6c0 2.761 7.163 5 16 5s16-2.239 16-5v-6c0 2.761-7.163 5-16 5z\"></path>\n",
              "</symbol>\n",
              "<symbol id=\"icon-file-text2\" viewBox=\"0 0 32 32\">\n",
              "<path d=\"M28.681 7.159c-0.694-0.947-1.662-2.053-2.724-3.116s-2.169-2.030-3.116-2.724c-1.612-1.182-2.393-1.319-2.841-1.319h-15.5c-1.378 0-2.5 1.121-2.5 2.5v27c0 1.378 1.122 2.5 2.5 2.5h23c1.378 0 2.5-1.122 2.5-2.5v-19.5c0-0.448-0.137-1.23-1.319-2.841zM24.543 5.457c0.959 0.959 1.712 1.825 2.268 2.543h-4.811v-4.811c0.718 0.556 1.584 1.309 2.543 2.268zM28 29.5c0 0.271-0.229 0.5-0.5 0.5h-23c-0.271 0-0.5-0.229-0.5-0.5v-27c0-0.271 0.229-0.5 0.5-0.5 0 0 15.499-0 15.5 0v7c0 0.552 0.448 1 1 1h7v19.5z\"></path>\n",
              "<path d=\"M23 26h-14c-0.552 0-1-0.448-1-1s0.448-1 1-1h14c0.552 0 1 0.448 1 1s-0.448 1-1 1z\"></path>\n",
              "<path d=\"M23 22h-14c-0.552 0-1-0.448-1-1s0.448-1 1-1h14c0.552 0 1 0.448 1 1s-0.448 1-1 1z\"></path>\n",
              "<path d=\"M23 18h-14c-0.552 0-1-0.448-1-1s0.448-1 1-1h14c0.552 0 1 0.448 1 1s-0.448 1-1 1z\"></path>\n",
              "</symbol>\n",
              "</defs>\n",
              "</svg>\n",
              "<style>/* CSS stylesheet for displaying xarray objects in jupyterlab.\n",
              " *\n",
              " */\n",
              "\n",
              ":root {\n",
              "  --xr-font-color0: var(--jp-content-font-color0, rgba(0, 0, 0, 1));\n",
              "  --xr-font-color2: var(--jp-content-font-color2, rgba(0, 0, 0, 0.54));\n",
              "  --xr-font-color3: var(--jp-content-font-color3, rgba(0, 0, 0, 0.38));\n",
              "  --xr-border-color: var(--jp-border-color2, #e0e0e0);\n",
              "  --xr-disabled-color: var(--jp-layout-color3, #bdbdbd);\n",
              "  --xr-background-color: var(--jp-layout-color0, white);\n",
              "  --xr-background-color-row-even: var(--jp-layout-color1, white);\n",
              "  --xr-background-color-row-odd: var(--jp-layout-color2, #eeeeee);\n",
              "}\n",
              "\n",
              "html[theme=dark],\n",
              "body[data-theme=dark],\n",
              "body.vscode-dark {\n",
              "  --xr-font-color0: rgba(255, 255, 255, 1);\n",
              "  --xr-font-color2: rgba(255, 255, 255, 0.54);\n",
              "  --xr-font-color3: rgba(255, 255, 255, 0.38);\n",
              "  --xr-border-color: #1F1F1F;\n",
              "  --xr-disabled-color: #515151;\n",
              "  --xr-background-color: #111111;\n",
              "  --xr-background-color-row-even: #111111;\n",
              "  --xr-background-color-row-odd: #313131;\n",
              "}\n",
              "\n",
              ".xr-wrap {\n",
              "  display: block !important;\n",
              "  min-width: 300px;\n",
              "  max-width: 700px;\n",
              "}\n",
              "\n",
              ".xr-text-repr-fallback {\n",
              "  /* fallback to plain text repr when CSS is not injected (untrusted notebook) */\n",
              "  display: none;\n",
              "}\n",
              "\n",
              ".xr-header {\n",
              "  padding-top: 6px;\n",
              "  padding-bottom: 6px;\n",
              "  margin-bottom: 4px;\n",
              "  border-bottom: solid 1px var(--xr-border-color);\n",
              "}\n",
              "\n",
              ".xr-header > div,\n",
              ".xr-header > ul {\n",
              "  display: inline;\n",
              "  margin-top: 0;\n",
              "  margin-bottom: 0;\n",
              "}\n",
              "\n",
              ".xr-obj-type,\n",
              ".xr-array-name {\n",
              "  margin-left: 2px;\n",
              "  margin-right: 10px;\n",
              "}\n",
              "\n",
              ".xr-obj-type {\n",
              "  color: var(--xr-font-color2);\n",
              "}\n",
              "\n",
              ".xr-sections {\n",
              "  padding-left: 0 !important;\n",
              "  display: grid;\n",
              "  grid-template-columns: 150px auto auto 1fr 20px 20px;\n",
              "}\n",
              "\n",
              ".xr-section-item {\n",
              "  display: contents;\n",
              "}\n",
              "\n",
              ".xr-section-item input {\n",
              "  display: none;\n",
              "}\n",
              "\n",
              ".xr-section-item input + label {\n",
              "  color: var(--xr-disabled-color);\n",
              "}\n",
              "\n",
              ".xr-section-item input:enabled + label {\n",
              "  cursor: pointer;\n",
              "  color: var(--xr-font-color2);\n",
              "}\n",
              "\n",
              ".xr-section-item input:enabled + label:hover {\n",
              "  color: var(--xr-font-color0);\n",
              "}\n",
              "\n",
              ".xr-section-summary {\n",
              "  grid-column: 1;\n",
              "  color: var(--xr-font-color2);\n",
              "  font-weight: 500;\n",
              "}\n",
              "\n",
              ".xr-section-summary > span {\n",
              "  display: inline-block;\n",
              "  padding-left: 0.5em;\n",
              "}\n",
              "\n",
              ".xr-section-summary-in:disabled + label {\n",
              "  color: var(--xr-font-color2);\n",
              "}\n",
              "\n",
              ".xr-section-summary-in + label:before {\n",
              "  display: inline-block;\n",
              "  content: '►';\n",
              "  font-size: 11px;\n",
              "  width: 15px;\n",
              "  text-align: center;\n",
              "}\n",
              "\n",
              ".xr-section-summary-in:disabled + label:before {\n",
              "  color: var(--xr-disabled-color);\n",
              "}\n",
              "\n",
              ".xr-section-summary-in:checked + label:before {\n",
              "  content: '▼';\n",
              "}\n",
              "\n",
              ".xr-section-summary-in:checked + label > span {\n",
              "  display: none;\n",
              "}\n",
              "\n",
              ".xr-section-summary,\n",
              ".xr-section-inline-details {\n",
              "  padding-top: 4px;\n",
              "  padding-bottom: 4px;\n",
              "}\n",
              "\n",
              ".xr-section-inline-details {\n",
              "  grid-column: 2 / -1;\n",
              "}\n",
              "\n",
              ".xr-section-details {\n",
              "  display: none;\n",
              "  grid-column: 1 / -1;\n",
              "  margin-bottom: 5px;\n",
              "}\n",
              "\n",
              ".xr-section-summary-in:checked ~ .xr-section-details {\n",
              "  display: contents;\n",
              "}\n",
              "\n",
              ".xr-array-wrap {\n",
              "  grid-column: 1 / -1;\n",
              "  display: grid;\n",
              "  grid-template-columns: 20px auto;\n",
              "}\n",
              "\n",
              ".xr-array-wrap > label {\n",
              "  grid-column: 1;\n",
              "  vertical-align: top;\n",
              "}\n",
              "\n",
              ".xr-preview {\n",
              "  color: var(--xr-font-color3);\n",
              "}\n",
              "\n",
              ".xr-array-preview,\n",
              ".xr-array-data {\n",
              "  padding: 0 5px !important;\n",
              "  grid-column: 2;\n",
              "}\n",
              "\n",
              ".xr-array-data,\n",
              ".xr-array-in:checked ~ .xr-array-preview {\n",
              "  display: none;\n",
              "}\n",
              "\n",
              ".xr-array-in:checked ~ .xr-array-data,\n",
              ".xr-array-preview {\n",
              "  display: inline-block;\n",
              "}\n",
              "\n",
              ".xr-dim-list {\n",
              "  display: inline-block !important;\n",
              "  list-style: none;\n",
              "  padding: 0 !important;\n",
              "  margin: 0;\n",
              "}\n",
              "\n",
              ".xr-dim-list li {\n",
              "  display: inline-block;\n",
              "  padding: 0;\n",
              "  margin: 0;\n",
              "}\n",
              "\n",
              ".xr-dim-list:before {\n",
              "  content: '(';\n",
              "}\n",
              "\n",
              ".xr-dim-list:after {\n",
              "  content: ')';\n",
              "}\n",
              "\n",
              ".xr-dim-list li:not(:last-child):after {\n",
              "  content: ',';\n",
              "  padding-right: 5px;\n",
              "}\n",
              "\n",
              ".xr-has-index {\n",
              "  font-weight: bold;\n",
              "}\n",
              "\n",
              ".xr-var-list,\n",
              ".xr-var-item {\n",
              "  display: contents;\n",
              "}\n",
              "\n",
              ".xr-var-item > div,\n",
              ".xr-var-item label,\n",
              ".xr-var-item > .xr-var-name span {\n",
              "  background-color: var(--xr-background-color-row-even);\n",
              "  margin-bottom: 0;\n",
              "}\n",
              "\n",
              ".xr-var-item > .xr-var-name:hover span {\n",
              "  padding-right: 5px;\n",
              "}\n",
              "\n",
              ".xr-var-list > li:nth-child(odd) > div,\n",
              ".xr-var-list > li:nth-child(odd) > label,\n",
              ".xr-var-list > li:nth-child(odd) > .xr-var-name span {\n",
              "  background-color: var(--xr-background-color-row-odd);\n",
              "}\n",
              "\n",
              ".xr-var-name {\n",
              "  grid-column: 1;\n",
              "}\n",
              "\n",
              ".xr-var-dims {\n",
              "  grid-column: 2;\n",
              "}\n",
              "\n",
              ".xr-var-dtype {\n",
              "  grid-column: 3;\n",
              "  text-align: right;\n",
              "  color: var(--xr-font-color2);\n",
              "}\n",
              "\n",
              ".xr-var-preview {\n",
              "  grid-column: 4;\n",
              "}\n",
              "\n",
              ".xr-index-preview {\n",
              "  grid-column: 2 / 5;\n",
              "  color: var(--xr-font-color2);\n",
              "}\n",
              "\n",
              ".xr-var-name,\n",
              ".xr-var-dims,\n",
              ".xr-var-dtype,\n",
              ".xr-preview,\n",
              ".xr-attrs dt {\n",
              "  white-space: nowrap;\n",
              "  overflow: hidden;\n",
              "  text-overflow: ellipsis;\n",
              "  padding-right: 10px;\n",
              "}\n",
              "\n",
              ".xr-var-name:hover,\n",
              ".xr-var-dims:hover,\n",
              ".xr-var-dtype:hover,\n",
              ".xr-attrs dt:hover {\n",
              "  overflow: visible;\n",
              "  width: auto;\n",
              "  z-index: 1;\n",
              "}\n",
              "\n",
              ".xr-var-attrs,\n",
              ".xr-var-data,\n",
              ".xr-index-data {\n",
              "  display: none;\n",
              "  background-color: var(--xr-background-color) !important;\n",
              "  padding-bottom: 5px !important;\n",
              "}\n",
              "\n",
              ".xr-var-attrs-in:checked ~ .xr-var-attrs,\n",
              ".xr-var-data-in:checked ~ .xr-var-data,\n",
              ".xr-index-data-in:checked ~ .xr-index-data {\n",
              "  display: block;\n",
              "}\n",
              "\n",
              ".xr-var-data > table {\n",
              "  float: right;\n",
              "}\n",
              "\n",
              ".xr-var-name span,\n",
              ".xr-var-data,\n",
              ".xr-index-name div,\n",
              ".xr-index-data,\n",
              ".xr-attrs {\n",
              "  padding-left: 25px !important;\n",
              "}\n",
              "\n",
              ".xr-attrs,\n",
              ".xr-var-attrs,\n",
              ".xr-var-data,\n",
              ".xr-index-data {\n",
              "  grid-column: 1 / -1;\n",
              "}\n",
              "\n",
              "dl.xr-attrs {\n",
              "  padding: 0;\n",
              "  margin: 0;\n",
              "  display: grid;\n",
              "  grid-template-columns: 125px auto;\n",
              "}\n",
              "\n",
              ".xr-attrs dt,\n",
              ".xr-attrs dd {\n",
              "  padding: 0;\n",
              "  margin: 0;\n",
              "  float: left;\n",
              "  padding-right: 10px;\n",
              "  width: auto;\n",
              "}\n",
              "\n",
              ".xr-attrs dt {\n",
              "  font-weight: normal;\n",
              "  grid-column: 1;\n",
              "}\n",
              "\n",
              ".xr-attrs dt:hover span {\n",
              "  display: inline-block;\n",
              "  background: var(--xr-background-color);\n",
              "  padding-right: 10px;\n",
              "}\n",
              "\n",
              ".xr-attrs dd {\n",
              "  grid-column: 2;\n",
              "  white-space: pre-wrap;\n",
              "  word-break: break-all;\n",
              "}\n",
              "\n",
              ".xr-icon-database,\n",
              ".xr-icon-file-text2,\n",
              ".xr-no-icon {\n",
              "  display: inline-block;\n",
              "  vertical-align: middle;\n",
              "  width: 1em;\n",
              "  height: 1.5em !important;\n",
              "  stroke-width: 0;\n",
              "  stroke: currentColor;\n",
              "  fill: currentColor;\n",
              "}\n",
              "</style><pre class='xr-text-repr-fallback'>&lt;xarray.Dataset&gt;\n",
              "Dimensions:      (starttime: 2224, y: 32, x: 32)\n",
              "Coordinates:\n",
              "  * starttime    (starttime) float64 9.264e+04 9.264e+04 ... 9.266e+04 9.266e+04\n",
              "    endtime      (starttime) float64 ...\n",
              "    x_speed      (starttime) int64 ...\n",
              "    y_speed      (starttime) int64 ...\n",
              "Dimensions without coordinates: y, x\n",
              "Data variables:\n",
              "    uh25_grid    (starttime, y, x) float32 ...\n",
              "    uh03_grid    (starttime, y, x) float32 ...\n",
              "    ctt_grid     (starttime, y, x) float32 ...\n",
              "    dbz_grid     (starttime, y, x) float32 ...\n",
              "    mask         (starttime, y, x) int64 ...\n",
              "    row_indices  (starttime, y, x) int64 ...\n",
              "    col_indices  (starttime, y, x) int64 ...\n",
              "    lats         (starttime, y, x) float32 ...\n",
              "    lons         (starttime, y, x) float32 ...</pre><div class='xr-wrap' style='display:none'><div class='xr-header'><div class='xr-obj-type'>xarray.Dataset</div></div><ul class='xr-sections'><li class='xr-section-item'><input id='section-b082ab13-3134-448e-b844-31b033f7893c' class='xr-section-summary-in' type='checkbox' disabled ><label for='section-b082ab13-3134-448e-b844-31b033f7893c' class='xr-section-summary'  title='Expand/collapse section'>Dimensions:</label><div class='xr-section-inline-details'><ul class='xr-dim-list'><li><span class='xr-has-index'>starttime</span>: 2224</li><li><span>y</span>: 32</li><li><span>x</span>: 32</li></ul></div><div class='xr-section-details'></div></li><li class='xr-section-item'><input id='section-05db0b48-8a13-4ab0-8408-dca9bcd9403f' class='xr-section-summary-in' type='checkbox'  checked><label for='section-05db0b48-8a13-4ab0-8408-dca9bcd9403f' class='xr-section-summary' >Coordinates: <span>(4)</span></label><div class='xr-section-inline-details'></div><div class='xr-section-details'><ul class='xr-var-list'><li class='xr-var-item'><div class='xr-var-name'><span class='xr-has-index'>starttime</span></div><div class='xr-var-dims'>(starttime)</div><div class='xr-var-dtype'>float64</div><div class='xr-var-preview xr-preview'>9.264e+04 9.264e+04 ... 9.266e+04</div><input id='attrs-1cea445a-8258-4701-aab5-98e77f942663' class='xr-var-attrs-in' type='checkbox' disabled><label for='attrs-1cea445a-8258-4701-aab5-98e77f942663' title='Show/Hide attributes'><svg class='icon xr-icon-file-text2'><use xlink:href='#icon-file-text2'></use></svg></label><input id='data-43ecc2db-8ee9-42b2-8f0d-bb128429a410' class='xr-var-data-in' type='checkbox'><label for='data-43ecc2db-8ee9-42b2-8f0d-bb128429a410' title='Show/Hide data repr'><svg class='icon xr-icon-database'><use xlink:href='#icon-database'></use></svg></label><div class='xr-var-attrs'><dl class='xr-attrs'></dl></div><div class='xr-var-data'><pre>array([92640., 92640., 92640., ..., 92661., 92661., 92661.])</pre></div></li><li class='xr-var-item'><div class='xr-var-name'><span>endtime</span></div><div class='xr-var-dims'>(starttime)</div><div class='xr-var-dtype'>float64</div><div class='xr-var-preview xr-preview'>...</div><input id='attrs-d1a9a773-1403-4b2b-be74-a9cb5ffe146d' class='xr-var-attrs-in' type='checkbox' disabled><label for='attrs-d1a9a773-1403-4b2b-be74-a9cb5ffe146d' title='Show/Hide attributes'><svg class='icon xr-icon-file-text2'><use xlink:href='#icon-file-text2'></use></svg></label><input id='data-47049e69-24d2-491d-8907-943ae69895f7' class='xr-var-data-in' type='checkbox'><label for='data-47049e69-24d2-491d-8907-943ae69895f7' title='Show/Hide data repr'><svg class='icon xr-icon-database'><use xlink:href='#icon-database'></use></svg></label><div class='xr-var-attrs'><dl class='xr-attrs'></dl></div><div class='xr-var-data'><pre>[2224 values with dtype=float64]</pre></div></li><li class='xr-var-item'><div class='xr-var-name'><span>x_speed</span></div><div class='xr-var-dims'>(starttime)</div><div class='xr-var-dtype'>int64</div><div class='xr-var-preview xr-preview'>...</div><input id='attrs-486859a8-8cc7-42f6-a81c-a218d4074ac9' class='xr-var-attrs-in' type='checkbox' disabled><label for='attrs-486859a8-8cc7-42f6-a81c-a218d4074ac9' title='Show/Hide attributes'><svg class='icon xr-icon-file-text2'><use xlink:href='#icon-file-text2'></use></svg></label><input id='data-520f3697-6cb6-40c3-b170-55544dea088a' class='xr-var-data-in' type='checkbox'><label for='data-520f3697-6cb6-40c3-b170-55544dea088a' title='Show/Hide data repr'><svg class='icon xr-icon-database'><use xlink:href='#icon-database'></use></svg></label><div class='xr-var-attrs'><dl class='xr-attrs'></dl></div><div class='xr-var-data'><pre>[2224 values with dtype=int64]</pre></div></li><li class='xr-var-item'><div class='xr-var-name'><span>y_speed</span></div><div class='xr-var-dims'>(starttime)</div><div class='xr-var-dtype'>int64</div><div class='xr-var-preview xr-preview'>...</div><input id='attrs-82649973-9f80-4416-a162-18e6b639a723' class='xr-var-attrs-in' type='checkbox' disabled><label for='attrs-82649973-9f80-4416-a162-18e6b639a723' title='Show/Hide attributes'><svg class='icon xr-icon-file-text2'><use xlink:href='#icon-file-text2'></use></svg></label><input id='data-fb899fcc-d2cf-4d2c-8599-0c43e4726e82' class='xr-var-data-in' type='checkbox'><label for='data-fb899fcc-d2cf-4d2c-8599-0c43e4726e82' title='Show/Hide data repr'><svg class='icon xr-icon-database'><use xlink:href='#icon-database'></use></svg></label><div class='xr-var-attrs'><dl class='xr-attrs'></dl></div><div class='xr-var-data'><pre>[2224 values with dtype=int64]</pre></div></li></ul></div></li><li class='xr-section-item'><input id='section-bae2bf39-6dfa-4778-905a-2c4df84f656a' class='xr-section-summary-in' type='checkbox'  checked><label for='section-bae2bf39-6dfa-4778-905a-2c4df84f656a' class='xr-section-summary' >Data variables: <span>(9)</span></label><div class='xr-section-inline-details'></div><div class='xr-section-details'><ul class='xr-var-list'><li class='xr-var-item'><div class='xr-var-name'><span>uh25_grid</span></div><div class='xr-var-dims'>(starttime, y, x)</div><div class='xr-var-dtype'>float32</div><div class='xr-var-preview xr-preview'>...</div><input id='attrs-5d41c05b-1c1b-4a59-8436-ce7b703b9c39' class='xr-var-attrs-in' type='checkbox' disabled><label for='attrs-5d41c05b-1c1b-4a59-8436-ce7b703b9c39' title='Show/Hide attributes'><svg class='icon xr-icon-file-text2'><use xlink:href='#icon-file-text2'></use></svg></label><input id='data-06f75f82-4051-40af-8053-94d69e277c8f' class='xr-var-data-in' type='checkbox'><label for='data-06f75f82-4051-40af-8053-94d69e277c8f' title='Show/Hide data repr'><svg class='icon xr-icon-database'><use xlink:href='#icon-database'></use></svg></label><div class='xr-var-attrs'><dl class='xr-attrs'></dl></div><div class='xr-var-data'><pre>[2277376 values with dtype=float32]</pre></div></li><li class='xr-var-item'><div class='xr-var-name'><span>uh03_grid</span></div><div class='xr-var-dims'>(starttime, y, x)</div><div class='xr-var-dtype'>float32</div><div class='xr-var-preview xr-preview'>...</div><input id='attrs-4d2dd136-99db-4d44-9367-ba87615cffa7' class='xr-var-attrs-in' type='checkbox' disabled><label for='attrs-4d2dd136-99db-4d44-9367-ba87615cffa7' title='Show/Hide attributes'><svg class='icon xr-icon-file-text2'><use xlink:href='#icon-file-text2'></use></svg></label><input id='data-2da93822-a2ef-4114-aa25-b4b4e8e2bff3' class='xr-var-data-in' type='checkbox'><label for='data-2da93822-a2ef-4114-aa25-b4b4e8e2bff3' title='Show/Hide data repr'><svg class='icon xr-icon-database'><use xlink:href='#icon-database'></use></svg></label><div class='xr-var-attrs'><dl class='xr-attrs'></dl></div><div class='xr-var-data'><pre>[2277376 values with dtype=float32]</pre></div></li><li class='xr-var-item'><div class='xr-var-name'><span>ctt_grid</span></div><div class='xr-var-dims'>(starttime, y, x)</div><div class='xr-var-dtype'>float32</div><div class='xr-var-preview xr-preview'>...</div><input id='attrs-c5a76292-8108-4c17-aea1-214f6bcdf38a' class='xr-var-attrs-in' type='checkbox' disabled><label for='attrs-c5a76292-8108-4c17-aea1-214f6bcdf38a' title='Show/Hide attributes'><svg class='icon xr-icon-file-text2'><use xlink:href='#icon-file-text2'></use></svg></label><input id='data-2c5fc053-51fc-44dd-aa2b-7d14874e99a7' class='xr-var-data-in' type='checkbox'><label for='data-2c5fc053-51fc-44dd-aa2b-7d14874e99a7' title='Show/Hide data repr'><svg class='icon xr-icon-database'><use xlink:href='#icon-database'></use></svg></label><div class='xr-var-attrs'><dl class='xr-attrs'></dl></div><div class='xr-var-data'><pre>[2277376 values with dtype=float32]</pre></div></li><li class='xr-var-item'><div class='xr-var-name'><span>dbz_grid</span></div><div class='xr-var-dims'>(starttime, y, x)</div><div class='xr-var-dtype'>float32</div><div class='xr-var-preview xr-preview'>...</div><input id='attrs-606324e0-bbf7-4951-9620-f953386962d0' class='xr-var-attrs-in' type='checkbox' disabled><label for='attrs-606324e0-bbf7-4951-9620-f953386962d0' title='Show/Hide attributes'><svg class='icon xr-icon-file-text2'><use xlink:href='#icon-file-text2'></use></svg></label><input id='data-84a4d13a-5454-41aa-ab87-836fdd9a68df' class='xr-var-data-in' type='checkbox'><label for='data-84a4d13a-5454-41aa-ab87-836fdd9a68df' title='Show/Hide data repr'><svg class='icon xr-icon-database'><use xlink:href='#icon-database'></use></svg></label><div class='xr-var-attrs'><dl class='xr-attrs'></dl></div><div class='xr-var-data'><pre>[2277376 values with dtype=float32]</pre></div></li><li class='xr-var-item'><div class='xr-var-name'><span>mask</span></div><div class='xr-var-dims'>(starttime, y, x)</div><div class='xr-var-dtype'>int64</div><div class='xr-var-preview xr-preview'>...</div><input id='attrs-c36ebcf3-70d7-4c95-b996-ee535d4fda34' class='xr-var-attrs-in' type='checkbox' disabled><label for='attrs-c36ebcf3-70d7-4c95-b996-ee535d4fda34' title='Show/Hide attributes'><svg class='icon xr-icon-file-text2'><use xlink:href='#icon-file-text2'></use></svg></label><input id='data-4edee7b3-1b1d-4bb7-b568-b1de7f91a195' class='xr-var-data-in' type='checkbox'><label for='data-4edee7b3-1b1d-4bb7-b568-b1de7f91a195' title='Show/Hide data repr'><svg class='icon xr-icon-database'><use xlink:href='#icon-database'></use></svg></label><div class='xr-var-attrs'><dl class='xr-attrs'></dl></div><div class='xr-var-data'><pre>[2277376 values with dtype=int64]</pre></div></li><li class='xr-var-item'><div class='xr-var-name'><span>row_indices</span></div><div class='xr-var-dims'>(starttime, y, x)</div><div class='xr-var-dtype'>int64</div><div class='xr-var-preview xr-preview'>...</div><input id='attrs-f10d7b3c-b80e-4aed-a6a2-802706263963' class='xr-var-attrs-in' type='checkbox' disabled><label for='attrs-f10d7b3c-b80e-4aed-a6a2-802706263963' title='Show/Hide attributes'><svg class='icon xr-icon-file-text2'><use xlink:href='#icon-file-text2'></use></svg></label><input id='data-cb9658cb-0454-404d-84c2-7483d0756163' class='xr-var-data-in' type='checkbox'><label for='data-cb9658cb-0454-404d-84c2-7483d0756163' title='Show/Hide data repr'><svg class='icon xr-icon-database'><use xlink:href='#icon-database'></use></svg></label><div class='xr-var-attrs'><dl class='xr-attrs'></dl></div><div class='xr-var-data'><pre>[2277376 values with dtype=int64]</pre></div></li><li class='xr-var-item'><div class='xr-var-name'><span>col_indices</span></div><div class='xr-var-dims'>(starttime, y, x)</div><div class='xr-var-dtype'>int64</div><div class='xr-var-preview xr-preview'>...</div><input id='attrs-b086f593-2b1e-435e-a8a0-11c663312f9a' class='xr-var-attrs-in' type='checkbox' disabled><label for='attrs-b086f593-2b1e-435e-a8a0-11c663312f9a' title='Show/Hide attributes'><svg class='icon xr-icon-file-text2'><use xlink:href='#icon-file-text2'></use></svg></label><input id='data-64b0b6a5-c66f-4521-b798-9dceafebe3d9' class='xr-var-data-in' type='checkbox'><label for='data-64b0b6a5-c66f-4521-b798-9dceafebe3d9' title='Show/Hide data repr'><svg class='icon xr-icon-database'><use xlink:href='#icon-database'></use></svg></label><div class='xr-var-attrs'><dl class='xr-attrs'></dl></div><div class='xr-var-data'><pre>[2277376 values with dtype=int64]</pre></div></li><li class='xr-var-item'><div class='xr-var-name'><span>lats</span></div><div class='xr-var-dims'>(starttime, y, x)</div><div class='xr-var-dtype'>float32</div><div class='xr-var-preview xr-preview'>...</div><input id='attrs-a642ad1a-4ad7-4e9c-a92f-5d5c767e4d4d' class='xr-var-attrs-in' type='checkbox' disabled><label for='attrs-a642ad1a-4ad7-4e9c-a92f-5d5c767e4d4d' title='Show/Hide attributes'><svg class='icon xr-icon-file-text2'><use xlink:href='#icon-file-text2'></use></svg></label><input id='data-d9bb6209-a175-4859-803c-58ff18a386cc' class='xr-var-data-in' type='checkbox'><label for='data-d9bb6209-a175-4859-803c-58ff18a386cc' title='Show/Hide data repr'><svg class='icon xr-icon-database'><use xlink:href='#icon-database'></use></svg></label><div class='xr-var-attrs'><dl class='xr-attrs'></dl></div><div class='xr-var-data'><pre>[2277376 values with dtype=float32]</pre></div></li><li class='xr-var-item'><div class='xr-var-name'><span>lons</span></div><div class='xr-var-dims'>(starttime, y, x)</div><div class='xr-var-dtype'>float32</div><div class='xr-var-preview xr-preview'>...</div><input id='attrs-9f35d7c4-66b1-43cb-af00-33d4f94f0b18' class='xr-var-attrs-in' type='checkbox' disabled><label for='attrs-9f35d7c4-66b1-43cb-af00-33d4f94f0b18' title='Show/Hide attributes'><svg class='icon xr-icon-file-text2'><use xlink:href='#icon-file-text2'></use></svg></label><input id='data-32b69820-f523-4951-8802-c7ce26f58052' class='xr-var-data-in' type='checkbox'><label for='data-32b69820-f523-4951-8802-c7ce26f58052' title='Show/Hide data repr'><svg class='icon xr-icon-database'><use xlink:href='#icon-database'></use></svg></label><div class='xr-var-attrs'><dl class='xr-attrs'></dl></div><div class='xr-var-data'><pre>[2277376 values with dtype=float32]</pre></div></li></ul></div></li><li class='xr-section-item'><input id='section-addcb367-5c64-42d4-abb3-f5e16df40e0f' class='xr-section-summary-in' type='checkbox'  ><label for='section-addcb367-5c64-42d4-abb3-f5e16df40e0f' class='xr-section-summary' >Indexes: <span>(1)</span></label><div class='xr-section-inline-details'></div><div class='xr-section-details'><ul class='xr-var-list'><li class='xr-var-item'><div class='xr-index-name'><div>starttime</div></div><div class='xr-index-preview'>PandasIndex</div><div></div><input id='index-d19d1242-eb15-44bb-a952-ae4dcfd9e106' class='xr-index-data-in' type='checkbox'/><label for='index-d19d1242-eb15-44bb-a952-ae4dcfd9e106' title='Show/Hide index repr'><svg class='icon xr-icon-database'><use xlink:href='#icon-database'></use></svg></label><div class='xr-index-data'><pre>PandasIndex(Float64Index([92640.0, 92640.0, 92640.0, 92640.0, 92640.0, 92640.0, 92640.0,\n",
              "              92640.0, 92640.0, 92640.0,\n",
              "              ...\n",
              "              92661.0, 92661.0, 92661.0, 92661.0, 92661.0, 92661.0, 92661.0,\n",
              "              92661.0, 92661.0, 92661.0],\n",
              "             dtype=&#x27;float64&#x27;, name=&#x27;starttime&#x27;, length=2224))</pre></div></li></ul></div></li><li class='xr-section-item'><input id='section-dd5a2541-2a50-43b5-9666-5250aa36972a' class='xr-section-summary-in' type='checkbox' disabled ><label for='section-dd5a2541-2a50-43b5-9666-5250aa36972a' class='xr-section-summary'  title='Expand/collapse section'>Attributes: <span>(0)</span></label><div class='xr-section-inline-details'></div><div class='xr-section-details'><dl class='xr-attrs'></dl></div></li></ul></div></div>"
            ]
          },
          "metadata": {},
          "execution_count": 8
        }
      ]
    },
    {
      "cell_type": "markdown",
      "source": [
        "The dataset contains 2,224 storm samples that were generated using the github reposity [deep-conus](https://github.com/mariajmolina/deep-conus). Each sample is 32x32 grid cells (i.e., pixels) with each grid cell spanning 4-km.\n",
        "\n",
        "Let's visualize some of the variables."
      ],
      "metadata": {
        "id": "yw6ewfZee-lr"
      }
    },
    {
      "cell_type": "code",
      "source": [
        "# simulated radar reflectivity\n",
        "ds['dbz_grid'].isel(starttime=0).plot()"
      ],
      "metadata": {
        "colab": {
          "base_uri": "https://localhost:8080/",
          "height": 489
        },
        "id": "DsoCCgnSfnhJ",
        "outputId": "c5b69b9a-dbf9-418c-f71e-3bff8ee22e86"
      },
      "execution_count": 9,
      "outputs": [
        {
          "output_type": "execute_result",
          "data": {
            "text/plain": [
              "<matplotlib.collections.QuadMesh at 0x7f0a98f51690>"
            ]
          },
          "metadata": {},
          "execution_count": 9
        },
        {
          "output_type": "display_data",
          "data": {
            "text/plain": [
              "<Figure size 640x480 with 2 Axes>"
            ],
            "image/png": "[encoded data removed]"
          },
          "metadata": {}
        }
      ]
    },
    {
      "cell_type": "code",
      "source": [
        "# gridded updraft helicity from 2-5 km\n",
        "ds['uh25_grid'].isel(starttime=0).plot()"
      ],
      "metadata": {
        "colab": {
          "base_uri": "https://localhost:8080/",
          "height": 489
        },
        "id": "bFIWAsD0ewu-",
        "outputId": "52829061-c6dc-40af-dc93-ccc2ad462f36"
      },
      "execution_count": 10,
      "outputs": [
        {
          "output_type": "execute_result",
          "data": {
            "text/plain": [
              "<matplotlib.collections.QuadMesh at 0x7f0a98e49c00>"
            ]
          },
          "metadata": {},
          "execution_count": 10
        },
        {
          "output_type": "display_data",
          "data": {
            "text/plain": [
              "<Figure size 640x480 with 2 Axes>"
            ],
            "image/png": "[encoded data removed]"
          },
          "metadata": {}
        }
      ]
    },
    {
      "cell_type": "code",
      "source": [
        "# gridded cloud top temperature\n",
        "ds['ctt_grid'].isel(starttime=0).plot()"
      ],
      "metadata": {
        "colab": {
          "base_uri": "https://localhost:8080/",
          "height": 489
        },
        "id": "dzBY7eYRfncK",
        "outputId": "fb251f38-3b2d-4371-aace-bd433bd1fe8a"
      },
      "execution_count": 11,
      "outputs": [
        {
          "output_type": "execute_result",
          "data": {
            "text/plain": [
              "<matplotlib.collections.QuadMesh at 0x7f0a98d3ce80>"
            ]
          },
          "metadata": {},
          "execution_count": 11
        },
        {
          "output_type": "display_data",
          "data": {
            "text/plain": [
              "<Figure size 640x480 with 2 Axes>"
            ],
            "image/png": "[encoded data removed]"
          },
          "metadata": {}
        }
      ]
    },
    {
      "cell_type": "markdown",
      "source": [
        "Now we will preprocess our training and testing data. We need to split our data into a training and testing sets, and standardize."
      ],
      "metadata": {
        "id": "UlzHzBsPhpe1"
      }
    },
    {
      "cell_type": "code",
      "source": [
        "def random_split(data, label, split=0.3, seed=0):\n",
        "    \"\"\"\n",
        "    Help spliting data randomly for training and testing.\n",
        "    \"\"\"\n",
        "    np.random.seed(0)\n",
        "    da_indx = np.random.permutation(data.shape[0])\n",
        "    data  = data[da_indx.astype(int)]\n",
        "    label = label[da_indx.astype(int)]\n",
        "    init_range = int(data.shape[0] * (1 - 0.3))\n",
        "    return data[:init_range], label[:init_range], data[init_range:], label[init_range:]"
      ],
      "metadata": {
        "id": "BYfUl7q0IJBl"
      },
      "execution_count": 12,
      "outputs": []
    },
    {
      "cell_type": "code",
      "source": [
        "features = xr.concat([\n",
        "    ds['dbz_grid'].expand_dims(dim='feature', axis=3),\n",
        "    ds['ctt_grid'].expand_dims(dim='feature', axis=3)],\n",
        "          dim='feature')"
      ],
      "metadata": {
        "id": "QmZSDOrvd50f"
      },
      "execution_count": 13,
      "outputs": []
    },
    {
      "cell_type": "code",
      "source": [
        "print(features.shape)"
      ],
      "metadata": {
        "colab": {
          "base_uri": "https://localhost:8080/"
        },
        "id": "rt4Sl3cii7SY",
        "outputId": "37874fa4-eb35-4a44-da37-23f500208608"
      },
      "execution_count": 14,
      "outputs": [
        {
          "output_type": "stream",
          "name": "stdout",
          "text": [
            "(2224, 32, 32, 2)\n"
          ]
        }
      ]
    },
    {
      "cell_type": "code",
      "source": [
        "# grab the maximum of the dbz to use as our labels (regression)\n",
        "labels = ds['dbz_grid'].expand_dims(dim='feature', axis=3).max('x').max('y')"
      ],
      "metadata": {
        "id": "HgsBcfJ2ivWE"
      },
      "execution_count": 15,
      "outputs": []
    },
    {
      "cell_type": "code",
      "source": [
        "print(labels)"
      ],
      "metadata": {
        "colab": {
          "base_uri": "https://localhost:8080/"
        },
        "id": "kZ57QrQXi3HV",
        "outputId": "93ba6551-8ece-43bf-b441-3968779e586c"
      },
      "execution_count": 16,
      "outputs": [
        {
          "output_type": "stream",
          "name": "stdout",
          "text": [
            "<xarray.DataArray 'dbz_grid' (starttime: 2224, feature: 1)>\n",
            "array([[65.721054],\n",
            "       [58.54062 ],\n",
            "       [58.54062 ],\n",
            "       ...,\n",
            "       [45.41483 ],\n",
            "       [37.786957],\n",
            "       [42.48563 ]], dtype=float32)\n",
            "Coordinates:\n",
            "  * starttime  (starttime) float64 9.264e+04 9.264e+04 ... 9.266e+04 9.266e+04\n",
            "    endtime    (starttime) float64 ...\n",
            "    x_speed    (starttime) int64 ...\n",
            "    y_speed    (starttime) int64 ...\n",
            "Dimensions without coordinates: feature\n"
          ]
        }
      ]
    },
    {
      "cell_type": "code",
      "source": [
        "train_feats, train_label, test_feats, test_label = random_split(features, labels)"
      ],
      "metadata": {
        "id": "1xt_5E0DjOPD"
      },
      "execution_count": 17,
      "outputs": []
    },
    {
      "cell_type": "code",
      "source": [
        "print(train_feats.shape[0], train_label.shape[0], test_feats.shape[0], test_label.shape[0])"
      ],
      "metadata": {
        "colab": {
          "base_uri": "https://localhost:8080/"
        },
        "id": "q5kQ6CXcjOek",
        "outputId": "6366acef-8999-418e-f0f6-c9d82e23aaba"
      },
      "execution_count": 18,
      "outputs": [
        {
          "output_type": "stream",
          "name": "stdout",
          "text": [
            "1556 1556 668 668\n"
          ]
        }
      ]
    },
    {
      "cell_type": "code",
      "source": [
        "# normalization of our training data (note each feature individually processed!)\n",
        "train_feats_standardized = xr.concat([\n",
        "    z_score(train_feats.isel(feature=0).expand_dims(dim='feature', axis=3)),\n",
        "    z_score(train_feats.isel(feature=1).expand_dims(dim='feature', axis=3))],\n",
        "                                     dim='feature')\n",
        "\n",
        "train_label_standardized = z_score(train_label)"
      ],
      "metadata": {
        "id": "-UM89woPj8Ep"
      },
      "execution_count": 19,
      "outputs": []
    },
    {
      "cell_type": "code",
      "source": [
        "train_feats.isel(feature=0,starttime=15).plot()"
      ],
      "metadata": {
        "colab": {
          "base_uri": "https://localhost:8080/",
          "height": 489
        },
        "id": "1HV4mCLnlIMF",
        "outputId": "8d425663-ace2-49ba-aa92-ef4783520727"
      },
      "execution_count": 20,
      "outputs": [
        {
          "output_type": "execute_result",
          "data": {
            "text/plain": [
              "<matplotlib.collections.QuadMesh at 0x7f0a98c6c4c0>"
            ]
          },
          "metadata": {},
          "execution_count": 20
        },
        {
          "output_type": "display_data",
          "data": {
            "text/plain": [
              "<Figure size 640x480 with 2 Axes>"
            ],
            "image/png": "[encoded data removed]"
          },
          "metadata": {}
        }
      ]
    },
    {
      "cell_type": "code",
      "source": [
        "train_feats_standardized.isel(feature=0,starttime=15).plot()"
      ],
      "metadata": {
        "colab": {
          "base_uri": "https://localhost:8080/",
          "height": 489
        },
        "id": "w2T48h8ykonf",
        "outputId": "a751198e-f5b8-4083-c511-a6d5e6d4741d"
      },
      "execution_count": 21,
      "outputs": [
        {
          "output_type": "execute_result",
          "data": {
            "text/plain": [
              "<matplotlib.collections.QuadMesh at 0x7f0a94af4ca0>"
            ]
          },
          "metadata": {},
          "execution_count": 21
        },
        {
          "output_type": "display_data",
          "data": {
            "text/plain": [
              "<Figure size 640x480 with 2 Axes>"
            ],
            "image/png": "[encoded data removed]"
          },
          "metadata": {}
        }
      ]
    },
    {
      "cell_type": "code",
      "source": [
        "train_feats.isel(feature=1,starttime=100).plot()"
      ],
      "metadata": {
        "colab": {
          "base_uri": "https://localhost:8080/",
          "height": 489
        },
        "id": "PJh6t50olRlG",
        "outputId": "2c6ef7a8-8dc5-4e70-9659-932b131201d6"
      },
      "execution_count": 22,
      "outputs": [
        {
          "output_type": "execute_result",
          "data": {
            "text/plain": [
              "<matplotlib.collections.QuadMesh at 0x7f0a949c3430>"
            ]
          },
          "metadata": {},
          "execution_count": 22
        },
        {
          "output_type": "display_data",
          "data": {
            "text/plain": [
              "<Figure size 640x480 with 2 Axes>"
            ],
            "image/png": "[encoded data removed]"
          },
          "metadata": {}
        }
      ]
    },
    {
      "cell_type": "code",
      "source": [
        "train_feats_standardized.isel(feature=1,starttime=100).plot()"
      ],
      "metadata": {
        "colab": {
          "base_uri": "https://localhost:8080/",
          "height": 489
        },
        "id": "EO_ugNfykwE2",
        "outputId": "9789ba22-c724-404b-e291-cdd11435bc43"
      },
      "execution_count": 23,
      "outputs": [
        {
          "output_type": "execute_result",
          "data": {
            "text/plain": [
              "<matplotlib.collections.QuadMesh at 0x7f0a94893190>"
            ]
          },
          "metadata": {},
          "execution_count": 23
        },
        {
          "output_type": "display_data",
          "data": {
            "text/plain": [
              "<Figure size 640x480 with 2 Axes>"
            ],
            "image/png": "[encoded data removed]"
          },
          "metadata": {}
        }
      ]
    },
    {
      "cell_type": "markdown",
      "source": [
        "Let's proceed to build a simple convolutional neural network that will take images as the input and predict the respective storm's maximum updraft helicity."
      ],
      "metadata": {
        "id": "yS-guBx7gOkQ"
      }
    },
    {
      "cell_type": "code",
      "source": [
        "import keras\n",
        "from keras import layers"
      ],
      "metadata": {
        "id": "KDM-f2a1fnlB"
      },
      "execution_count": 24,
      "outputs": []
    },
    {
      "cell_type": "code",
      "source": [
        "# lets use two input variables (dbz_grid and ctt_grid)\n",
        "number_of_features = 2"
      ],
      "metadata": {
        "id": "94Cj7eVlhByj"
      },
      "execution_count": 25,
      "outputs": []
    },
    {
      "cell_type": "code",
      "source": [
        "model = keras.Sequential()\n",
        "\n",
        "# input\n",
        "model.add(keras.Input(shape=(32, 32, number_of_features)))  # 32x32 images\n",
        "\n",
        "# data augmentation layers\n",
        "#model.add(layers.RandomFlip(\"horizontal_and_vertical\"))\n",
        "#model.add(layers.RandomRotation(factor=(-0.5, 0.5)))\n",
        "\n",
        "# hidden layers\n",
        "model.add(layers.Conv2D(32, 3, strides=1, padding=\"same\", activation=\"relu\"))\n",
        "model.add(layers.MaxPooling2D(2))\n",
        "model.add(layers.Dropout(0.2))\n",
        "\n",
        "model.add(layers.Conv2D(64, 3, strides=1, padding=\"same\", activation=\"relu\"))\n",
        "model.add(layers.MaxPooling2D(2))\n",
        "model.add(layers.Dropout(0.2))\n",
        "\n",
        "model.add(layers.Conv2D(128, 3, strides=1, padding=\"same\", activation=\"relu\"))\n",
        "model.add(layers.MaxPooling2D(2))\n",
        "model.add(layers.Dropout(0.2))\n",
        "\n",
        "# Now that we have 4x4 feature maps, now apply global max pooling.\n",
        "model.add(layers.GlobalMaxPooling2D())\n",
        "\n",
        "# Finally, we add last fully connected (dense) layers\n",
        "model.add(layers.Dense(64))\n",
        "model.add(layers.Dense(1, activation=\"linear\"))\n",
        "\n",
        "# print model summary\n",
        "model.summary()"
      ],
      "metadata": {
        "colab": {
          "base_uri": "https://localhost:8080/"
        },
        "id": "aGZqhCVfII4J",
        "outputId": "37b7ad25-596b-4f1c-d652-4037031d8431"
      },
      "execution_count": 26,
      "outputs": [
        {
          "output_type": "stream",
          "name": "stdout",
          "text": [
            "Model: \"sequential\"\n",
            "_________________________________________________________________\n",
            " Layer (type)                Output Shape              Param #   \n",
            "=================================================================\n",
            " conv2d (Conv2D)             (None, 32, 32, 32)        608       \n",
            "                                                                 \n",
            " max_pooling2d (MaxPooling2  (None, 16, 16, 32)        0         \n",
            " D)                                                              \n",
            "                                                                 \n",
            " dropout (Dropout)           (None, 16, 16, 32)        0         \n",
            "                                                                 \n",
            " conv2d_1 (Conv2D)           (None, 16, 16, 64)        18496     \n",
            "                                                                 \n",
            " max_pooling2d_1 (MaxPoolin  (None, 8, 8, 64)          0         \n",
            " g2D)                                                            \n",
            "                                                                 \n",
            " dropout_1 (Dropout)         (None, 8, 8, 64)          0         \n",
            "                                                                 \n",
            " conv2d_2 (Conv2D)           (None, 8, 8, 128)         73856     \n",
            "                                                                 \n",
            " max_pooling2d_2 (MaxPoolin  (None, 4, 4, 128)         0         \n",
            " g2D)                                                            \n",
            "                                                                 \n",
            " dropout_2 (Dropout)         (None, 4, 4, 128)         0         \n",
            "                                                                 \n",
            " global_max_pooling2d (Glob  (None, 128)               0         \n",
            " alMaxPooling2D)                                                 \n",
            "                                                                 \n",
            " dense (Dense)               (None, 64)                8256      \n",
            "                                                                 \n",
            " dense_1 (Dense)             (None, 1)                 65        \n",
            "                                                                 \n",
            "=================================================================\n",
            "Total params: 101281 (395.63 KB)\n",
            "Trainable params: 101281 (395.63 KB)\n",
            "Non-trainable params: 0 (0.00 Byte)\n",
            "_________________________________________________________________\n"
          ]
        }
      ]
    },
    {
      "cell_type": "markdown",
      "source": [
        "Proceeding with compiling our model and selecting some metrics to use."
      ],
      "metadata": {
        "id": "AXkjSNM3mD2u"
      }
    },
    {
      "cell_type": "markdown",
      "source": [
        "Some common evaluation metrics used with regression problems are:\n",
        "\n",
        "Mean absolute error (MAE): $\\frac{1}{N} \\sum\\limits_{i = 1}^{N} \\lvert \\hat{y}_i - y_i \\rvert$\n",
        "\n",
        "Mean squared error (MSE): $\\frac{1}{N} \\sum\\limits_{i = 1}^{N} (\\hat{y}_i - y_i)^2$\n",
        "\n",
        "\n",
        "More evalution metrics can be found [here](https://scikit-learn.org/stable/modules/model_evaluation.html)."
      ],
      "metadata": {
        "id": "knrWFwJ5LU2A"
      }
    },
    {
      "cell_type": "code",
      "source": [
        "METRICS = [\n",
        "    keras.metrics.MeanSquaredError(name='mean_squared_error'),\n",
        "    keras.metrics.RootMeanSquaredError(name='root_mean_squared_error'),\n",
        "]"
      ],
      "metadata": {
        "id": "lPb4PhGRlZgN"
      },
      "execution_count": 27,
      "outputs": []
    },
    {
      "cell_type": "code",
      "source": [
        "model.compile(\n",
        "    optimizer=keras.optimizers.Adam(learning_rate=0.001),\n",
        "    loss=\"mean_squared_error\",\n",
        "    metrics=METRICS\n",
        ")"
      ],
      "metadata": {
        "id": "o82dwXizjNTa"
      },
      "execution_count": 28,
      "outputs": []
    },
    {
      "cell_type": "code",
      "source": [
        "BATCH_SIZE = 32\n",
        "EPOCHS = 10"
      ],
      "metadata": {
        "id": "QEdyoR97MTrv"
      },
      "execution_count": 29,
      "outputs": []
    },
    {
      "cell_type": "code",
      "source": [
        "history = model.fit(\n",
        "    x=train_feats_standardized.values,\n",
        "    y=train_label_standardized.values,\n",
        "    batch_size=BATCH_SIZE,\n",
        "    epochs=EPOCHS,\n",
        "    validation_split=0.1,\n",
        "    shuffle=True,\n",
        ")"
      ],
      "metadata": {
        "colab": {
          "base_uri": "https://localhost:8080/"
        },
        "id": "QfhYCYuVmXu7",
        "outputId": "64b9ec85-c52e-4af2-b77f-bd7d300df2b3"
      },
      "execution_count": 30,
      "outputs": [
        {
          "output_type": "stream",
          "name": "stdout",
          "text": [
            "Epoch 1/10\n",
            "44/44 [==============================] - 3s 50ms/step - loss: 0.5513 - mean_squared_error: 0.5513 - root_mean_squared_error: 0.7425 - val_loss: 0.5110 - val_mean_squared_error: 0.5110 - val_root_mean_squared_error: 0.7149\n",
            "Epoch 2/10\n",
            "44/44 [==============================] - 2s 55ms/step - loss: 0.3912 - mean_squared_error: 0.3912 - root_mean_squared_error: 0.6254 - val_loss: 0.3774 - val_mean_squared_error: 0.3774 - val_root_mean_squared_error: 0.6144\n",
            "Epoch 3/10\n",
            "44/44 [==============================] - 2s 45ms/step - loss: 0.2830 - mean_squared_error: 0.2830 - root_mean_squared_error: 0.5319 - val_loss: 0.3459 - val_mean_squared_error: 0.3459 - val_root_mean_squared_error: 0.5881\n",
            "Epoch 4/10\n",
            "44/44 [==============================] - 2s 45ms/step - loss: 0.2016 - mean_squared_error: 0.2016 - root_mean_squared_error: 0.4490 - val_loss: 0.2362 - val_mean_squared_error: 0.2362 - val_root_mean_squared_error: 0.4860\n",
            "Epoch 5/10\n",
            "44/44 [==============================] - 2s 45ms/step - loss: 0.1523 - mean_squared_error: 0.1523 - root_mean_squared_error: 0.3902 - val_loss: 0.2305 - val_mean_squared_error: 0.2305 - val_root_mean_squared_error: 0.4801\n",
            "Epoch 6/10\n",
            "44/44 [==============================] - 2s 46ms/step - loss: 0.1418 - mean_squared_error: 0.1418 - root_mean_squared_error: 0.3766 - val_loss: 0.2874 - val_mean_squared_error: 0.2874 - val_root_mean_squared_error: 0.5361\n",
            "Epoch 7/10\n",
            "44/44 [==============================] - 2s 47ms/step - loss: 0.1236 - mean_squared_error: 0.1236 - root_mean_squared_error: 0.3516 - val_loss: 0.2919 - val_mean_squared_error: 0.2919 - val_root_mean_squared_error: 0.5403\n",
            "Epoch 8/10\n",
            "44/44 [==============================] - 2s 51ms/step - loss: 0.1109 - mean_squared_error: 0.1109 - root_mean_squared_error: 0.3331 - val_loss: 0.3426 - val_mean_squared_error: 0.3426 - val_root_mean_squared_error: 0.5853\n",
            "Epoch 9/10\n",
            "44/44 [==============================] - 2s 44ms/step - loss: 0.1140 - mean_squared_error: 0.1140 - root_mean_squared_error: 0.3377 - val_loss: 0.2217 - val_mean_squared_error: 0.2217 - val_root_mean_squared_error: 0.4708\n",
            "Epoch 10/10\n",
            "44/44 [==============================] - 2s 44ms/step - loss: 0.1058 - mean_squared_error: 0.1058 - root_mean_squared_error: 0.3253 - val_loss: 0.3122 - val_mean_squared_error: 0.3122 - val_root_mean_squared_error: 0.5587\n"
          ]
        }
      ]
    },
    {
      "cell_type": "code",
      "source": [
        "plt.plot(history.history[\"mean_squared_error\"], c='k')\n",
        "plt.plot(history.history[\"val_mean_squared_error\"], c='r')\n",
        "plt.show()"
      ],
      "metadata": {
        "colab": {
          "base_uri": "https://localhost:8080/",
          "height": 430
        },
        "id": "KD2-89DcoW44",
        "outputId": "e20c4f76-8b3a-4c41-bfa8-d0e7b8584ebb"
      },
      "execution_count": 31,
      "outputs": [
        {
          "output_type": "display_data",
          "data": {
            "text/plain": [
              "<Figure size 640x480 with 1 Axes>"
            ],
            "image/png": "[encoded data removed]"
          },
          "metadata": {}
        }
      ]
    },
    {
      "cell_type": "markdown",
      "source": [
        "Lets now evaluate the model using the test dataset. We need to standardize the data, but using the mean and standard deviation of the training set."
      ],
      "metadata": {
        "id": "rwxlG2G0xcQ6"
      }
    },
    {
      "cell_type": "code",
      "source": [
        "def z_score_testing(da, testdata):\n",
        "    \"\"\"\n",
        "    Compute z-score for testing data.\n",
        "    Args:\n",
        "        da (array): Array of training variable.\n",
        "    \"\"\"\n",
        "    return (testdata - np.mean(da)) / np.std(da)"
      ],
      "metadata": {
        "id": "7zaFmAIUorvC"
      },
      "execution_count": 32,
      "outputs": []
    },
    {
      "cell_type": "code",
      "source": [
        "# normalization of our training data (note each feature individually processed!)\n",
        "test_feats_standardized = xr.concat([\n",
        "    z_score_testing(\n",
        "        train_feats.isel(feature=0).expand_dims(dim='feature', axis=3),\n",
        "        test_feats.isel(feature=0).expand_dims(dim='feature', axis=3)\n",
        "        ),\n",
        "    z_score_testing(\n",
        "        train_feats.isel(feature=1).expand_dims(dim='feature', axis=3),\n",
        "        test_feats.isel(feature=1).expand_dims(dim='feature', axis=3)\n",
        "        )],\n",
        "                                     dim='feature')\n",
        "\n",
        "test_label_standardized = z_score_testing(train_label, test_label)"
      ],
      "metadata": {
        "id": "3jR6rF-lx55_"
      },
      "execution_count": 33,
      "outputs": []
    },
    {
      "cell_type": "code",
      "source": [
        "# Evaluate the model on the test data using `evaluate`\n",
        "print(\"Evaluate on test data\")\n",
        "results = model.evaluate(test_feats_standardized.values, test_label_standardized.values, batch_size=128)\n",
        "print(results)"
      ],
      "metadata": {
        "colab": {
          "base_uri": "https://localhost:8080/"
        },
        "id": "ZXfumUFnor4-",
        "outputId": "68d07abb-0a03-41ee-d736-cba8d489fa52"
      },
      "execution_count": 34,
      "outputs": [
        {
          "output_type": "stream",
          "name": "stdout",
          "text": [
            "Evaluate on test data\n",
            "6/6 [==============================] - 0s 41ms/step - loss: 0.3359 - mean_squared_error: 0.3359 - root_mean_squared_error: 0.5796\n",
            "[0.3358811140060425, 0.3358811140060425, 0.5795525312423706]\n"
          ]
        }
      ]
    },
    {
      "cell_type": "code",
      "source": [
        "# generate predictions using the trained model\n",
        "predictions = model.predict(test_feats_standardized.values)"
      ],
      "metadata": {
        "colab": {
          "base_uri": "https://localhost:8080/"
        },
        "id": "tSHfeMExzVqb",
        "outputId": "177331f3-7a57-4f3e-977c-5c6d22a5cb75"
      },
      "execution_count": 35,
      "outputs": [
        {
          "output_type": "stream",
          "name": "stdout",
          "text": [
            "21/21 [==============================] - 0s 13ms/step\n"
          ]
        }
      ]
    },
    {
      "cell_type": "code",
      "source": [
        "# visualize predictions vs ground truth\n",
        "plt.scatter(predictions, test_label_standardized.values)\n",
        "plt.show()"
      ],
      "metadata": {
        "colab": {
          "base_uri": "https://localhost:8080/",
          "height": 430
        },
        "id": "xzOMgkXozb6V",
        "outputId": "252df329-f8d0-415a-c27a-8132cc0ebda1"
      },
      "execution_count": 36,
      "outputs": [
        {
          "output_type": "display_data",
          "data": {
            "text/plain": [
              "<Figure size 640x480 with 1 Axes>"
            ],
            "image/png": "[encoded data removed]"
          },
          "metadata": {}
        }
      ]
    },
    {
      "cell_type": "markdown",
      "source": [
        "# Tutorial Practice: How does batch size impact model training?\n",
        "\n",
        "---"
      ],
      "metadata": {
        "id": "6soWOXwjyo8t"
      }
    },
    {
      "cell_type": "code",
      "source": [
        "# recreate the model object"
      ],
      "metadata": {
        "id": "PZlR8mqqy3py"
      },
      "execution_count": 37,
      "outputs": []
    },
    {
      "cell_type": "code",
      "source": [
        "# recompile the model"
      ],
      "metadata": {
        "id": "HOB_0mQEzJwz"
      },
      "execution_count": 38,
      "outputs": []
    },
    {
      "cell_type": "code",
      "source": [
        "# retrain the model"
      ],
      "metadata": {
        "id": "5oNHXJ4_zJ3I"
      },
      "execution_count": 39,
      "outputs": []
    },
    {
      "cell_type": "code",
      "source": [
        "# evaluate the new model's skill"
      ],
      "metadata": {
        "id": "rMHPapkbzJ9m"
      },
      "execution_count": 40,
      "outputs": []
    },
    {
      "cell_type": "markdown",
      "source": [
        "Other sample questions for practice:\n",
        "\n",
        "*   How does the learning rate impact model training?\n",
        "*   Does data augmentation help with model skill?\n",
        "*   Does reducing regularization impact overfitting (hint: reduce dropout percentage)?"
      ],
      "metadata": {
        "id": "hsqlwFRY1aXd"
      }
    },
    {
      "cell_type": "code",
      "source": [
        "# more cells for practicing"
      ],
      "metadata": {
        "id": "8rhORSiS4Dz3"
      },
      "execution_count": 41,
      "outputs": []
    },
    {
      "cell_type": "markdown",
      "source": [
        "# What happens if your model is not performing well? This may be related to issues in bias and/or variance...\n",
        "\n",
        "---\n",
        "\n",
        "### Bias / Variance Trade-off\n",
        "\n",
        "*Subsection on bias/variance trade-off sourced from the AMS 2022 AI Short Course and the following [paper](http://scott.fortmann-roe.com/docs/BiasVariance.html)*\n",
        "\n",
        "An important concept in machine learning is that of the \"bias/variance trade-off.\" Prediction errors from any model can be decomposed into several terms: 1) error due to bias, 2) error due to variance, and 3) irreducible errors or noise. This concept refers to the trade-off that occurs in a models ability to reduce error in the bias and variance terms.\n",
        "\n",
        "<img src=\"https://www.cs.cornell.edu/courses/cs4780/2018fa/lectures/images/bias_variance/bullseye.png\" height= \"600\">\n",
        "\n",
        "(image credit: [paper](http://scott.fortmann-roe.com/docs/BiasVariance.html))\n",
        "\n",
        "\n",
        "### Bias\n",
        "\n",
        "Bias is due to your model being consistently getting a certain type of error in relation to a particular kind of solution. For example, maximum temperatures in relation to the diurnal cycle might be predicted by your model consistently higher than what was observed. This error may be irreducible with more training data and be related to your model (i.e., inherent to your model). The error due to bias is taken as the difference between the expected (or average) prediction of our model and the correct value which we are trying to predict. Bias measures how far off in general these models' predictions are from the correct value.\n",
        "\n",
        "### Variance\n",
        "\n",
        "Variance relates to changes in your model's predictions based on new iterations of your model and thus captures how much your predictions change if your model is trained on a different training set (e.g., different data ordering). We can also think of this as how \"over-specialized\" your machine learning model may be to a particular training set (overfitting). The error due to variance is taken as the variability of a model's prediction for a given data point. Again, variance is how much the predictions for a given point vary between different realizations of the model.\n",
        "\n",
        "### Irreducible Error/Noise\n",
        "\n",
        "How big is the data-intrinsic noise? This error relates to ambiguity due to your data distribution and feature representation. You can never beat this, it is an aspect of the data.\n",
        "\n",
        "# So, what do we do with this information?\n",
        "\n",
        "If the training error is below your desired error threshold, but the test error is significantly higher, then the cause of the model's poor performance is high variance. In other words, we have overfit to the training set. We can remedy this issue by adding more training data and/or reducing the model's complexity. For decision trees, we can also perform \"bagging.\"\n",
        "\n",
        "If the training error and the test error are both above your desired error threshold, then the model being used is not robust or complex enough to produce accurate predictions. In other words, we have underfit to the training set. We can remedy this issue by using more complex model and/or adding more variables (features). For decision trees, we can also perform \"boosting.\"\n",
        "\n",
        "For more information, see [Cornell Lecture](https://www.cs.cornell.edu/courses/cs4780/2018fa/lectures/lecturenote12.html)."
      ],
      "metadata": {
        "id": "71KIzoONMT3P"
      }
    },
    {
      "cell_type": "markdown",
      "source": [
        "## Classification\n",
        "\n",
        "---\n",
        "\n",
        "**In classification problems**, we aim to predict the class of *something*. Classes are discrete in nature. We can frame our problem to be binary classification (two classes; e.g., True or False, or Yes or No problems). Classification problems can also be multiclass in nature.\n",
        "\n",
        "Continuous data could be grouped or binned into certain classes, and thus, continuous data can be converted to classes (e.g., binning of continuous maximum tropical cyclone wind speeds into hurricane intensities based on the Saffir-Simpson Hurricane Wind Scale, e.g., category 1, category 2, etc.).\n",
        "\n",
        "Ways to convert continuous data into classes include **integer encoding or one-hot encoding**. Integer encoding involves assigning an integer value to each unique category, and this can work well for data that have an underlying natural ordered relationship between each other, since machine learning models may be able to understand and harness this relationship. For one-hot encoding, a binary variable (i.e., zero or one) is added at a certain position in each sample's vector, which is meant to represent the respective sample's class, e.g., `[0, 0, 1]` vs `[1, 0, 0]`."
      ],
      "metadata": {
        "id": "e3fmySjlPp8p"
      }
    },
    {
      "cell_type": "markdown",
      "source": [
        "![supervised](https://drive.google.com/uc?export=view&id=1jDl42c0CSN9dvp37TMWJ1qI6fOQMGp4e)\n"
      ],
      "metadata": {
        "id": "aBFaBbXNARjL"
      }
    },
    {
      "cell_type": "markdown",
      "source": [
        "Some examples of classification problems in the environmental sciences could include:\n",
        "\n",
        "*   whether a thunderstorm will produce severe hazards or be non-severe (i.e., binary) (e.g., Molina et al. 2021)\n",
        "*   whether a polynya event is occurring in the Ross Sea, Antarctica (i.e., binary) (e.g., DuVivier et al. 2023)\n",
        "*   type of cloud(s) that is(are) in a citizen science photograph (i.e., multiclass)\n",
        "*   subseasonal prediction of a North American weather regime class (i.e., multiclass) (e.g., Molina et al. 2023)\n",
        "\n",
        "Similar to how explained in the regression section, when using various input variables (i.e., features or channels), normalizing or standardizing the variables is needed to make sure they have a similar dynamic range."
      ],
      "metadata": {
        "id": "BrOXsxoUAjm7"
      }
    },
    {
      "cell_type": "markdown",
      "source": [
        "# Supervised Learning Classification Example\n",
        "\n",
        "---"
      ],
      "metadata": {
        "id": "Hd9l4RhAC6gu"
      }
    },
    {
      "cell_type": "markdown",
      "source": [
        "Using our work from the previous section, we will now use the data and reframe our problem to be a classification task. As before, we will use two input features."
      ],
      "metadata": {
        "id": "CFMnVVa5zti6"
      }
    },
    {
      "cell_type": "markdown",
      "source": [
        "However, we will use updraft helicity values (which represent storm updraft rotation) and convert this continuous value into two classes, \"not potentially severe\" and \"potentially severe\". More strongly rotating storms have a greater likelihood of producing severe hazards like tornadoes and large hail. We will use 75 m2/s2 as the delineation mark between the two classes. The two classes will be creating using integer encoding first, with 0 representing non-severe and 1 representing potentially severe, and then converting using one-hot encoding for subsequent training."
      ],
      "metadata": {
        "id": "y5R40_674lUy"
      }
    },
    {
      "cell_type": "code",
      "source": [
        "features = xr.concat([\n",
        "    ds['dbz_grid'].expand_dims(dim='feature', axis=3),\n",
        "    ds['ctt_grid'].expand_dims(dim='feature', axis=3)],\n",
        "          dim='feature')\n",
        "\n",
        "labels = ds['uh25_grid'].expand_dims(dim='feature', axis=3).max('x').max('y')\n",
        "\n",
        "train_feats, train_label, test_feats, test_label = random_split(features, labels)\n",
        "\n",
        "# normalization of our training data (note each feature individually processed!)\n",
        "train_feats_standardized = xr.concat([\n",
        "    z_score(train_feats.isel(feature=0).expand_dims(dim='feature', axis=3)),\n",
        "    z_score(train_feats.isel(feature=1).expand_dims(dim='feature', axis=3))],\n",
        "                                     dim='feature')\n",
        "\n",
        "train_label_ints = xr.where(train_label >= 75, 1, 0)"
      ],
      "metadata": {
        "id": "hj6bAjZ7zt5v"
      },
      "execution_count": 42,
      "outputs": []
    },
    {
      "cell_type": "code",
      "source": [
        "print(train_label.values[-2:])\n",
        "print(train_label_ints.values[-2:])"
      ],
      "metadata": {
        "colab": {
          "base_uri": "https://localhost:8080/"
        },
        "id": "dnlyxpuOzuCl",
        "outputId": "6c6019a7-0feb-4384-f81a-ed1228ec4146"
      },
      "execution_count": 43,
      "outputs": [
        {
          "output_type": "stream",
          "name": "stdout",
          "text": [
            "[[162.55905  ]\n",
            " [  1.8748366]]\n",
            "[[1]\n",
            " [0]]\n"
          ]
        }
      ]
    },
    {
      "cell_type": "code",
      "source": [
        "# convert labels into classes using one-hot encoding\n",
        "onehot_layer = keras.layers.CategoryEncoding(num_tokens=2, output_mode=\"one_hot\")\n",
        "train_y = onehot_layer(train_label_ints.astype(int))"
      ],
      "metadata": {
        "id": "LzGNl7wUzuKz"
      },
      "execution_count": 44,
      "outputs": []
    },
    {
      "cell_type": "code",
      "source": [
        "train_y[-2:]"
      ],
      "metadata": {
        "colab": {
          "base_uri": "https://localhost:8080/"
        },
        "id": "K7axDV9KzuY3",
        "outputId": "7f93d34f-81d1-42ba-a1c6-2f77b93e015d"
      },
      "execution_count": 45,
      "outputs": [
        {
          "output_type": "execute_result",
          "data": {
            "text/plain": [
              "<tf.Tensor: shape=(2, 2), dtype=float32, numpy=\n",
              "array([[0., 1.],\n",
              "       [1., 0.]], dtype=float32)>"
            ]
          },
          "metadata": {},
          "execution_count": 45
        }
      ]
    },
    {
      "cell_type": "code",
      "source": [
        "# out of more than 1000 samples, only 189 are the \"severe\" class\n",
        "print(train_y[:,1].numpy().sum())\n",
        "print(train_y[:,1].numpy().shape)"
      ],
      "metadata": {
        "colab": {
          "base_uri": "https://localhost:8080/"
        },
        "id": "lsRwqJjG7_Ec",
        "outputId": "3fa03eee-cd3d-4ea4-8155-6cc421233736"
      },
      "execution_count": 46,
      "outputs": [
        {
          "output_type": "stream",
          "name": "stdout",
          "text": [
            "189.0\n",
            "(1556,)\n"
          ]
        }
      ]
    },
    {
      "cell_type": "markdown",
      "source": [
        "Class imbalance is a major issue with a minority class that is a rare event, like severe hazards. To address this limitation, we create class weights that help the machine learning model learn that the minority class is important to get correct."
      ],
      "metadata": {
        "id": "12FrqE9C7_mS"
      }
    },
    {
      "cell_type": "code",
      "source": [
        "# generate class weights due to class imbalance issues\n",
        "# use the second class as the positive one (using 1 index)\n",
        "counts = np.bincount(train_y[:,1].numpy().astype(int))\n",
        "\n",
        "print(\"Number of positive samples in training data: {} ({:.2f}% of total)\".format(\n",
        "    counts[1], 100 * float(counts[1]) / len(train_y)))\n",
        "\n",
        "weight_for_0 = 1.0 / counts[0]\n",
        "weight_for_1 = 1.0 / counts[1]\n",
        "\n",
        "class_weight = {0: weight_for_0, 1: weight_for_1}\n",
        "print(class_weight)"
      ],
      "metadata": {
        "colab": {
          "base_uri": "https://localhost:8080/"
        },
        "id": "asYu-Bio70M6",
        "outputId": "b51e7a8d-b328-428d-bb5a-71eeb71dbb51"
      },
      "execution_count": 47,
      "outputs": [
        {
          "output_type": "stream",
          "name": "stdout",
          "text": [
            "Number of positive samples in training data: 189 (12.15% of total)\n",
            "{0: 0.000731528895391368, 1: 0.005291005291005291}\n"
          ]
        }
      ]
    },
    {
      "cell_type": "code",
      "source": [
        "# metrics that are useful for classification, particularly for two classes\n",
        "METRICS = [\n",
        "    keras.metrics.BinaryCrossentropy(name='cross entropy'),  # same as model's loss\n",
        "    keras.metrics.TruePositives(name='tp'),\n",
        "    keras.metrics.FalsePositives(name='fp'),\n",
        "    keras.metrics.TrueNegatives(name='tn'),\n",
        "    keras.metrics.FalseNegatives(name='fn'),\n",
        "    keras.metrics.BinaryAccuracy(name='accuracy'),\n",
        "    keras.metrics.Precision(name='precision'),\n",
        "    keras.metrics.Recall(name='recall'),\n",
        "    keras.metrics.AUC(name='auc'),\n",
        "    keras.metrics.AUC(name='prc', curve='PR'), # precision-recall curve\n",
        "]"
      ],
      "metadata": {
        "id": "xHmN3l2z70QS"
      },
      "execution_count": 48,
      "outputs": []
    },
    {
      "cell_type": "code",
      "source": [
        "model = keras.Sequential()\n",
        "\n",
        "# input\n",
        "model.add(keras.Input(shape=(32, 32, number_of_features)))  # 32x32 images\n",
        "\n",
        "# data augmentation layers\n",
        "#model.add(layers.RandomFlip(\"horizontal_and_vertical\"))\n",
        "#model.add(layers.RandomRotation(factor=(-0.5,0.5)))\n",
        "\n",
        "# hidden layers\n",
        "model.add(layers.Conv2D(32, 3, strides=1, padding=\"same\", activation=\"relu\"))\n",
        "model.add(layers.MaxPooling2D(2))\n",
        "model.add(layers.Dropout(0.2))\n",
        "\n",
        "model.add(layers.Conv2D(64, 3, strides=1, padding=\"same\", activation=\"relu\"))\n",
        "model.add(layers.MaxPooling2D(2))\n",
        "model.add(layers.Dropout(0.2))\n",
        "\n",
        "model.add(layers.Conv2D(128, 3, strides=1, padding=\"same\", activation=\"relu\"))\n",
        "model.add(layers.MaxPooling2D(2))\n",
        "model.add(layers.Dropout(0.2))\n",
        "\n",
        "# Now that we have 4x4 feature maps, now apply global max pooling.\n",
        "model.add(layers.GlobalMaxPooling2D())\n",
        "\n",
        "# Finally, we add last fully connected (dense) layers\n",
        "model.add(layers.Dense(64))\n",
        "model.add(layers.Dense(2, activation=\"softmax\"))\n",
        "\n",
        "# print model summary\n",
        "model.summary()"
      ],
      "metadata": {
        "colab": {
          "base_uri": "https://localhost:8080/"
        },
        "id": "BHBpYKnh70WR",
        "outputId": "96ef8716-269e-49ed-8ecb-f8b76c582b8b"
      },
      "execution_count": 49,
      "outputs": [
        {
          "output_type": "stream",
          "name": "stdout",
          "text": [
            "Model: \"sequential_1\"\n",
            "_________________________________________________________________\n",
            " Layer (type)                Output Shape              Param #   \n",
            "=================================================================\n",
            " conv2d_3 (Conv2D)           (None, 32, 32, 32)        608       \n",
            "                                                                 \n",
            " max_pooling2d_3 (MaxPoolin  (None, 16, 16, 32)        0         \n",
            " g2D)                                                            \n",
            "                                                                 \n",
            " dropout_3 (Dropout)         (None, 16, 16, 32)        0         \n",
            "                                                                 \n",
            " conv2d_4 (Conv2D)           (None, 16, 16, 64)        18496     \n",
            "                                                                 \n",
            " max_pooling2d_4 (MaxPoolin  (None, 8, 8, 64)          0         \n",
            " g2D)                                                            \n",
            "                                                                 \n",
            " dropout_4 (Dropout)         (None, 8, 8, 64)          0         \n",
            "                                                                 \n",
            " conv2d_5 (Conv2D)           (None, 8, 8, 128)         73856     \n",
            "                                                                 \n",
            " max_pooling2d_5 (MaxPoolin  (None, 4, 4, 128)         0         \n",
            " g2D)                                                            \n",
            "                                                                 \n",
            " dropout_5 (Dropout)         (None, 4, 4, 128)         0         \n",
            "                                                                 \n",
            " global_max_pooling2d_1 (Gl  (None, 128)               0         \n",
            " obalMaxPooling2D)                                               \n",
            "                                                                 \n",
            " dense_2 (Dense)             (None, 64)                8256      \n",
            "                                                                 \n",
            " dense_3 (Dense)             (None, 2)                 130       \n",
            "                                                                 \n",
            "=================================================================\n",
            "Total params: 101346 (395.88 KB)\n",
            "Trainable params: 101346 (395.88 KB)\n",
            "Non-trainable params: 0 (0.00 Byte)\n",
            "_________________________________________________________________\n"
          ]
        }
      ]
    },
    {
      "cell_type": "code",
      "source": [
        "model.compile(\n",
        "    optimizer=keras.optimizers.Adam(learning_rate=0.001),\n",
        "    loss=keras.losses.BinaryCrossentropy(), # categorical loss function\n",
        "    metrics=METRICS\n",
        ")"
      ],
      "metadata": {
        "id": "xS8iZ6Ro70bD"
      },
      "execution_count": 50,
      "outputs": []
    },
    {
      "cell_type": "code",
      "source": [
        "BATCH_SIZE = 32\n",
        "EPOCHS = 10"
      ],
      "metadata": {
        "id": "m0jmE_7k823F"
      },
      "execution_count": 51,
      "outputs": []
    },
    {
      "cell_type": "code",
      "source": [
        "print(\"Fit model on training data\")\n",
        "history = model.fit(\n",
        "    x=train_feats_standardized.values,\n",
        "    y=train_y,\n",
        "    batch_size=BATCH_SIZE,\n",
        "    epochs=EPOCHS,\n",
        "    validation_split=0.1,\n",
        "    shuffle=True,\n",
        "    class_weight=class_weight,\n",
        ")"
      ],
      "metadata": {
        "colab": {
          "base_uri": "https://localhost:8080/"
        },
        "id": "o3wCne8Q826e",
        "outputId": "46f513ad-af20-4a71-a49c-4d395053948f"
      },
      "execution_count": 52,
      "outputs": [
        {
          "output_type": "stream",
          "name": "stdout",
          "text": [
            "Fit model on training data\n",
            "Epoch 1/10\n",
            "44/44 [==============================] - 5s 68ms/step - loss: 7.5593e-04 - cross entropy: 0.6303 - tp: 803.0000 - fp: 597.0000 - tn: 803.0000 - fn: 597.0000 - accuracy: 0.5736 - precision: 0.5736 - recall: 0.5736 - auc: 0.6796 - prc: 0.7109 - val_loss: 0.7091 - val_cross entropy: 0.7091 - val_tp: 69.0000 - val_fp: 87.0000 - val_tn: 69.0000 - val_fn: 87.0000 - val_accuracy: 0.4423 - val_precision: 0.4423 - val_recall: 0.4423 - val_auc: 0.6096 - val_prc: 0.6809\n",
            "Epoch 2/10\n",
            "44/44 [==============================] - 2s 48ms/step - loss: 6.0370e-04 - cross entropy: 0.5456 - tp: 876.0000 - fp: 524.0000 - tn: 876.0000 - fn: 524.0000 - accuracy: 0.6257 - precision: 0.6257 - recall: 0.6257 - auc: 0.7663 - prc: 0.7940 - val_loss: 0.6526 - val_cross entropy: 0.6526 - val_tp: 86.0000 - val_fp: 70.0000 - val_tn: 86.0000 - val_fn: 70.0000 - val_accuracy: 0.5513 - val_precision: 0.5513 - val_recall: 0.5513 - val_auc: 0.6744 - val_prc: 0.7179\n",
            "Epoch 3/10\n",
            "44/44 [==============================] - 2s 48ms/step - loss: 5.8266e-04 - cross entropy: 0.4847 - tp: 1029.0000 - fp: 371.0000 - tn: 1029.0000 - fn: 371.0000 - accuracy: 0.7350 - precision: 0.7350 - recall: 0.7350 - auc: 0.8354 - prc: 0.8432 - val_loss: 0.4093 - val_cross entropy: 0.4093 - val_tp: 136.0000 - val_fp: 20.0000 - val_tn: 136.0000 - val_fn: 20.0000 - val_accuracy: 0.8718 - val_precision: 0.8718 - val_recall: 0.8718 - val_auc: 0.9481 - val_prc: 0.9491\n",
            "Epoch 4/10\n",
            "44/44 [==============================] - 2s 46ms/step - loss: 4.3355e-04 - cross entropy: 0.3931 - tp: 1147.0000 - fp: 253.0000 - tn: 1147.0000 - fn: 253.0000 - accuracy: 0.8193 - precision: 0.8193 - recall: 0.8193 - auc: 0.9049 - prc: 0.9057 - val_loss: 0.3507 - val_cross entropy: 0.3507 - val_tp: 141.0000 - val_fp: 15.0000 - val_tn: 141.0000 - val_fn: 15.0000 - val_accuracy: 0.9038 - val_precision: 0.9038 - val_recall: 0.9038 - val_auc: 0.9515 - val_prc: 0.9441\n",
            "Epoch 5/10\n",
            "44/44 [==============================] - 2s 48ms/step - loss: 3.7358e-04 - cross entropy: 0.3095 - tp: 1247.0000 - fp: 153.0000 - tn: 1247.0000 - fn: 153.0000 - accuracy: 0.8907 - precision: 0.8907 - recall: 0.8907 - auc: 0.9471 - prc: 0.9408 - val_loss: 0.2474 - val_cross entropy: 0.2474 - val_tp: 148.0000 - val_fp: 8.0000 - val_tn: 148.0000 - val_fn: 8.0000 - val_accuracy: 0.9487 - val_precision: 0.9487 - val_recall: 0.9487 - val_auc: 0.9850 - val_prc: 0.9849\n",
            "Epoch 6/10\n",
            "44/44 [==============================] - 2s 55ms/step - loss: 3.0187e-04 - cross entropy: 0.2406 - tp: 1295.0000 - fp: 105.0000 - tn: 1295.0000 - fn: 105.0000 - accuracy: 0.9250 - precision: 0.9250 - recall: 0.9250 - auc: 0.9666 - prc: 0.9624 - val_loss: 0.4570 - val_cross entropy: 0.4570 - val_tp: 127.0000 - val_fp: 29.0000 - val_tn: 127.0000 - val_fn: 29.0000 - val_accuracy: 0.8141 - val_precision: 0.8141 - val_recall: 0.8141 - val_auc: 0.8798 - val_prc: 0.8684\n",
            "Epoch 7/10\n",
            "44/44 [==============================] - 2s 47ms/step - loss: 3.1862e-04 - cross entropy: 0.2615 - tp: 1269.0000 - fp: 131.0000 - tn: 1269.0000 - fn: 131.0000 - accuracy: 0.9064 - precision: 0.9064 - recall: 0.9064 - auc: 0.9548 - prc: 0.9476 - val_loss: 0.4471 - val_cross entropy: 0.4471 - val_tp: 132.0000 - val_fp: 24.0000 - val_tn: 132.0000 - val_fn: 24.0000 - val_accuracy: 0.8462 - val_precision: 0.8462 - val_recall: 0.8462 - val_auc: 0.8668 - val_prc: 0.8544\n",
            "Epoch 8/10\n",
            "44/44 [==============================] - 2s 46ms/step - loss: 3.0368e-04 - cross entropy: 0.2547 - tp: 1279.0000 - fp: 121.0000 - tn: 1279.0000 - fn: 121.0000 - accuracy: 0.9136 - precision: 0.9136 - recall: 0.9136 - auc: 0.9573 - prc: 0.9488 - val_loss: 0.2225 - val_cross entropy: 0.2225 - val_tp: 144.0000 - val_fp: 12.0000 - val_tn: 144.0000 - val_fn: 12.0000 - val_accuracy: 0.9231 - val_precision: 0.9231 - val_recall: 0.9231 - val_auc: 0.9798 - val_prc: 0.9801\n",
            "Epoch 9/10\n",
            "44/44 [==============================] - 2s 46ms/step - loss: 2.2510e-04 - cross entropy: 0.1986 - tp: 1311.0000 - fp: 89.0000 - tn: 1311.0000 - fn: 89.0000 - accuracy: 0.9364 - precision: 0.9364 - recall: 0.9364 - auc: 0.9769 - prc: 0.9723 - val_loss: 0.1948 - val_cross entropy: 0.1948 - val_tp: 143.0000 - val_fp: 13.0000 - val_tn: 143.0000 - val_fn: 13.0000 - val_accuracy: 0.9167 - val_precision: 0.9167 - val_recall: 0.9167 - val_auc: 0.9857 - val_prc: 0.9863\n",
            "Epoch 10/10\n",
            "44/44 [==============================] - 2s 45ms/step - loss: 1.9191e-04 - cross entropy: 0.1598 - tp: 1327.0000 - fp: 73.0000 - tn: 1327.0000 - fn: 73.0000 - accuracy: 0.9479 - precision: 0.9479 - recall: 0.9479 - auc: 0.9821 - prc: 0.9796 - val_loss: 0.1408 - val_cross entropy: 0.1408 - val_tp: 147.0000 - val_fp: 9.0000 - val_tn: 147.0000 - val_fn: 9.0000 - val_accuracy: 0.9423 - val_precision: 0.9423 - val_recall: 0.9423 - val_auc: 0.9920 - val_prc: 0.9923\n"
          ]
        }
      ]
    },
    {
      "cell_type": "code",
      "source": [
        "plt.plot(history.history[\"accuracy\"])\n",
        "plt.plot(history.history[\"val_accuracy\"])\n",
        "plt.show()"
      ],
      "metadata": {
        "colab": {
          "base_uri": "https://localhost:8080/",
          "height": 430
        },
        "id": "H1FKdrnY829W",
        "outputId": "5b68bf3b-4b48-49dc-9c37-de47b0fa8255"
      },
      "execution_count": 53,
      "outputs": [
        {
          "output_type": "display_data",
          "data": {
            "text/plain": [
              "<Figure size 640x480 with 1 Axes>"
            ],
            "image/png": "[encoded data removed]"
          },
          "metadata": {}
        }
      ]
    },
    {
      "cell_type": "code",
      "source": [
        "# normalization of our training data (note each feature individually processed!)\n",
        "test_feats_standardized = xr.concat([\n",
        "    z_score_testing(\n",
        "        train_feats.isel(feature=0).expand_dims(dim='feature', axis=3),\n",
        "        test_feats.isel(feature=0).expand_dims(dim='feature', axis=3)\n",
        "        ),\n",
        "    z_score_testing(\n",
        "        train_feats.isel(feature=1).expand_dims(dim='feature', axis=3),\n",
        "        test_feats.isel(feature=1).expand_dims(dim='feature', axis=3)\n",
        "        )],\n",
        "                                     dim='feature')\n",
        "\n",
        "test_label_ints = xr.where(test_label >= 75, 1, 0)\n",
        "test_y = onehot_layer(test_label_ints.astype(int))"
      ],
      "metadata": {
        "id": "zMbEUR_O83Aw"
      },
      "execution_count": 54,
      "outputs": []
    },
    {
      "cell_type": "code",
      "source": [
        "# Evaluate the model on the test data using `evaluate`\n",
        "print(\"Evaluate on test data\")\n",
        "results = model.evaluate(test_feats_standardized.values, test_y, batch_size=128)\n",
        "print(results)"
      ],
      "metadata": {
        "colab": {
          "base_uri": "https://localhost:8080/"
        },
        "id": "KZ4Zljo_-a7c",
        "outputId": "023c8b41-3fa2-4654-8972-7bdedd526a3a"
      },
      "execution_count": 55,
      "outputs": [
        {
          "output_type": "stream",
          "name": "stdout",
          "text": [
            "Evaluate on test data\n",
            "6/6 [==============================] - 0s 40ms/step - loss: 0.1566 - cross entropy: 0.1566 - tp: 634.0000 - fp: 34.0000 - tn: 634.0000 - fn: 34.0000 - accuracy: 0.9491 - precision: 0.9491 - recall: 0.9491 - auc: 0.9865 - prc: 0.9847\n",
            "[0.15658392012119293, 0.15658392012119293, 634.0, 34.0, 634.0, 34.0, 0.9491018056869507, 0.9491018056869507, 0.9491018056869507, 0.9865292310714722, 0.9847036004066467]\n"
          ]
        }
      ]
    },
    {
      "cell_type": "code",
      "source": [
        "# generate predictions using the trained model\n",
        "predictions = model.predict(test_feats_standardized.values)"
      ],
      "metadata": {
        "colab": {
          "base_uri": "https://localhost:8080/"
        },
        "id": "9fcwNVSZ-a_X",
        "outputId": "9490034c-af59-46aa-d963-986b0450af78"
      },
      "execution_count": 56,
      "outputs": [
        {
          "output_type": "stream",
          "name": "stdout",
          "text": [
            "21/21 [==============================] - 0s 14ms/step\n"
          ]
        }
      ]
    },
    {
      "cell_type": "code",
      "source": [
        "pred_ints = xr.where(predictions[:,1]>0.5, 1, 0)"
      ],
      "metadata": {
        "id": "tHLyxWLVAqed"
      },
      "execution_count": 57,
      "outputs": []
    },
    {
      "cell_type": "code",
      "source": [
        "from sklearn.metrics.cluster import contingency_matrix\n",
        "contingency_matrix(test_label_ints.astype(int).values.squeeze(), pred_ints)\n",
        "# tend to predict more false positives"
      ],
      "metadata": {
        "colab": {
          "base_uri": "https://localhost:8080/"
        },
        "id": "JrZYzjM9_eLj",
        "outputId": "52c87e5b-750d-452e-97ba-8232aba8f32c"
      },
      "execution_count": 58,
      "outputs": [
        {
          "output_type": "execute_result",
          "data": {
            "text/plain": [
              "array([[555,  21],\n",
              "       [ 13,  79]])"
            ]
          },
          "metadata": {},
          "execution_count": 58
        }
      ]
    },
    {
      "cell_type": "code",
      "source": [
        "test_label_ints.astype(int).sum().values"
      ],
      "metadata": {
        "colab": {
          "base_uri": "https://localhost:8080/"
        },
        "id": "UwAmxuqcBJ1K",
        "outputId": "73556e64-5a81-403c-a29f-9b3e349a163d"
      },
      "execution_count": 59,
      "outputs": [
        {
          "output_type": "execute_result",
          "data": {
            "text/plain": [
              "array(92)"
            ]
          },
          "metadata": {},
          "execution_count": 59
        }
      ]
    },
    {
      "cell_type": "code",
      "source": [
        "pred_ints.sum() - 92"
      ],
      "metadata": {
        "colab": {
          "base_uri": "https://localhost:8080/"
        },
        "id": "Bb-w77AwBfUV",
        "outputId": "ae962f47-9eaa-4f7e-e5ef-292abbab7b0b"
      },
      "execution_count": 60,
      "outputs": [
        {
          "output_type": "execute_result",
          "data": {
            "text/plain": [
              "8"
            ]
          },
          "metadata": {},
          "execution_count": 60
        }
      ]
    },
    {
      "cell_type": "markdown",
      "source": [
        "# Tutorial Practice: What happens if we do not use class weights during training?\n",
        "\n",
        "---"
      ],
      "metadata": {
        "id": "KmokO1cq9_RS"
      }
    },
    {
      "cell_type": "code",
      "source": [
        "# recreate the model object"
      ],
      "metadata": {
        "id": "0a43SpER-Mxd"
      },
      "execution_count": 61,
      "outputs": []
    },
    {
      "cell_type": "code",
      "source": [
        "# recompile the model"
      ],
      "metadata": {
        "id": "ITEZzW3y-M02"
      },
      "execution_count": 62,
      "outputs": []
    },
    {
      "cell_type": "code",
      "source": [
        "# retrain the model without class weights"
      ],
      "metadata": {
        "id": "Xak_WCCB-M3-"
      },
      "execution_count": 63,
      "outputs": []
    },
    {
      "cell_type": "code",
      "source": [
        "# evaluate the new model's skill"
      ],
      "metadata": {
        "id": "qwdW6YEP-NCM"
      },
      "execution_count": 64,
      "outputs": []
    },
    {
      "cell_type": "markdown",
      "source": [
        "## **Unsupervised Learning**\n",
        "\n",
        "---\n",
        "\n",
        "Unsupervised learning refers to machine learning tasks where the dataset does not contain predictands (y) and solely contains predictors (x). In other words, in unsupervised learning, we do not know the \"answers\" or have labels beforehand. Unsupervised learning is particularly useful for dimensionality reduction, anomaly detection, image denoising, and pattern grouping (e.g., clustering)."
      ],
      "metadata": {
        "id": "oOZ_y1G8dFgF"
      }
    },
    {
      "cell_type": "markdown",
      "source": [
        "![supervised](https://drive.google.com/uc?export=view&id=1HEcZ4VXU_Q9Y9rrgnRkAg4JdjRJSs9Nj)"
      ],
      "metadata": {
        "id": "2zqQVMG879C9"
      }
    },
    {
      "cell_type": "markdown",
      "source": [
        "Some examples of unsupervised learning problems in the environmental sciences include:\n",
        "\n",
        "*   uncovering common polynya event patterns from sea ice concentration in the Ross Sea, Antarctica (e.g., DuVivier et al. 2023)\n",
        "*   grouping high shear-low CAPE severe thunderstorm event environments (e.g., Campbell et al. 2024)\n",
        "*   identifying subseasonal weather regimes over North America (e.g., Molina et al. 2023)\n",
        "*   creating an index for a climate teleconnection, such as ENSO teleconnection to Southern California precipitation (e.g., Passarella and Mahajan 2023)\n",
        "\n"
      ],
      "metadata": {
        "id": "YEwMoWtbA7fV"
      }
    },
    {
      "cell_type": "markdown",
      "source": [
        "# Unsupervised Learning Example\n",
        "\n",
        "---"
      ],
      "metadata": {
        "id": "FWOflQWICzK9"
      }
    },
    {
      "cell_type": "markdown",
      "source": [
        "We will be training an autoencoder to perform the task of anomaly detection. For anomaly detection, we would note instances where reconstruction error for an image is higher, indicating that the sample was likely not similar to those in the training set distribution.\n",
        "\n",
        "We will again use the previous data, but this time we will focus on reconstructing one input variable (feature)."
      ],
      "metadata": {
        "id": "2I2BURFEDLj6"
      }
    },
    {
      "cell_type": "code",
      "execution_count": 65,
      "metadata": {
        "id": "CF3Qy6sIOlqP"
      },
      "outputs": [],
      "source": [
        "features = xr.concat([\n",
        "    ds['ctt_grid'].expand_dims(dim='feature', axis=3)],\n",
        "          dim='feature')\n",
        "\n",
        "# note that we are reconstructing the respective input image/variable\n",
        "train_feats, _, test_feats, _ = random_split(features, features)\n",
        "\n",
        "# normalization of our training data (note each feature individually processed!)\n",
        "train_feats_standardized = xr.concat([\n",
        "    z_score(train_feats.isel(feature=0).expand_dims(dim='feature', axis=3))],\n",
        "                                     dim='feature')"
      ]
    },
    {
      "cell_type": "code",
      "source": [
        "number_of_features = 1"
      ],
      "metadata": {
        "id": "yYD-l_b-E1jB"
      },
      "execution_count": 66,
      "outputs": []
    },
    {
      "cell_type": "code",
      "source": [
        "model = keras.Sequential()\n",
        "\n",
        "# input\n",
        "model.add(keras.Input(shape=(32, 32, number_of_features)))  # 32x32 images\n",
        "\n",
        "# encoder\n",
        "# hidden layers\n",
        "model.add(layers.Conv2D(16, 3, strides=1, padding=\"same\", activation=\"relu\"))\n",
        "model.add(layers.MaxPooling2D(2))\n",
        "\n",
        "model.add(layers.Conv2D(8, 3, strides=1, padding=\"same\", activation=\"relu\"))\n",
        "model.add(layers.MaxPooling2D(2))\n",
        "\n",
        "model.add(layers.Conv2D(4, 3, strides=1, padding=\"same\", activation=\"relu\"))\n",
        "model.add(layers.MaxPooling2D(2))\n",
        "\n",
        "# decoder\n",
        "model.add(layers.Conv2D(4, 3, strides=1, padding=\"same\", activation=\"relu\"))\n",
        "model.add(layers.UpSampling2D(2))\n",
        "\n",
        "model.add(layers.Conv2D(8, 3, strides=1, padding=\"same\", activation=\"relu\"))\n",
        "model.add(layers.UpSampling2D(2))\n",
        "\n",
        "model.add(layers.Conv2D(16, 3, strides=1, padding=\"same\", activation=\"relu\"))\n",
        "model.add(layers.UpSampling2D(2))\n",
        "\n",
        "# Finally, we add last layer\n",
        "model.add(layers.Conv2D(1, (3, 3), activation='linear', padding='same'))\n",
        "\n",
        "# print model summary\n",
        "model.summary()"
      ],
      "metadata": {
        "colab": {
          "base_uri": "https://localhost:8080/"
        },
        "id": "teWxwzffDhyu",
        "outputId": "a7e6fc2e-b8fd-4c1c-eaba-de04c2d7ea42"
      },
      "execution_count": 67,
      "outputs": [
        {
          "output_type": "stream",
          "name": "stdout",
          "text": [
            "Model: \"sequential_2\"\n",
            "_________________________________________________________________\n",
            " Layer (type)                Output Shape              Param #   \n",
            "=================================================================\n",
            " conv2d_6 (Conv2D)           (None, 32, 32, 16)        160       \n",
            "                                                                 \n",
            " max_pooling2d_6 (MaxPoolin  (None, 16, 16, 16)        0         \n",
            " g2D)                                                            \n",
            "                                                                 \n",
            " conv2d_7 (Conv2D)           (None, 16, 16, 8)         1160      \n",
            "                                                                 \n",
            " max_pooling2d_7 (MaxPoolin  (None, 8, 8, 8)           0         \n",
            " g2D)                                                            \n",
            "                                                                 \n",
            " conv2d_8 (Conv2D)           (None, 8, 8, 4)           292       \n",
            "                                                                 \n",
            " max_pooling2d_8 (MaxPoolin  (None, 4, 4, 4)           0         \n",
            " g2D)                                                            \n",
            "                                                                 \n",
            " conv2d_9 (Conv2D)           (None, 4, 4, 4)           148       \n",
            "                                                                 \n",
            " up_sampling2d (UpSampling2  (None, 8, 8, 4)           0         \n",
            " D)                                                              \n",
            "                                                                 \n",
            " conv2d_10 (Conv2D)          (None, 8, 8, 8)           296       \n",
            "                                                                 \n",
            " up_sampling2d_1 (UpSamplin  (None, 16, 16, 8)         0         \n",
            " g2D)                                                            \n",
            "                                                                 \n",
            " conv2d_11 (Conv2D)          (None, 16, 16, 16)        1168      \n",
            "                                                                 \n",
            " up_sampling2d_2 (UpSamplin  (None, 32, 32, 16)        0         \n",
            " g2D)                                                            \n",
            "                                                                 \n",
            " conv2d_12 (Conv2D)          (None, 32, 32, 1)         145       \n",
            "                                                                 \n",
            "=================================================================\n",
            "Total params: 3369 (13.16 KB)\n",
            "Trainable params: 3369 (13.16 KB)\n",
            "Non-trainable params: 0 (0.00 Byte)\n",
            "_________________________________________________________________\n"
          ]
        }
      ]
    },
    {
      "cell_type": "code",
      "source": [
        "METRICS = [\n",
        "    keras.metrics.MeanSquaredError(name='mean_squared_error'),\n",
        "    keras.metrics.RootMeanSquaredError(name='root_mean_squared_error'),\n",
        "]\n",
        "\n",
        "model.compile(\n",
        "    optimizer=keras.optimizers.Adam(learning_rate=0.001),\n",
        "    loss=\"mean_squared_error\",\n",
        "    metrics=METRICS\n",
        ")\n",
        "\n",
        "BATCH_SIZE = 32\n",
        "EPOCHS = 10"
      ],
      "metadata": {
        "id": "iutgSt7QDh77"
      },
      "execution_count": 68,
      "outputs": []
    },
    {
      "cell_type": "code",
      "source": [
        "history = model.fit(\n",
        "    x=train_feats_standardized.values,\n",
        "    y=train_feats_standardized.values,\n",
        "    batch_size=BATCH_SIZE,\n",
        "    epochs=EPOCHS,\n",
        "    validation_split=0.1,\n",
        "    shuffle=True,\n",
        ")"
      ],
      "metadata": {
        "colab": {
          "base_uri": "https://localhost:8080/"
        },
        "id": "NJ2SPdP3HL6l",
        "outputId": "7962aefa-fe38-4057-f6fb-16faf90d9c28"
      },
      "execution_count": 69,
      "outputs": [
        {
          "output_type": "stream",
          "name": "stdout",
          "text": [
            "Epoch 1/10\n",
            "44/44 [==============================] - 3s 40ms/step - loss: 0.6365 - mean_squared_error: 0.6365 - root_mean_squared_error: 0.7978 - val_loss: 0.4575 - val_mean_squared_error: 0.4575 - val_root_mean_squared_error: 0.6764\n",
            "Epoch 2/10\n",
            "44/44 [==============================] - 1s 27ms/step - loss: 0.1989 - mean_squared_error: 0.1989 - root_mean_squared_error: 0.4460 - val_loss: 0.0809 - val_mean_squared_error: 0.0809 - val_root_mean_squared_error: 0.2845\n",
            "Epoch 3/10\n",
            "44/44 [==============================] - 1s 27ms/step - loss: 0.0675 - mean_squared_error: 0.0675 - root_mean_squared_error: 0.2599 - val_loss: 0.0644 - val_mean_squared_error: 0.0644 - val_root_mean_squared_error: 0.2538\n",
            "Epoch 4/10\n",
            "44/44 [==============================] - 1s 26ms/step - loss: 0.0543 - mean_squared_error: 0.0543 - root_mean_squared_error: 0.2330 - val_loss: 0.0549 - val_mean_squared_error: 0.0549 - val_root_mean_squared_error: 0.2342\n",
            "Epoch 5/10\n",
            "44/44 [==============================] - 1s 27ms/step - loss: 0.0478 - mean_squared_error: 0.0478 - root_mean_squared_error: 0.2186 - val_loss: 0.0505 - val_mean_squared_error: 0.0505 - val_root_mean_squared_error: 0.2246\n",
            "Epoch 6/10\n",
            "44/44 [==============================] - 1s 26ms/step - loss: 0.0438 - mean_squared_error: 0.0438 - root_mean_squared_error: 0.2094 - val_loss: 0.0481 - val_mean_squared_error: 0.0481 - val_root_mean_squared_error: 0.2193\n",
            "Epoch 7/10\n",
            "44/44 [==============================] - 1s 27ms/step - loss: 0.0411 - mean_squared_error: 0.0411 - root_mean_squared_error: 0.2028 - val_loss: 0.0441 - val_mean_squared_error: 0.0441 - val_root_mean_squared_error: 0.2100\n",
            "Epoch 8/10\n",
            "44/44 [==============================] - 1s 27ms/step - loss: 0.0380 - mean_squared_error: 0.0380 - root_mean_squared_error: 0.1949 - val_loss: 0.0461 - val_mean_squared_error: 0.0461 - val_root_mean_squared_error: 0.2147\n",
            "Epoch 9/10\n",
            "44/44 [==============================] - 1s 26ms/step - loss: 0.0374 - mean_squared_error: 0.0374 - root_mean_squared_error: 0.1934 - val_loss: 0.0392 - val_mean_squared_error: 0.0392 - val_root_mean_squared_error: 0.1979\n",
            "Epoch 10/10\n",
            "44/44 [==============================] - 2s 35ms/step - loss: 0.0347 - mean_squared_error: 0.0347 - root_mean_squared_error: 0.1863 - val_loss: 0.0380 - val_mean_squared_error: 0.0380 - val_root_mean_squared_error: 0.1951\n"
          ]
        }
      ]
    },
    {
      "cell_type": "code",
      "source": [
        "plt.plot(history.history[\"mean_squared_error\"], c='k')\n",
        "plt.plot(history.history[\"val_mean_squared_error\"], c='r')\n",
        "plt.show()"
      ],
      "metadata": {
        "colab": {
          "base_uri": "https://localhost:8080/",
          "height": 430
        },
        "id": "m7Ysy6IFId2i",
        "outputId": "44d37a60-96d5-4074-894c-f73c4d159692"
      },
      "execution_count": 70,
      "outputs": [
        {
          "output_type": "display_data",
          "data": {
            "text/plain": [
              "<Figure size 640x480 with 1 Axes>"
            ],
            "image/png": "[encoded data removed]"
          },
          "metadata": {}
        }
      ]
    },
    {
      "cell_type": "code",
      "source": [
        "# normalization of our training data (note each feature individually processed!)\n",
        "test_feats_standardized = xr.concat([\n",
        "    z_score_testing(\n",
        "        train_feats.isel(feature=0).expand_dims(dim='feature', axis=3),\n",
        "        test_feats.isel(feature=0).expand_dims(dim='feature', axis=3)\n",
        "        )],\n",
        "                                     dim='feature')"
      ],
      "metadata": {
        "id": "I3QHjf_UHOHC"
      },
      "execution_count": 71,
      "outputs": []
    },
    {
      "cell_type": "code",
      "source": [
        "# Evaluate the model on the test data using `evaluate`\n",
        "print(\"Evaluate on test data\")\n",
        "results = model.evaluate(test_feats_standardized.values, test_feats_standardized.values, batch_size=128)\n",
        "print(results)"
      ],
      "metadata": {
        "colab": {
          "base_uri": "https://localhost:8080/"
        },
        "id": "UJknPtMCIRcg",
        "outputId": "371ec1c2-51b9-48f6-d18c-31d0a0fe2e95"
      },
      "execution_count": 72,
      "outputs": [
        {
          "output_type": "stream",
          "name": "stdout",
          "text": [
            "Evaluate on test data\n",
            "6/6 [==============================] - 0s 24ms/step - loss: 0.0348 - mean_squared_error: 0.0348 - root_mean_squared_error: 0.1865\n",
            "[0.034794196486473083, 0.034794196486473083, 0.18653202056884766]\n"
          ]
        }
      ]
    },
    {
      "cell_type": "code",
      "source": [
        "# for predict anomalies/outliers in the training dataset\n",
        "prediction = model.predict(test_feats_standardized.values)\n",
        "\n",
        "# for get the mean absolute error between actual and reconstruction/prediction\n",
        "prediction_loss = keras.losses.mae(prediction, test_feats_standardized.values)\n",
        "\n",
        "# for check the prediction loss threshold for 2% of outliers\n",
        "loss_threshold = np.percentile(np.mean(prediction_loss, axis=(1,2)), 98)\n",
        "\n",
        "print(f'The prediction loss threshold for 2% of outliers is {loss_threshold:.2f}')\n",
        "# for visualize the threshold\n",
        "plt.hist(np.mean(prediction_loss, axis=(1,2)), bins=30, alpha=0.8)\n",
        "plt.axvline(x=loss_threshold, color='orange')\n",
        "plt.show()"
      ],
      "metadata": {
        "colab": {
          "base_uri": "https://localhost:8080/",
          "height": 465
        },
        "id": "JF74bbloI-Tz",
        "outputId": "ecc73336-71fe-475b-a3cc-2fe02a4d4b3d"
      },
      "execution_count": 73,
      "outputs": [
        {
          "output_type": "stream",
          "name": "stdout",
          "text": [
            "21/21 [==============================] - 0s 9ms/step\n",
            "The prediction loss threshold for 2% of outliers is 0.27\n"
          ]
        },
        {
          "output_type": "display_data",
          "data": {
            "text/plain": [
              "<Figure size 640x480 with 1 Axes>"
            ],
            "image/png": "[encoded data removed]"
          },
          "metadata": {}
        }
      ]
    },
    {
      "cell_type": "markdown",
      "source": [
        "# References\n",
        "\n",
        "Campbell, T., G. M. Lackmann, M. J. Molina, and M. D. Parker (2024). Severe Convective Storms in Limited Instability Organized by Pattern and Distribution. Weather and Forecasting. https://journals.ametsoc.org/view/journals/wefo/39/1/WAF-D-23-0130.1.xml\n",
        "\n",
        "DuVivier, A. K., M. J. Molina, A. L. Deppenmeier, M. M. Holland, L. Landrum, K. Krumhardt, and S. Jenouvrier (2023). Projections of Winter Polynyas and Their Biophysical Impacts in the Ross Sea Antarctica. Climate Dynamics. https://link.springer.com/article/10.1007/s00382-023-06951-z\n",
        "\n",
        "Molina, M. J., D. J. Gagne, and A. F. Prein (2021). A benchmark to test generalization capabilities of deep learning methods to classify severe convective storms in a changing climate. Earth and Space Science. https://agupubs.onlinelibrary.wiley.com/doi/full/10.1029/2020EA001490\n",
        "\n",
        "Molina, M. J., T. A. O'Brien, G. Anderson, M. Ashfaq, K. E. Bennett, W. D. Collins, K. Dagon, J. M. Restrepo, and P. A. Ullrich (2023). A Review of Recent and Emerging Machine Learning Applications for Climate Variability and Weather Phenomena. Artificial Intelligence for the Earth Systems. https://journals.ametsoc.org/view/journals/aies/2/4/AIES-D-22-0086.1.xml\n",
        "\n",
        "Molina, M. J., J. H. Richter, A. A. Glanville, K. Dagon, J. Berner, A. Hu, and G. A. Meehl (2023). Subseasonal Representation and Predictability of North American Weather Regimes using Cluster Analysis. Artificial Intelligence for the Earth Systems. https://journals.ametsoc.org/view/journals/aies/2/2/AIES-D-22-0051.1.xml\n",
        "\n",
        "Passarella, L.S. and Mahajan, S., 2023. Assessing Tropical Pacific–Induced Predictability of Southern California Precipitation Using a Novel Multi-Input Multioutput Autoencoder. Artificial Intelligence for the Earth Systems, 2(4), p.e230003. https://journals.ametsoc.org/view/journals/aies/2/4/AIES-D-23-0003.1.xml"
      ],
      "metadata": {
        "id": "Y8DYzxtePqCH"
      }
    }
  ]
}